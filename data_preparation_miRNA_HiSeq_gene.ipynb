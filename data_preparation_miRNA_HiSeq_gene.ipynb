{
  "nbformat": 4,
  "nbformat_minor": 0,
  "metadata": {
    "colab": {
      "provenance": [],
      "authorship_tag": "ABX9TyOHRsdHTXV7DJ3FXzBepKe8",
      "include_colab_link": true
    },
    "kernelspec": {
      "name": "python3",
      "display_name": "Python 3"
    },
    "language_info": {
      "name": "python"
    }
  },
  "cells": [
    {
      "cell_type": "markdown",
      "metadata": {
        "id": "view-in-github",
        "colab_type": "text"
      },
      "source": [
        "<a href=\"https://colab.research.google.com/github/nadunchanna98/MultiOmics-CervicalCancer-MachineLearning-DataProcessing/blob/main/data_preparation_miRNA_HiSeq_gene.ipynb\" target=\"_parent\"><img src=\"https://colab.research.google.com/assets/colab-badge.svg\" alt=\"Open In Colab\"/></a>"
      ]
    },
    {
      "cell_type": "code",
      "execution_count": 1,
      "metadata": {
        "colab": {
          "base_uri": "https://localhost:8080/"
        },
        "id": "d_drWzB1Of7a",
        "outputId": "83980fa9-2833-4264-93fc-eebefbdf69e0"
      },
      "outputs": [
        {
          "output_type": "stream",
          "name": "stdout",
          "text": [
            "Mounted at /content/drive\n"
          ]
        }
      ],
      "source": [
        "from google.colab import drive\n",
        "drive.mount('/content/drive')"
      ]
    },
    {
      "cell_type": "code",
      "source": [
        "import os\n",
        "os.chdir('/content/drive/My Drive/RESEACH/TCGA Cervical Cancer (CESC)')"
      ],
      "metadata": {
        "id": "hpbGfdVkedPN"
      },
      "execution_count": 2,
      "outputs": []
    },
    {
      "cell_type": "code",
      "source": [
        "import numpy as np\n",
        "import pandas as pd\n",
        "import seaborn as sns\n",
        "import matplotlib.pyplot as plt\n",
        "\n",
        "df = pd.read_csv('miRNA_HiSeq_gene', delimiter='\\t')"
      ],
      "metadata": {
        "id": "eVms7XmMfMQ-"
      },
      "execution_count": 3,
      "outputs": []
    },
    {
      "cell_type": "code",
      "source": [
        "df.shape"
      ],
      "metadata": {
        "colab": {
          "base_uri": "https://localhost:8080/"
        },
        "id": "LsbmwLHngQmH",
        "outputId": "05b1a420-7bc8-46ab-9f04-6021993c42bf"
      },
      "execution_count": 4,
      "outputs": [
        {
          "output_type": "execute_result",
          "data": {
            "text/plain": [
              "(2200, 312)"
            ]
          },
          "metadata": {},
          "execution_count": 4
        }
      ]
    },
    {
      "cell_type": "code",
      "source": [
        "df"
      ],
      "metadata": {
        "colab": {
          "base_uri": "https://localhost:8080/",
          "height": 519
        },
        "id": "LJWuwo7mhCTM",
        "outputId": "5131572b-e6f7-4546-f158-0216f20a1792"
      },
      "execution_count": 5,
      "outputs": [
        {
          "output_type": "execute_result",
          "data": {
            "text/plain": [
              "            sample  TCGA-BI-A0VS-01  TCGA-C5-A1MP-01  TCGA-C5-A2M1-01  \\\n",
              "0     MIMAT0019868         0.151000           0.2034         0.291900   \n",
              "1     MIMAT0019869         0.151000              NaN              NaN   \n",
              "2     MIMAT0019860              NaN              NaN              NaN   \n",
              "3     MIMAT0019861              NaN              NaN              NaN   \n",
              "4     MIMAT0019862         0.287700              NaN              NaN   \n",
              "...            ...              ...              ...              ...   \n",
              "2195  MIMAT0019689              NaN              NaN              NaN   \n",
              "2196  MIMAT0027607              NaN              NaN              NaN   \n",
              "2197  MIMAT0019791              NaN              NaN              NaN   \n",
              "2198  MIMAT0018106              NaN              NaN         0.291900   \n",
              "2199  MIMAT0017950         3.602359           1.1448         1.593619   \n",
              "\n",
              "      TCGA-VS-A94Z-01  TCGA-C5-A2M2-01  TCGA-Q1-A5R3-01  TCGA-Q1-A5R2-01  \\\n",
              "0            0.791266              NaN         0.254200              NaN   \n",
              "1                 NaN              NaN              NaN              NaN   \n",
              "2                 NaN              NaN              NaN              NaN   \n",
              "3                 NaN              NaN              NaN              NaN   \n",
              "4                 NaN         0.407000              NaN              NaN   \n",
              "...               ...              ...              ...              ...   \n",
              "2195              NaN              NaN              NaN              NaN   \n",
              "2196              NaN              NaN              NaN         0.278200   \n",
              "2197              NaN              NaN              NaN              NaN   \n",
              "2198              NaN              NaN              NaN              NaN   \n",
              "2199         2.291744         1.563442         3.535874         2.450537   \n",
              "\n",
              "      TCGA-JW-A5VI-01  TCGA-ZJ-A8QO-01  ...  TCGA-VS-A957-01  TCGA-VS-A9UJ-01  \\\n",
              "0                 NaN              NaN  ...              NaN              NaN   \n",
              "1                 NaN              NaN  ...              NaN              NaN   \n",
              "2                 NaN              NaN  ...              NaN              NaN   \n",
              "3                 NaN              NaN  ...              NaN              NaN   \n",
              "4                 NaN              NaN  ...              NaN              NaN   \n",
              "...               ...              ...  ...              ...              ...   \n",
              "2195              NaN              NaN  ...              NaN              NaN   \n",
              "2196              NaN              NaN  ...              NaN              NaN   \n",
              "2197              NaN              NaN  ...              NaN              NaN   \n",
              "2198              NaN         0.404200  ...         0.421869              NaN   \n",
              "2199         2.030324         2.188108  ...         2.525182         2.004858   \n",
              "\n",
              "      TCGA-DS-A1O9-01  TCGA-JX-A3Q0-01  TCGA-UC-A7PI-01  TCGA-EA-A3HU-01  \\\n",
              "0            0.377213              NaN              NaN              NaN   \n",
              "1            0.200900              NaN              NaN              NaN   \n",
              "2                 NaN              NaN              NaN              NaN   \n",
              "3                 NaN              NaN              NaN              NaN   \n",
              "4                 NaN              NaN              NaN         0.515600   \n",
              "...               ...              ...              ...              ...   \n",
              "2195              NaN         0.683700              NaN              NaN   \n",
              "2196              NaN              NaN              NaN              NaN   \n",
              "2197              NaN              NaN              NaN              NaN   \n",
              "2198         0.377300              NaN         0.258900         0.515600   \n",
              "2199         3.609845         1.776122         0.836998         2.282897   \n",
              "\n",
              "      TCGA-WL-A834-01  TCGA-VS-A8EC-01  TCGA-ZJ-AAXA-01  TCGA-C5-A7CM-01  \n",
              "0                 NaN              NaN              NaN              NaN  \n",
              "1            0.584400              NaN              NaN              NaN  \n",
              "2                 NaN              NaN              NaN              NaN  \n",
              "3                 NaN              NaN              NaN              NaN  \n",
              "4                 NaN              NaN              NaN              NaN  \n",
              "...               ...              ...              ...              ...  \n",
              "2195              NaN              NaN              NaN              NaN  \n",
              "2196              NaN              NaN              NaN              NaN  \n",
              "2197              NaN              NaN              NaN              NaN  \n",
              "2198              NaN         0.316400              NaN              NaN  \n",
              "2199         1.583845         2.436541         2.238217         1.999906  \n",
              "\n",
              "[2200 rows x 312 columns]"
            ],
            "text/html": [
              "\n",
              "  <div id=\"df-1afaafce-b96c-4208-9532-b48f104c128a\">\n",
              "    <div class=\"colab-df-container\">\n",
              "      <div>\n",
              "<style scoped>\n",
              "    .dataframe tbody tr th:only-of-type {\n",
              "        vertical-align: middle;\n",
              "    }\n",
              "\n",
              "    .dataframe tbody tr th {\n",
              "        vertical-align: top;\n",
              "    }\n",
              "\n",
              "    .dataframe thead th {\n",
              "        text-align: right;\n",
              "    }\n",
              "</style>\n",
              "<table border=\"1\" class=\"dataframe\">\n",
              "  <thead>\n",
              "    <tr style=\"text-align: right;\">\n",
              "      <th></th>\n",
              "      <th>sample</th>\n",
              "      <th>TCGA-BI-A0VS-01</th>\n",
              "      <th>TCGA-C5-A1MP-01</th>\n",
              "      <th>TCGA-C5-A2M1-01</th>\n",
              "      <th>TCGA-VS-A94Z-01</th>\n",
              "      <th>TCGA-C5-A2M2-01</th>\n",
              "      <th>TCGA-Q1-A5R3-01</th>\n",
              "      <th>TCGA-Q1-A5R2-01</th>\n",
              "      <th>TCGA-JW-A5VI-01</th>\n",
              "      <th>TCGA-ZJ-A8QO-01</th>\n",
              "      <th>...</th>\n",
              "      <th>TCGA-VS-A957-01</th>\n",
              "      <th>TCGA-VS-A9UJ-01</th>\n",
              "      <th>TCGA-DS-A1O9-01</th>\n",
              "      <th>TCGA-JX-A3Q0-01</th>\n",
              "      <th>TCGA-UC-A7PI-01</th>\n",
              "      <th>TCGA-EA-A3HU-01</th>\n",
              "      <th>TCGA-WL-A834-01</th>\n",
              "      <th>TCGA-VS-A8EC-01</th>\n",
              "      <th>TCGA-ZJ-AAXA-01</th>\n",
              "      <th>TCGA-C5-A7CM-01</th>\n",
              "    </tr>\n",
              "  </thead>\n",
              "  <tbody>\n",
              "    <tr>\n",
              "      <th>0</th>\n",
              "      <td>MIMAT0019868</td>\n",
              "      <td>0.151000</td>\n",
              "      <td>0.2034</td>\n",
              "      <td>0.291900</td>\n",
              "      <td>0.791266</td>\n",
              "      <td>NaN</td>\n",
              "      <td>0.254200</td>\n",
              "      <td>NaN</td>\n",
              "      <td>NaN</td>\n",
              "      <td>NaN</td>\n",
              "      <td>...</td>\n",
              "      <td>NaN</td>\n",
              "      <td>NaN</td>\n",
              "      <td>0.377213</td>\n",
              "      <td>NaN</td>\n",
              "      <td>NaN</td>\n",
              "      <td>NaN</td>\n",
              "      <td>NaN</td>\n",
              "      <td>NaN</td>\n",
              "      <td>NaN</td>\n",
              "      <td>NaN</td>\n",
              "    </tr>\n",
              "    <tr>\n",
              "      <th>1</th>\n",
              "      <td>MIMAT0019869</td>\n",
              "      <td>0.151000</td>\n",
              "      <td>NaN</td>\n",
              "      <td>NaN</td>\n",
              "      <td>NaN</td>\n",
              "      <td>NaN</td>\n",
              "      <td>NaN</td>\n",
              "      <td>NaN</td>\n",
              "      <td>NaN</td>\n",
              "      <td>NaN</td>\n",
              "      <td>...</td>\n",
              "      <td>NaN</td>\n",
              "      <td>NaN</td>\n",
              "      <td>0.200900</td>\n",
              "      <td>NaN</td>\n",
              "      <td>NaN</td>\n",
              "      <td>NaN</td>\n",
              "      <td>0.584400</td>\n",
              "      <td>NaN</td>\n",
              "      <td>NaN</td>\n",
              "      <td>NaN</td>\n",
              "    </tr>\n",
              "    <tr>\n",
              "      <th>2</th>\n",
              "      <td>MIMAT0019860</td>\n",
              "      <td>NaN</td>\n",
              "      <td>NaN</td>\n",
              "      <td>NaN</td>\n",
              "      <td>NaN</td>\n",
              "      <td>NaN</td>\n",
              "      <td>NaN</td>\n",
              "      <td>NaN</td>\n",
              "      <td>NaN</td>\n",
              "      <td>NaN</td>\n",
              "      <td>...</td>\n",
              "      <td>NaN</td>\n",
              "      <td>NaN</td>\n",
              "      <td>NaN</td>\n",
              "      <td>NaN</td>\n",
              "      <td>NaN</td>\n",
              "      <td>NaN</td>\n",
              "      <td>NaN</td>\n",
              "      <td>NaN</td>\n",
              "      <td>NaN</td>\n",
              "      <td>NaN</td>\n",
              "    </tr>\n",
              "    <tr>\n",
              "      <th>3</th>\n",
              "      <td>MIMAT0019861</td>\n",
              "      <td>NaN</td>\n",
              "      <td>NaN</td>\n",
              "      <td>NaN</td>\n",
              "      <td>NaN</td>\n",
              "      <td>NaN</td>\n",
              "      <td>NaN</td>\n",
              "      <td>NaN</td>\n",
              "      <td>NaN</td>\n",
              "      <td>NaN</td>\n",
              "      <td>...</td>\n",
              "      <td>NaN</td>\n",
              "      <td>NaN</td>\n",
              "      <td>NaN</td>\n",
              "      <td>NaN</td>\n",
              "      <td>NaN</td>\n",
              "      <td>NaN</td>\n",
              "      <td>NaN</td>\n",
              "      <td>NaN</td>\n",
              "      <td>NaN</td>\n",
              "      <td>NaN</td>\n",
              "    </tr>\n",
              "    <tr>\n",
              "      <th>4</th>\n",
              "      <td>MIMAT0019862</td>\n",
              "      <td>0.287700</td>\n",
              "      <td>NaN</td>\n",
              "      <td>NaN</td>\n",
              "      <td>NaN</td>\n",
              "      <td>0.407000</td>\n",
              "      <td>NaN</td>\n",
              "      <td>NaN</td>\n",
              "      <td>NaN</td>\n",
              "      <td>NaN</td>\n",
              "      <td>...</td>\n",
              "      <td>NaN</td>\n",
              "      <td>NaN</td>\n",
              "      <td>NaN</td>\n",
              "      <td>NaN</td>\n",
              "      <td>NaN</td>\n",
              "      <td>0.515600</td>\n",
              "      <td>NaN</td>\n",
              "      <td>NaN</td>\n",
              "      <td>NaN</td>\n",
              "      <td>NaN</td>\n",
              "    </tr>\n",
              "    <tr>\n",
              "      <th>...</th>\n",
              "      <td>...</td>\n",
              "      <td>...</td>\n",
              "      <td>...</td>\n",
              "      <td>...</td>\n",
              "      <td>...</td>\n",
              "      <td>...</td>\n",
              "      <td>...</td>\n",
              "      <td>...</td>\n",
              "      <td>...</td>\n",
              "      <td>...</td>\n",
              "      <td>...</td>\n",
              "      <td>...</td>\n",
              "      <td>...</td>\n",
              "      <td>...</td>\n",
              "      <td>...</td>\n",
              "      <td>...</td>\n",
              "      <td>...</td>\n",
              "      <td>...</td>\n",
              "      <td>...</td>\n",
              "      <td>...</td>\n",
              "      <td>...</td>\n",
              "    </tr>\n",
              "    <tr>\n",
              "      <th>2195</th>\n",
              "      <td>MIMAT0019689</td>\n",
              "      <td>NaN</td>\n",
              "      <td>NaN</td>\n",
              "      <td>NaN</td>\n",
              "      <td>NaN</td>\n",
              "      <td>NaN</td>\n",
              "      <td>NaN</td>\n",
              "      <td>NaN</td>\n",
              "      <td>NaN</td>\n",
              "      <td>NaN</td>\n",
              "      <td>...</td>\n",
              "      <td>NaN</td>\n",
              "      <td>NaN</td>\n",
              "      <td>NaN</td>\n",
              "      <td>0.683700</td>\n",
              "      <td>NaN</td>\n",
              "      <td>NaN</td>\n",
              "      <td>NaN</td>\n",
              "      <td>NaN</td>\n",
              "      <td>NaN</td>\n",
              "      <td>NaN</td>\n",
              "    </tr>\n",
              "    <tr>\n",
              "      <th>2196</th>\n",
              "      <td>MIMAT0027607</td>\n",
              "      <td>NaN</td>\n",
              "      <td>NaN</td>\n",
              "      <td>NaN</td>\n",
              "      <td>NaN</td>\n",
              "      <td>NaN</td>\n",
              "      <td>NaN</td>\n",
              "      <td>0.278200</td>\n",
              "      <td>NaN</td>\n",
              "      <td>NaN</td>\n",
              "      <td>...</td>\n",
              "      <td>NaN</td>\n",
              "      <td>NaN</td>\n",
              "      <td>NaN</td>\n",
              "      <td>NaN</td>\n",
              "      <td>NaN</td>\n",
              "      <td>NaN</td>\n",
              "      <td>NaN</td>\n",
              "      <td>NaN</td>\n",
              "      <td>NaN</td>\n",
              "      <td>NaN</td>\n",
              "    </tr>\n",
              "    <tr>\n",
              "      <th>2197</th>\n",
              "      <td>MIMAT0019791</td>\n",
              "      <td>NaN</td>\n",
              "      <td>NaN</td>\n",
              "      <td>NaN</td>\n",
              "      <td>NaN</td>\n",
              "      <td>NaN</td>\n",
              "      <td>NaN</td>\n",
              "      <td>NaN</td>\n",
              "      <td>NaN</td>\n",
              "      <td>NaN</td>\n",
              "      <td>...</td>\n",
              "      <td>NaN</td>\n",
              "      <td>NaN</td>\n",
              "      <td>NaN</td>\n",
              "      <td>NaN</td>\n",
              "      <td>NaN</td>\n",
              "      <td>NaN</td>\n",
              "      <td>NaN</td>\n",
              "      <td>NaN</td>\n",
              "      <td>NaN</td>\n",
              "      <td>NaN</td>\n",
              "    </tr>\n",
              "    <tr>\n",
              "      <th>2198</th>\n",
              "      <td>MIMAT0018106</td>\n",
              "      <td>NaN</td>\n",
              "      <td>NaN</td>\n",
              "      <td>0.291900</td>\n",
              "      <td>NaN</td>\n",
              "      <td>NaN</td>\n",
              "      <td>NaN</td>\n",
              "      <td>NaN</td>\n",
              "      <td>NaN</td>\n",
              "      <td>0.404200</td>\n",
              "      <td>...</td>\n",
              "      <td>0.421869</td>\n",
              "      <td>NaN</td>\n",
              "      <td>0.377300</td>\n",
              "      <td>NaN</td>\n",
              "      <td>0.258900</td>\n",
              "      <td>0.515600</td>\n",
              "      <td>NaN</td>\n",
              "      <td>0.316400</td>\n",
              "      <td>NaN</td>\n",
              "      <td>NaN</td>\n",
              "    </tr>\n",
              "    <tr>\n",
              "      <th>2199</th>\n",
              "      <td>MIMAT0017950</td>\n",
              "      <td>3.602359</td>\n",
              "      <td>1.1448</td>\n",
              "      <td>1.593619</td>\n",
              "      <td>2.291744</td>\n",
              "      <td>1.563442</td>\n",
              "      <td>3.535874</td>\n",
              "      <td>2.450537</td>\n",
              "      <td>2.030324</td>\n",
              "      <td>2.188108</td>\n",
              "      <td>...</td>\n",
              "      <td>2.525182</td>\n",
              "      <td>2.004858</td>\n",
              "      <td>3.609845</td>\n",
              "      <td>1.776122</td>\n",
              "      <td>0.836998</td>\n",
              "      <td>2.282897</td>\n",
              "      <td>1.583845</td>\n",
              "      <td>2.436541</td>\n",
              "      <td>2.238217</td>\n",
              "      <td>1.999906</td>\n",
              "    </tr>\n",
              "  </tbody>\n",
              "</table>\n",
              "<p>2200 rows × 312 columns</p>\n",
              "</div>\n",
              "      <button class=\"colab-df-convert\" onclick=\"convertToInteractive('df-1afaafce-b96c-4208-9532-b48f104c128a')\"\n",
              "              title=\"Convert this dataframe to an interactive table.\"\n",
              "              style=\"display:none;\">\n",
              "        \n",
              "  <svg xmlns=\"http://www.w3.org/2000/svg\" height=\"24px\"viewBox=\"0 0 24 24\"\n",
              "       width=\"24px\">\n",
              "    <path d=\"M0 0h24v24H0V0z\" fill=\"none\"/>\n",
              "    <path d=\"M18.56 5.44l.94 2.06.94-2.06 2.06-.94-2.06-.94-.94-2.06-.94 2.06-2.06.94zm-11 1L8.5 8.5l.94-2.06 2.06-.94-2.06-.94L8.5 2.5l-.94 2.06-2.06.94zm10 10l.94 2.06.94-2.06 2.06-.94-2.06-.94-.94-2.06-.94 2.06-2.06.94z\"/><path d=\"M17.41 7.96l-1.37-1.37c-.4-.4-.92-.59-1.43-.59-.52 0-1.04.2-1.43.59L10.3 9.45l-7.72 7.72c-.78.78-.78 2.05 0 2.83L4 21.41c.39.39.9.59 1.41.59.51 0 1.02-.2 1.41-.59l7.78-7.78 2.81-2.81c.8-.78.8-2.07 0-2.86zM5.41 20L4 18.59l7.72-7.72 1.47 1.35L5.41 20z\"/>\n",
              "  </svg>\n",
              "      </button>\n",
              "      \n",
              "  <style>\n",
              "    .colab-df-container {\n",
              "      display:flex;\n",
              "      flex-wrap:wrap;\n",
              "      gap: 12px;\n",
              "    }\n",
              "\n",
              "    .colab-df-convert {\n",
              "      background-color: #E8F0FE;\n",
              "      border: none;\n",
              "      border-radius: 50%;\n",
              "      cursor: pointer;\n",
              "      display: none;\n",
              "      fill: #1967D2;\n",
              "      height: 32px;\n",
              "      padding: 0 0 0 0;\n",
              "      width: 32px;\n",
              "    }\n",
              "\n",
              "    .colab-df-convert:hover {\n",
              "      background-color: #E2EBFA;\n",
              "      box-shadow: 0px 1px 2px rgba(60, 64, 67, 0.3), 0px 1px 3px 1px rgba(60, 64, 67, 0.15);\n",
              "      fill: #174EA6;\n",
              "    }\n",
              "\n",
              "    [theme=dark] .colab-df-convert {\n",
              "      background-color: #3B4455;\n",
              "      fill: #D2E3FC;\n",
              "    }\n",
              "\n",
              "    [theme=dark] .colab-df-convert:hover {\n",
              "      background-color: #434B5C;\n",
              "      box-shadow: 0px 1px 3px 1px rgba(0, 0, 0, 0.15);\n",
              "      filter: drop-shadow(0px 1px 2px rgba(0, 0, 0, 0.3));\n",
              "      fill: #FFFFFF;\n",
              "    }\n",
              "  </style>\n",
              "\n",
              "      <script>\n",
              "        const buttonEl =\n",
              "          document.querySelector('#df-1afaafce-b96c-4208-9532-b48f104c128a button.colab-df-convert');\n",
              "        buttonEl.style.display =\n",
              "          google.colab.kernel.accessAllowed ? 'block' : 'none';\n",
              "\n",
              "        async function convertToInteractive(key) {\n",
              "          const element = document.querySelector('#df-1afaafce-b96c-4208-9532-b48f104c128a');\n",
              "          const dataTable =\n",
              "            await google.colab.kernel.invokeFunction('convertToInteractive',\n",
              "                                                     [key], {});\n",
              "          if (!dataTable) return;\n",
              "\n",
              "          const docLinkHtml = 'Like what you see? Visit the ' +\n",
              "            '<a target=\"_blank\" href=https://colab.research.google.com/notebooks/data_table.ipynb>data table notebook</a>'\n",
              "            + ' to learn more about interactive tables.';\n",
              "          element.innerHTML = '';\n",
              "          dataTable['output_type'] = 'display_data';\n",
              "          await google.colab.output.renderOutput(dataTable, element);\n",
              "          const docLink = document.createElement('div');\n",
              "          docLink.innerHTML = docLinkHtml;\n",
              "          element.appendChild(docLink);\n",
              "        }\n",
              "      </script>\n",
              "    </div>\n",
              "  </div>\n",
              "  "
            ]
          },
          "metadata": {},
          "execution_count": 5
        }
      ]
    },
    {
      "cell_type": "code",
      "source": [
        "df.isna().all()"
      ],
      "metadata": {
        "colab": {
          "base_uri": "https://localhost:8080/"
        },
        "id": "lC17ga7OhpIV",
        "outputId": "ceb09cf0-3039-4bae-9800-1ac70dedd3aa"
      },
      "execution_count": 6,
      "outputs": [
        {
          "output_type": "execute_result",
          "data": {
            "text/plain": [
              "sample             False\n",
              "TCGA-BI-A0VS-01    False\n",
              "TCGA-C5-A1MP-01    False\n",
              "TCGA-C5-A2M1-01    False\n",
              "TCGA-VS-A94Z-01    False\n",
              "                   ...  \n",
              "TCGA-EA-A3HU-01    False\n",
              "TCGA-WL-A834-01    False\n",
              "TCGA-VS-A8EC-01    False\n",
              "TCGA-ZJ-AAXA-01    False\n",
              "TCGA-C5-A7CM-01    False\n",
              "Length: 312, dtype: bool"
            ]
          },
          "metadata": {},
          "execution_count": 6
        }
      ]
    },
    {
      "cell_type": "code",
      "source": [
        "all_true_columns = df.columns[df.isna().all()]\n",
        "\n",
        "# Display only the columns with all values null\n",
        "print(df[all_true_columns])"
      ],
      "metadata": {
        "colab": {
          "base_uri": "https://localhost:8080/"
        },
        "id": "noTizyerhvFi",
        "outputId": "e31cafab-49e7-4fd7-f41a-2fb2e0d2d360"
      },
      "execution_count": 7,
      "outputs": [
        {
          "output_type": "stream",
          "name": "stdout",
          "text": [
            "Empty DataFrame\n",
            "Columns: []\n",
            "Index: [0, 1, 2, 3, 4, 5, 6, 7, 8, 9, 10, 11, 12, 13, 14, 15, 16, 17, 18, 19, 20, 21, 22, 23, 24, 25, 26, 27, 28, 29, 30, 31, 32, 33, 34, 35, 36, 37, 38, 39, 40, 41, 42, 43, 44, 45, 46, 47, 48, 49, 50, 51, 52, 53, 54, 55, 56, 57, 58, 59, 60, 61, 62, 63, 64, 65, 66, 67, 68, 69, 70, 71, 72, 73, 74, 75, 76, 77, 78, 79, 80, 81, 82, 83, 84, 85, 86, 87, 88, 89, 90, 91, 92, 93, 94, 95, 96, 97, 98, 99, ...]\n",
            "\n",
            "[2200 rows x 0 columns]\n"
          ]
        }
      ]
    },
    {
      "cell_type": "code",
      "source": [
        "all_true_rows = df[df.isna().all(axis=1)]\n",
        "\n",
        "# Display only the rows with all values null\n",
        "print(all_true_rows)"
      ],
      "metadata": {
        "colab": {
          "base_uri": "https://localhost:8080/"
        },
        "id": "b35Rfai0h3Qj",
        "outputId": "48721a79-4775-4669-e756-3218da51e811"
      },
      "execution_count": 8,
      "outputs": [
        {
          "output_type": "stream",
          "name": "stdout",
          "text": [
            "Empty DataFrame\n",
            "Columns: [sample, TCGA-BI-A0VS-01, TCGA-C5-A1MP-01, TCGA-C5-A2M1-01, TCGA-VS-A94Z-01, TCGA-C5-A2M2-01, TCGA-Q1-A5R3-01, TCGA-Q1-A5R2-01, TCGA-JW-A5VI-01, TCGA-ZJ-A8QO-01, TCGA-4J-AA1J-01, TCGA-R2-A69V-01, TCGA-DS-A1OA-01, TCGA-DS-A1OB-01, TCGA-EA-A3Y4-01, TCGA-VS-A8QM-01, TCGA-C5-A7CH-01, TCGA-EK-A2RO-01, TCGA-VS-A8EI-01, TCGA-BI-A0VR-01, TCGA-Q1-A6DW-01, TCGA-C5-A7X8-01, TCGA-VS-A959-01, TCGA-VS-A8QF-01, TCGA-EK-A2R7-01, TCGA-C5-A902-01, TCGA-C5-A0TN-01, TCGA-EX-A1H6-01, TCGA-EK-A3GJ-01, TCGA-EA-A556-01, TCGA-ZJ-AAXF-01, TCGA-XS-A8TJ-01, TCGA-EA-A3HT-01, TCGA-VS-A9V0-01, TCGA-C5-A7CO-01, TCGA-VS-A9V3-01, TCGA-UC-A7PG-01, TCGA-EA-A43B-01, TCGA-UC-A7PG-06, TCGA-C5-A1MQ-01, TCGA-EK-A2GZ-01, TCGA-VS-A8EJ-01, TCGA-C5-A1BJ-01, TCGA-VS-A9UP-01, TCGA-C5-A7UE-01, TCGA-MU-A51Y-01, TCGA-ZJ-A8QQ-01, TCGA-VS-A9UR-01, TCGA-C5-A1MK-01, TCGA-IR-A3LI-01, TCGA-DG-A2KH-01, TCGA-ZJ-A8QR-01, TCGA-HG-A2PA-01, TCGA-EK-A2RE-01, TCGA-EK-A2RM-01, TCGA-EA-A5ZE-01, TCGA-DS-A7WH-01, TCGA-DR-A0ZL-01, TCGA-ZJ-AAX4-01, TCGA-IR-A3LC-01, TCGA-C5-A8YR-01, TCGA-VS-A950-01, TCGA-DS-A0VL-01, TCGA-EK-A2RA-01, TCGA-MY-A5BF-11, TCGA-JW-A5VL-01, TCGA-EK-A2RN-01, TCGA-EK-A2PM-01, TCGA-Q1-A5R1-01, TCGA-C5-A7CK-01, TCGA-FU-A57G-01, TCGA-C5-A1MN-01, TCGA-EK-A2RD-01, TCGA-VS-A9V1-01, TCGA-DR-A0ZM-01, TCGA-FU-A40J-01, TCGA-C5-A3HD-01, TCGA-DS-A0VN-01, TCGA-EK-A3GM-01, TCGA-MA-AA43-01, TCGA-DS-A1OD-01, TCGA-C5-A1BK-01, TCGA-MA-AA3Z-01, TCGA-DS-A1OC-01, TCGA-ZJ-AB0I-01, TCGA-HM-A3JJ-01, TCGA-FU-A3TQ-01, TCGA-LP-A4AV-01, TCGA-C5-A2LZ-01, TCGA-EK-A2PK-01, TCGA-Q1-A73P-01, TCGA-DG-A2KM-01, TCGA-LP-A4AX-01, TCGA-FU-A3EO-01, TCGA-JW-A5VK-01, TCGA-IR-A3LA-01, TCGA-Q1-A6DT-01, TCGA-FU-A2QG-01, TCGA-EK-A3GN-01, TCGA-EK-A2R9-01, ...]\n",
            "Index: []\n",
            "\n",
            "[0 rows x 312 columns]\n"
          ]
        }
      ]
    },
    {
      "cell_type": "code",
      "source": [
        "#presentage of mising values in a column\n",
        "missing=df.isna().sum()/len(df)*100\n",
        "print(missing)"
      ],
      "metadata": {
        "colab": {
          "base_uri": "https://localhost:8080/"
        },
        "id": "WQEn_R6uiB7B",
        "outputId": "d9b618d3-ea1a-4d02-b68e-6ca726eab9e4"
      },
      "execution_count": 10,
      "outputs": [
        {
          "output_type": "stream",
          "name": "stdout",
          "text": [
            "sample              0.000000\n",
            "TCGA-BI-A0VS-01    52.136364\n",
            "TCGA-C5-A1MP-01    60.909091\n",
            "TCGA-C5-A2M1-01    58.636364\n",
            "TCGA-VS-A94Z-01    61.818182\n",
            "                     ...    \n",
            "TCGA-EA-A3HU-01    61.590909\n",
            "TCGA-WL-A834-01    63.909091\n",
            "TCGA-VS-A8EC-01    61.045455\n",
            "TCGA-ZJ-AAXA-01    63.409091\n",
            "TCGA-C5-A7CM-01    57.863636\n",
            "Length: 312, dtype: float64\n"
          ]
        }
      ]
    },
    {
      "cell_type": "code",
      "source": [
        "import matplotlib.pyplot as plt\n",
        "\n",
        "missing_columns = df.isna().sum()/len(df)*100\n",
        "missing_columns_filtered = missing_columns[(missing_columns >= 0) & (missing_columns <= 100)]\n",
        "\n",
        "plt.figure(figsize=(8, 6))\n",
        "plt.hist(missing_columns_filtered, bins=10, edgecolor='black')\n",
        "plt.xlabel('Missing Value Percentage')\n",
        "plt.ylabel('Count')\n",
        "plt.title('Range of Missing Values (0% - 100%)')\n",
        "plt.show()"
      ],
      "metadata": {
        "colab": {
          "base_uri": "https://localhost:8080/",
          "height": 564
        },
        "id": "OVD6BLxLiGEf",
        "outputId": "5f7e1086-db48-4f18-d849-d81f8347ac4d"
      },
      "execution_count": 16,
      "outputs": [
        {
          "output_type": "display_data",
          "data": {
            "text/plain": [
              "<Figure size 800x600 with 1 Axes>"
            ],
            "image/png": "[encoded data removed]"
          },
          "metadata": {}
        }
      ]
    },
    {
      "cell_type": "code",
      "source": [
        "#presentage of mising values in rows\n",
        "missing_rows=df.isna().sum(axis=1)/len(df)*100\n",
        "print(missing_rows.head(15))"
      ],
      "metadata": {
        "colab": {
          "base_uri": "https://localhost:8080/"
        },
        "id": "bsATm47misk8",
        "outputId": "de424d38-64e1-49d1-dd39-0b06a6f29849"
      },
      "execution_count": 13,
      "outputs": [
        {
          "output_type": "stream",
          "name": "stdout",
          "text": [
            "0     10.590909\n",
            "1     12.363636\n",
            "2     13.227273\n",
            "3     14.090909\n",
            "4     11.363636\n",
            "5      8.954545\n",
            "6      6.545455\n",
            "7     12.727273\n",
            "8      8.909091\n",
            "9     13.363636\n",
            "10    13.681818\n",
            "11    13.681818\n",
            "12    14.045455\n",
            "13    11.227273\n",
            "14     6.545455\n",
            "dtype: float64\n"
          ]
        }
      ]
    },
    {
      "cell_type": "code",
      "source": [
        "#row\n",
        "missing_rows = df.isna().sum(axis=1) / len(df) * 100\n",
        "missing_rows_filtered = missing_rows[(missing_rows >= 0) & (missing_rows <= 100)]\n",
        "\n",
        "plt.figure(figsize=(8, 6))\n",
        "plt.hist(missing_rows_filtered, bins=10, edgecolor='black')\n",
        "plt.xlabel('Missing Value Percentage')\n",
        "plt.ylabel('Count')\n",
        "plt.title('Range of Missing Values (0% - 100%)')\n",
        "plt.show()"
      ],
      "metadata": {
        "colab": {
          "base_uri": "https://localhost:8080/",
          "height": 564
        },
        "id": "UMCbggsBi5ld",
        "outputId": "4bbb13d3-6d8e-4276-f5cd-a476e85ddcb7"
      },
      "execution_count": 17,
      "outputs": [
        {
          "output_type": "display_data",
          "data": {
            "text/plain": [
              "<Figure size 800x600 with 1 Axes>"
            ],
            "image/png": "[encoded data removed]"
          },
          "metadata": {}
        }
      ]
    },
    {
      "cell_type": "code",
      "source": [
        "#drop the rows in a df that have missing values more than 1%\n",
        "\n",
        "threshold = 0.00  # Set the threshold percentage\n",
        "\n",
        "rows_to_drop = missing_rows[missing_rows > threshold].index\n",
        "\n",
        "df_new = df.drop(rows_to_drop)"
      ],
      "metadata": {
        "id": "biuOb-qajXtd"
      },
      "execution_count": 20,
      "outputs": []
    },
    {
      "cell_type": "code",
      "source": [
        "df_new.shape"
      ],
      "metadata": {
        "colab": {
          "base_uri": "https://localhost:8080/"
        },
        "id": "pVvFqgsY1AB6",
        "outputId": "630ff09b-7a19-4a01-c26f-791e152390bc"
      },
      "execution_count": 28,
      "outputs": [
        {
          "output_type": "execute_result",
          "data": {
            "text/plain": [
              "(274, 312)"
            ]
          },
          "metadata": {},
          "execution_count": 28
        }
      ]
    },
    {
      "cell_type": "code",
      "source": [
        "2200 - 274"
      ],
      "metadata": {
        "colab": {
          "base_uri": "https://localhost:8080/"
        },
        "id": "DThk241X17R0",
        "outputId": "9325f211-d4b8-452d-d814-97733e86b781"
      },
      "execution_count": 29,
      "outputs": [
        {
          "output_type": "execute_result",
          "data": {
            "text/plain": [
              "1926"
            ]
          },
          "metadata": {},
          "execution_count": 29
        }
      ]
    },
    {
      "cell_type": "code",
      "source": [
        "1929/2200 *100"
      ],
      "metadata": {
        "colab": {
          "base_uri": "https://localhost:8080/"
        },
        "id": "h-VbPz-L9Y14",
        "outputId": "4d46b6de-4449-42f2-829d-18afae8ac6cf"
      },
      "execution_count": 31,
      "outputs": [
        {
          "output_type": "execute_result",
          "data": {
            "text/plain": [
              "87.68181818181819"
            ]
          },
          "metadata": {},
          "execution_count": 31
        }
      ]
    },
    {
      "cell_type": "code",
      "source": [
        "missing_rows_new = df_new.isna().sum(axis=1) / len(df_new) * 100\n",
        "missing_rows_filtered = missing_rows[(missing_rows_new >= 0) & (missing_rows <= 8)]\n",
        "\n",
        "plt.figure(figsize=(8, 6))\n",
        "plt.hist(missing_rows_filtered, bins=10, edgecolor='black')\n",
        "plt.xlabel('Missing Value Percentage')\n",
        "plt.ylabel('Count')\n",
        "plt.title('Range of Missing Values (0% - 8%)')\n",
        "plt.show()"
      ],
      "metadata": {
        "colab": {
          "base_uri": "https://localhost:8080/",
          "height": 564
        },
        "id": "7IMxke8S-aox",
        "outputId": "6788e954-eeca-42b5-c999-e81679c945b1"
      },
      "execution_count": 32,
      "outputs": [
        {
          "output_type": "display_data",
          "data": {
            "text/plain": [
              "<Figure size 800x600 with 1 Axes>"
            ],
            "image/png": "[encoded data removed]"
          },
          "metadata": {}
        }
      ]
    },
    {
      "cell_type": "code",
      "source": [
        "#detect the total number of columns contains missing values\n",
        "df_new.isna().any().sum()"
      ],
      "metadata": {
        "colab": {
          "base_uri": "https://localhost:8080/"
        },
        "id": "IWTlwhdT-yDp",
        "outputId": "07984754-52da-4e6d-9a45-efe8d56e37f0"
      },
      "execution_count": 33,
      "outputs": [
        {
          "output_type": "execute_result",
          "data": {
            "text/plain": [
              "0"
            ]
          },
          "metadata": {},
          "execution_count": 33
        }
      ]
    },
    {
      "cell_type": "code",
      "source": [
        "\n",
        "#check the total number of raws contains missing values\n",
        "df_new.isna().any(axis=1).sum()\n",
        ""
      ],
      "metadata": {
        "colab": {
          "base_uri": "https://localhost:8080/"
        },
        "id": "A23Dwlbf-3g3",
        "outputId": "e8f2a1af-346c-44ff-dd59-d566995c9704"
      },
      "execution_count": 34,
      "outputs": [
        {
          "output_type": "execute_result",
          "data": {
            "text/plain": [
              "0"
            ]
          },
          "metadata": {},
          "execution_count": 34
        }
      ]
    },
    {
      "cell_type": "code",
      "source": [
        "#checking duplicated rows\n",
        "num_duplicates = sum(df.duplicated())\n",
        "print(num_duplicates)\n",
        ""
      ],
      "metadata": {
        "colab": {
          "base_uri": "https://localhost:8080/"
        },
        "id": "xqDU7ufz-6Co",
        "outputId": "15fda9e3-873b-47ed-a491-f23c646996df"
      },
      "execution_count": 35,
      "outputs": [
        {
          "output_type": "stream",
          "name": "stdout",
          "text": [
            "0\n"
          ]
        }
      ]
    },
    {
      "cell_type": "code",
      "source": [
        "import numpy as np\n",
        "\n",
        "# Calculate the z-scores for each column in df_new\n",
        "z_scores = np.abs((df_new - df_new.mean()) / df_new.std())\n",
        "\n",
        "# Define a threshold value for z-score (e.g., 3)\n",
        "threshold = 3\n",
        "\n",
        "# Identify outliers by checking if z-scores exceed the threshold\n",
        "outliers = df_new[z_scores > threshold]\n",
        "\n",
        "# Calculate the sum of outliers\n",
        "sum_of_outliers = outliers.sum().sum()\n",
        "\n",
        "# Print the sum of outliers\n",
        "print(sum_of_outliers)"
      ],
      "metadata": {
        "colab": {
          "base_uri": "https://localhost:8080/"
        },
        "id": "CoLPpFWP_dS2",
        "outputId": "c931bb1c-43ed-4d6f-d68e-63b75a2b2911"
      },
      "execution_count": 36,
      "outputs": [
        {
          "output_type": "stream",
          "name": "stdout",
          "text": [
            "6598.5291127416\n"
          ]
        },
        {
          "output_type": "stream",
          "name": "stderr",
          "text": [
            "<ipython-input-36-ffbf5b342dcc>:4: FutureWarning: The default value of numeric_only in DataFrame.mean is deprecated. In a future version, it will default to False. In addition, specifying 'numeric_only=None' is deprecated. Select only valid columns or specify the value of numeric_only to silence this warning.\n",
            "  z_scores = np.abs((df_new - df_new.mean()) / df_new.std())\n",
            "<ipython-input-36-ffbf5b342dcc>:4: FutureWarning: The default value of numeric_only in DataFrame.std is deprecated. In a future version, it will default to False. In addition, specifying 'numeric_only=None' is deprecated. Select only valid columns or specify the value of numeric_only to silence this warning.\n",
            "  z_scores = np.abs((df_new - df_new.mean()) / df_new.std())\n"
          ]
        }
      ]
    },
    {
      "cell_type": "code",
      "source": [
        "df_new"
      ],
      "metadata": {
        "colab": {
          "base_uri": "https://localhost:8080/",
          "height": 502
        },
        "id": "oeCy12fZ_iPo",
        "outputId": "86efb740-4b88-444b-f0e0-d19e5e83180f"
      },
      "execution_count": 37,
      "outputs": [
        {
          "output_type": "execute_result",
          "data": {
            "text/plain": [
              "            sample  TCGA-BI-A0VS-01  TCGA-C5-A1MP-01  TCGA-C5-A2M1-01  \\\n",
              "26    MIMAT0000765         2.376642         1.954761         2.771830   \n",
              "27    MIMAT0000764         3.727780         4.012566         5.114041   \n",
              "28    MIMAT0000761         4.534866         3.073623         4.493434   \n",
              "29    MIMAT0000760         5.460657         3.840298         4.859297   \n",
              "30    MIMAT0000763         6.944390         6.988317         7.443720   \n",
              "...            ...              ...              ...              ...   \n",
              "2151  MIMAT0004672         9.351333         8.053419         9.891924   \n",
              "2174  MIMAT0004585         6.571810         6.404699         6.798494   \n",
              "2175  MIMAT0004584         5.506879         4.091597         6.395428   \n",
              "2177  MIMAT0004586         6.034651         5.940379         6.437086   \n",
              "2180  MIMAT0003298         3.088120         2.430440         4.099593   \n",
              "\n",
              "      TCGA-VS-A94Z-01  TCGA-C5-A2M2-01  TCGA-Q1-A5R3-01  TCGA-Q1-A5R2-01  \\\n",
              "26           1.879213         3.339975         3.931711         3.216376   \n",
              "27           5.502140         5.990413         7.098554         6.441604   \n",
              "28           3.746283         5.290277         5.333111         5.011841   \n",
              "29           3.986840         4.998294         3.985367         3.804605   \n",
              "30           8.234904         9.006515         8.304109         8.292894   \n",
              "...               ...              ...              ...              ...   \n",
              "2151         8.573273         9.039960         7.894963         8.125076   \n",
              "2174         6.845104         6.170896         6.136992         6.879671   \n",
              "2175         5.229921         6.019682         4.637800         4.463036   \n",
              "2177         6.050145         8.070932         5.520430         5.546143   \n",
              "2180         3.175769         3.594687         1.960002         2.753264   \n",
              "\n",
              "      TCGA-JW-A5VI-01  TCGA-ZJ-A8QO-01  ...  TCGA-VS-A957-01  TCGA-VS-A9UJ-01  \\\n",
              "26           2.978519         2.900613  ...         2.020660         2.714406   \n",
              "27           4.387734         5.620087  ...         4.286579         4.524882   \n",
              "28           3.062858         5.242810  ...         3.798035         5.151305   \n",
              "29           3.951892         4.502467  ...         4.040736         4.465567   \n",
              "30           7.693312         7.879268  ...         7.012137         8.753086   \n",
              "...               ...              ...  ...              ...              ...   \n",
              "2151         8.634087         9.278970  ...         8.451535         8.571550   \n",
              "2174         5.844970         6.198439  ...         5.596756         5.132371   \n",
              "2175         4.435948         4.676746  ...         4.601273         5.558537   \n",
              "2177         5.045958         7.251147  ...         6.413717         5.083852   \n",
              "2180         2.522554         2.900649  ...         2.607891         1.919019   \n",
              "\n",
              "      TCGA-DS-A1O9-01  TCGA-JX-A3Q0-01  TCGA-UC-A7PI-01  TCGA-EA-A3HU-01  \\\n",
              "26           3.822912         2.390621         2.786200         1.442758   \n",
              "27           5.670022         4.692501         4.596917         6.690008   \n",
              "28           3.401207         5.200460         3.655293         6.299433   \n",
              "29           4.341939         4.587244         3.562355         6.490746   \n",
              "30           6.004869         7.133816         7.171206         7.547099   \n",
              "...               ...              ...              ...              ...   \n",
              "2151         9.024136         9.288793         7.712848         9.781368   \n",
              "2174         6.649383         6.976064         4.752297         8.182746   \n",
              "2175         4.352541         6.080812         4.844053         4.405492   \n",
              "2177         5.837778         7.108681         4.709572         7.262252   \n",
              "2180         2.332079         3.499080         2.904607         4.896531   \n",
              "\n",
              "      TCGA-WL-A834-01  TCGA-VS-A8EC-01  TCGA-ZJ-AAXA-01  TCGA-C5-A7CM-01  \n",
              "26           2.086295         3.880691         1.691872         2.201595  \n",
              "27           4.474290         4.891738         3.363899         5.785262  \n",
              "28           4.856509         5.312460         4.086386         4.882582  \n",
              "29           3.490466         5.855047         3.988433         4.314694  \n",
              "30           8.399387         8.500451         7.402955         8.413155  \n",
              "...               ...              ...              ...              ...  \n",
              "2151         9.012526         9.375516         9.065653         9.927849  \n",
              "2174         5.868843         5.330141         4.565595         7.539927  \n",
              "2175         4.881146         4.295257         5.651499         5.093756  \n",
              "2177         5.831359         6.243755         5.640744         6.338936  \n",
              "2180         1.905792         3.927921         2.871995         2.776104  \n",
              "\n",
              "[274 rows x 312 columns]"
            ],
            "text/html": [
              "\n",
              "  <div id=\"df-8062993c-88ac-4c2c-a994-8343224551ec\">\n",
              "    <div class=\"colab-df-container\">\n",
              "      <div>\n",
              "<style scoped>\n",
              "    .dataframe tbody tr th:only-of-type {\n",
              "        vertical-align: middle;\n",
              "    }\n",
              "\n",
              "    .dataframe tbody tr th {\n",
              "        vertical-align: top;\n",
              "    }\n",
              "\n",
              "    .dataframe thead th {\n",
              "        text-align: right;\n",
              "    }\n",
              "</style>\n",
              "<table border=\"1\" class=\"dataframe\">\n",
              "  <thead>\n",
              "    <tr style=\"text-align: right;\">\n",
              "      <th></th>\n",
              "      <th>sample</th>\n",
              "      <th>TCGA-BI-A0VS-01</th>\n",
              "      <th>TCGA-C5-A1MP-01</th>\n",
              "      <th>TCGA-C5-A2M1-01</th>\n",
              "      <th>TCGA-VS-A94Z-01</th>\n",
              "      <th>TCGA-C5-A2M2-01</th>\n",
              "      <th>TCGA-Q1-A5R3-01</th>\n",
              "      <th>TCGA-Q1-A5R2-01</th>\n",
              "      <th>TCGA-JW-A5VI-01</th>\n",
              "      <th>TCGA-ZJ-A8QO-01</th>\n",
              "      <th>...</th>\n",
              "      <th>TCGA-VS-A957-01</th>\n",
              "      <th>TCGA-VS-A9UJ-01</th>\n",
              "      <th>TCGA-DS-A1O9-01</th>\n",
              "      <th>TCGA-JX-A3Q0-01</th>\n",
              "      <th>TCGA-UC-A7PI-01</th>\n",
              "      <th>TCGA-EA-A3HU-01</th>\n",
              "      <th>TCGA-WL-A834-01</th>\n",
              "      <th>TCGA-VS-A8EC-01</th>\n",
              "      <th>TCGA-ZJ-AAXA-01</th>\n",
              "      <th>TCGA-C5-A7CM-01</th>\n",
              "    </tr>\n",
              "  </thead>\n",
              "  <tbody>\n",
              "    <tr>\n",
              "      <th>26</th>\n",
              "      <td>MIMAT0000765</td>\n",
              "      <td>2.376642</td>\n",
              "      <td>1.954761</td>\n",
              "      <td>2.771830</td>\n",
              "      <td>1.879213</td>\n",
              "      <td>3.339975</td>\n",
              "      <td>3.931711</td>\n",
              "      <td>3.216376</td>\n",
              "      <td>2.978519</td>\n",
              "      <td>2.900613</td>\n",
              "      <td>...</td>\n",
              "      <td>2.020660</td>\n",
              "      <td>2.714406</td>\n",
              "      <td>3.822912</td>\n",
              "      <td>2.390621</td>\n",
              "      <td>2.786200</td>\n",
              "      <td>1.442758</td>\n",
              "      <td>2.086295</td>\n",
              "      <td>3.880691</td>\n",
              "      <td>1.691872</td>\n",
              "      <td>2.201595</td>\n",
              "    </tr>\n",
              "    <tr>\n",
              "      <th>27</th>\n",
              "      <td>MIMAT0000764</td>\n",
              "      <td>3.727780</td>\n",
              "      <td>4.012566</td>\n",
              "      <td>5.114041</td>\n",
              "      <td>5.502140</td>\n",
              "      <td>5.990413</td>\n",
              "      <td>7.098554</td>\n",
              "      <td>6.441604</td>\n",
              "      <td>4.387734</td>\n",
              "      <td>5.620087</td>\n",
              "      <td>...</td>\n",
              "      <td>4.286579</td>\n",
              "      <td>4.524882</td>\n",
              "      <td>5.670022</td>\n",
              "      <td>4.692501</td>\n",
              "      <td>4.596917</td>\n",
              "      <td>6.690008</td>\n",
              "      <td>4.474290</td>\n",
              "      <td>4.891738</td>\n",
              "      <td>3.363899</td>\n",
              "      <td>5.785262</td>\n",
              "    </tr>\n",
              "    <tr>\n",
              "      <th>28</th>\n",
              "      <td>MIMAT0000761</td>\n",
              "      <td>4.534866</td>\n",
              "      <td>3.073623</td>\n",
              "      <td>4.493434</td>\n",
              "      <td>3.746283</td>\n",
              "      <td>5.290277</td>\n",
              "      <td>5.333111</td>\n",
              "      <td>5.011841</td>\n",
              "      <td>3.062858</td>\n",
              "      <td>5.242810</td>\n",
              "      <td>...</td>\n",
              "      <td>3.798035</td>\n",
              "      <td>5.151305</td>\n",
              "      <td>3.401207</td>\n",
              "      <td>5.200460</td>\n",
              "      <td>3.655293</td>\n",
              "      <td>6.299433</td>\n",
              "      <td>4.856509</td>\n",
              "      <td>5.312460</td>\n",
              "      <td>4.086386</td>\n",
              "      <td>4.882582</td>\n",
              "    </tr>\n",
              "    <tr>\n",
              "      <th>29</th>\n",
              "      <td>MIMAT0000760</td>\n",
              "      <td>5.460657</td>\n",
              "      <td>3.840298</td>\n",
              "      <td>4.859297</td>\n",
              "      <td>3.986840</td>\n",
              "      <td>4.998294</td>\n",
              "      <td>3.985367</td>\n",
              "      <td>3.804605</td>\n",
              "      <td>3.951892</td>\n",
              "      <td>4.502467</td>\n",
              "      <td>...</td>\n",
              "      <td>4.040736</td>\n",
              "      <td>4.465567</td>\n",
              "      <td>4.341939</td>\n",
              "      <td>4.587244</td>\n",
              "      <td>3.562355</td>\n",
              "      <td>6.490746</td>\n",
              "      <td>3.490466</td>\n",
              "      <td>5.855047</td>\n",
              "      <td>3.988433</td>\n",
              "      <td>4.314694</td>\n",
              "    </tr>\n",
              "    <tr>\n",
              "      <th>30</th>\n",
              "      <td>MIMAT0000763</td>\n",
              "      <td>6.944390</td>\n",
              "      <td>6.988317</td>\n",
              "      <td>7.443720</td>\n",
              "      <td>8.234904</td>\n",
              "      <td>9.006515</td>\n",
              "      <td>8.304109</td>\n",
              "      <td>8.292894</td>\n",
              "      <td>7.693312</td>\n",
              "      <td>7.879268</td>\n",
              "      <td>...</td>\n",
              "      <td>7.012137</td>\n",
              "      <td>8.753086</td>\n",
              "      <td>6.004869</td>\n",
              "      <td>7.133816</td>\n",
              "      <td>7.171206</td>\n",
              "      <td>7.547099</td>\n",
              "      <td>8.399387</td>\n",
              "      <td>8.500451</td>\n",
              "      <td>7.402955</td>\n",
              "      <td>8.413155</td>\n",
              "    </tr>\n",
              "    <tr>\n",
              "      <th>...</th>\n",
              "      <td>...</td>\n",
              "      <td>...</td>\n",
              "      <td>...</td>\n",
              "      <td>...</td>\n",
              "      <td>...</td>\n",
              "      <td>...</td>\n",
              "      <td>...</td>\n",
              "      <td>...</td>\n",
              "      <td>...</td>\n",
              "      <td>...</td>\n",
              "      <td>...</td>\n",
              "      <td>...</td>\n",
              "      <td>...</td>\n",
              "      <td>...</td>\n",
              "      <td>...</td>\n",
              "      <td>...</td>\n",
              "      <td>...</td>\n",
              "      <td>...</td>\n",
              "      <td>...</td>\n",
              "      <td>...</td>\n",
              "      <td>...</td>\n",
              "    </tr>\n",
              "    <tr>\n",
              "      <th>2151</th>\n",
              "      <td>MIMAT0004672</td>\n",
              "      <td>9.351333</td>\n",
              "      <td>8.053419</td>\n",
              "      <td>9.891924</td>\n",
              "      <td>8.573273</td>\n",
              "      <td>9.039960</td>\n",
              "      <td>7.894963</td>\n",
              "      <td>8.125076</td>\n",
              "      <td>8.634087</td>\n",
              "      <td>9.278970</td>\n",
              "      <td>...</td>\n",
              "      <td>8.451535</td>\n",
              "      <td>8.571550</td>\n",
              "      <td>9.024136</td>\n",
              "      <td>9.288793</td>\n",
              "      <td>7.712848</td>\n",
              "      <td>9.781368</td>\n",
              "      <td>9.012526</td>\n",
              "      <td>9.375516</td>\n",
              "      <td>9.065653</td>\n",
              "      <td>9.927849</td>\n",
              "    </tr>\n",
              "    <tr>\n",
              "      <th>2174</th>\n",
              "      <td>MIMAT0004585</td>\n",
              "      <td>6.571810</td>\n",
              "      <td>6.404699</td>\n",
              "      <td>6.798494</td>\n",
              "      <td>6.845104</td>\n",
              "      <td>6.170896</td>\n",
              "      <td>6.136992</td>\n",
              "      <td>6.879671</td>\n",
              "      <td>5.844970</td>\n",
              "      <td>6.198439</td>\n",
              "      <td>...</td>\n",
              "      <td>5.596756</td>\n",
              "      <td>5.132371</td>\n",
              "      <td>6.649383</td>\n",
              "      <td>6.976064</td>\n",
              "      <td>4.752297</td>\n",
              "      <td>8.182746</td>\n",
              "      <td>5.868843</td>\n",
              "      <td>5.330141</td>\n",
              "      <td>4.565595</td>\n",
              "      <td>7.539927</td>\n",
              "    </tr>\n",
              "    <tr>\n",
              "      <th>2175</th>\n",
              "      <td>MIMAT0004584</td>\n",
              "      <td>5.506879</td>\n",
              "      <td>4.091597</td>\n",
              "      <td>6.395428</td>\n",
              "      <td>5.229921</td>\n",
              "      <td>6.019682</td>\n",
              "      <td>4.637800</td>\n",
              "      <td>4.463036</td>\n",
              "      <td>4.435948</td>\n",
              "      <td>4.676746</td>\n",
              "      <td>...</td>\n",
              "      <td>4.601273</td>\n",
              "      <td>5.558537</td>\n",
              "      <td>4.352541</td>\n",
              "      <td>6.080812</td>\n",
              "      <td>4.844053</td>\n",
              "      <td>4.405492</td>\n",
              "      <td>4.881146</td>\n",
              "      <td>4.295257</td>\n",
              "      <td>5.651499</td>\n",
              "      <td>5.093756</td>\n",
              "    </tr>\n",
              "    <tr>\n",
              "      <th>2177</th>\n",
              "      <td>MIMAT0004586</td>\n",
              "      <td>6.034651</td>\n",
              "      <td>5.940379</td>\n",
              "      <td>6.437086</td>\n",
              "      <td>6.050145</td>\n",
              "      <td>8.070932</td>\n",
              "      <td>5.520430</td>\n",
              "      <td>5.546143</td>\n",
              "      <td>5.045958</td>\n",
              "      <td>7.251147</td>\n",
              "      <td>...</td>\n",
              "      <td>6.413717</td>\n",
              "      <td>5.083852</td>\n",
              "      <td>5.837778</td>\n",
              "      <td>7.108681</td>\n",
              "      <td>4.709572</td>\n",
              "      <td>7.262252</td>\n",
              "      <td>5.831359</td>\n",
              "      <td>6.243755</td>\n",
              "      <td>5.640744</td>\n",
              "      <td>6.338936</td>\n",
              "    </tr>\n",
              "    <tr>\n",
              "      <th>2180</th>\n",
              "      <td>MIMAT0003298</td>\n",
              "      <td>3.088120</td>\n",
              "      <td>2.430440</td>\n",
              "      <td>4.099593</td>\n",
              "      <td>3.175769</td>\n",
              "      <td>3.594687</td>\n",
              "      <td>1.960002</td>\n",
              "      <td>2.753264</td>\n",
              "      <td>2.522554</td>\n",
              "      <td>2.900649</td>\n",
              "      <td>...</td>\n",
              "      <td>2.607891</td>\n",
              "      <td>1.919019</td>\n",
              "      <td>2.332079</td>\n",
              "      <td>3.499080</td>\n",
              "      <td>2.904607</td>\n",
              "      <td>4.896531</td>\n",
              "      <td>1.905792</td>\n",
              "      <td>3.927921</td>\n",
              "      <td>2.871995</td>\n",
              "      <td>2.776104</td>\n",
              "    </tr>\n",
              "  </tbody>\n",
              "</table>\n",
              "<p>274 rows × 312 columns</p>\n",
              "</div>\n",
              "      <button class=\"colab-df-convert\" onclick=\"convertToInteractive('df-8062993c-88ac-4c2c-a994-8343224551ec')\"\n",
              "              title=\"Convert this dataframe to an interactive table.\"\n",
              "              style=\"display:none;\">\n",
              "        \n",
              "  <svg xmlns=\"http://www.w3.org/2000/svg\" height=\"24px\"viewBox=\"0 0 24 24\"\n",
              "       width=\"24px\">\n",
              "    <path d=\"M0 0h24v24H0V0z\" fill=\"none\"/>\n",
              "    <path d=\"M18.56 5.44l.94 2.06.94-2.06 2.06-.94-2.06-.94-.94-2.06-.94 2.06-2.06.94zm-11 1L8.5 8.5l.94-2.06 2.06-.94-2.06-.94L8.5 2.5l-.94 2.06-2.06.94zm10 10l.94 2.06.94-2.06 2.06-.94-2.06-.94-.94-2.06-.94 2.06-2.06.94z\"/><path d=\"M17.41 7.96l-1.37-1.37c-.4-.4-.92-.59-1.43-.59-.52 0-1.04.2-1.43.59L10.3 9.45l-7.72 7.72c-.78.78-.78 2.05 0 2.83L4 21.41c.39.39.9.59 1.41.59.51 0 1.02-.2 1.41-.59l7.78-7.78 2.81-2.81c.8-.78.8-2.07 0-2.86zM5.41 20L4 18.59l7.72-7.72 1.47 1.35L5.41 20z\"/>\n",
              "  </svg>\n",
              "      </button>\n",
              "      \n",
              "  <style>\n",
              "    .colab-df-container {\n",
              "      display:flex;\n",
              "      flex-wrap:wrap;\n",
              "      gap: 12px;\n",
              "    }\n",
              "\n",
              "    .colab-df-convert {\n",
              "      background-color: #E8F0FE;\n",
              "      border: none;\n",
              "      border-radius: 50%;\n",
              "      cursor: pointer;\n",
              "      display: none;\n",
              "      fill: #1967D2;\n",
              "      height: 32px;\n",
              "      padding: 0 0 0 0;\n",
              "      width: 32px;\n",
              "    }\n",
              "\n",
              "    .colab-df-convert:hover {\n",
              "      background-color: #E2EBFA;\n",
              "      box-shadow: 0px 1px 2px rgba(60, 64, 67, 0.3), 0px 1px 3px 1px rgba(60, 64, 67, 0.15);\n",
              "      fill: #174EA6;\n",
              "    }\n",
              "\n",
              "    [theme=dark] .colab-df-convert {\n",
              "      background-color: #3B4455;\n",
              "      fill: #D2E3FC;\n",
              "    }\n",
              "\n",
              "    [theme=dark] .colab-df-convert:hover {\n",
              "      background-color: #434B5C;\n",
              "      box-shadow: 0px 1px 3px 1px rgba(0, 0, 0, 0.15);\n",
              "      filter: drop-shadow(0px 1px 2px rgba(0, 0, 0, 0.3));\n",
              "      fill: #FFFFFF;\n",
              "    }\n",
              "  </style>\n",
              "\n",
              "      <script>\n",
              "        const buttonEl =\n",
              "          document.querySelector('#df-8062993c-88ac-4c2c-a994-8343224551ec button.colab-df-convert');\n",
              "        buttonEl.style.display =\n",
              "          google.colab.kernel.accessAllowed ? 'block' : 'none';\n",
              "\n",
              "        async function convertToInteractive(key) {\n",
              "          const element = document.querySelector('#df-8062993c-88ac-4c2c-a994-8343224551ec');\n",
              "          const dataTable =\n",
              "            await google.colab.kernel.invokeFunction('convertToInteractive',\n",
              "                                                     [key], {});\n",
              "          if (!dataTable) return;\n",
              "\n",
              "          const docLinkHtml = 'Like what you see? Visit the ' +\n",
              "            '<a target=\"_blank\" href=https://colab.research.google.com/notebooks/data_table.ipynb>data table notebook</a>'\n",
              "            + ' to learn more about interactive tables.';\n",
              "          element.innerHTML = '';\n",
              "          dataTable['output_type'] = 'display_data';\n",
              "          await google.colab.output.renderOutput(dataTable, element);\n",
              "          const docLink = document.createElement('div');\n",
              "          docLink.innerHTML = docLinkHtml;\n",
              "          element.appendChild(docLink);\n",
              "        }\n",
              "      </script>\n",
              "    </div>\n",
              "  </div>\n",
              "  "
            ]
          },
          "metadata": {},
          "execution_count": 37
        }
      ]
    },
    {
      "cell_type": "code",
      "source": [
        "# Calculate the percentage of outliers\n",
        "percentage_outliers = (len(outliers) / len(df_new)) * 100\n",
        "\n",
        "# Create a bar plot of the percentage of outliers\n",
        "plt.bar(['Outliers', 'Non-Outliers'], [percentage_outliers, 100 - percentage_outliers])\n",
        "plt.xlabel('Data')\n",
        "plt.ylabel('Percentage')\n",
        "plt.title('Percentage of Outliers in the Dataset')\n",
        "plt.show()\n"
      ],
      "metadata": {
        "colab": {
          "base_uri": "https://localhost:8080/",
          "height": 472
        },
        "id": "1bGmQdXFC_tL",
        "outputId": "a4f70edb-8b54-4fbd-db1a-d22c8fd3c5f2"
      },
      "execution_count": 39,
      "outputs": [
        {
          "output_type": "display_data",
          "data": {
            "text/plain": [
              "<Figure size 640x480 with 1 Axes>"
            ],
            "image/png": "[encoded data removed]"
          },
          "metadata": {}
        }
      ]
    },
    {
      "cell_type": "code",
      "source": [],
      "metadata": {
        "id": "v_YZnZA5D3mu"
      },
      "execution_count": null,
      "outputs": []
    }
  ]
}