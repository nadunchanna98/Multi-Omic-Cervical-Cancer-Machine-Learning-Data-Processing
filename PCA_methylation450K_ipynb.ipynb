{
  "nbformat": 4,
  "nbformat_minor": 0,
  "metadata": {
    "colab": {
      "provenance": [],
      "include_colab_link": true
    },
    "kernelspec": {
      "name": "python3",
      "display_name": "Python 3"
    },
    "language_info": {
      "name": "python"
    }
  },
  "cells": [
    {
      "cell_type": "markdown",
      "metadata": {
        "id": "view-in-github",
        "colab_type": "text"
      },
      "source": [
        "<a href=\"https://colab.research.google.com/github/nadunchanna98/MultiOmics-CervicalCancer-MachineLearning-DataProcessing/blob/main/PCA_methylation450K_ipynb.ipynb\" target=\"_parent\"><img src=\"https://colab.research.google.com/assets/colab-badge.svg\" alt=\"Open In Colab\"/></a>"
      ]
    },
    {
      "cell_type": "code",
      "source": [
        "import pandas as pd\n",
        "import numpy as np\n",
        "from sklearn.decomposition import PCA\n",
        "from sklearn.preprocessing import StandardScaler\n",
        "from sklearn.cluster import KMeans\n",
        "import matplotlib.pyplot as plt"
      ],
      "metadata": {
        "id": "U_wYhBUpsthT"
      },
      "execution_count": null,
      "outputs": []
    },
    {
      "cell_type": "code",
      "execution_count": null,
      "metadata": {
        "colab": {
          "base_uri": "https://localhost:8080/"
        },
        "id": "ic7NCs2dk_2V",
        "outputId": "6e51567f-028f-4354-8359-240d45720e3b"
      },
      "outputs": [
        {
          "output_type": "stream",
          "name": "stdout",
          "text": [
            "Drive already mounted at /content/drive; to attempt to forcibly remount, call drive.mount(\"/content/drive\", force_remount=True).\n"
          ]
        }
      ],
      "source": [
        "from google.colab import drive\n",
        "drive.mount('/content/drive')"
      ]
    },
    {
      "cell_type": "code",
      "source": [
        "import os\n",
        "df = pd.read_csv('/content/drive/MyDrive/RESEACH/TCGA Cervical Cancer (CESC)/methilation450K-Preprocessed-data/filtered_dataset.csv')"
      ],
      "metadata": {
        "id": "xfW3ASuYnNrk"
      },
      "execution_count": null,
      "outputs": []
    },
    {
      "cell_type": "code",
      "source": [
        "df.shape"
      ],
      "metadata": {
        "id": "t8zfFNSIsxc6",
        "colab": {
          "base_uri": "https://localhost:8080/"
        },
        "outputId": "a6348f2c-9626-421b-fa35-1bb1482ec316"
      },
      "execution_count": null,
      "outputs": [
        {
          "output_type": "execute_result",
          "data": {
            "text/plain": [
              "(312, 202)"
            ]
          },
          "metadata": {},
          "execution_count": 13
        }
      ]
    },
    {
      "cell_type": "code",
      "source": [
        "df1 = df[df['histological_type'] != 'Adenosquamous']"
      ],
      "metadata": {
        "id": "yRypeBZDs01c"
      },
      "execution_count": null,
      "outputs": []
    },
    {
      "cell_type": "code",
      "source": [
        "df1.shape"
      ],
      "metadata": {
        "id": "M35TWLVOzTUj",
        "colab": {
          "base_uri": "https://localhost:8080/"
        },
        "outputId": "7ba98311-f145-4789-a2c7-653636b673db"
      },
      "execution_count": null,
      "outputs": [
        {
          "output_type": "execute_result",
          "data": {
            "text/plain": [
              "(305, 202)"
            ]
          },
          "metadata": {},
          "execution_count": 15
        }
      ]
    },
    {
      "cell_type": "code",
      "source": [
        "selected_features = df1.iloc[:, 2:202]\n",
        "selected_features"
      ],
      "metadata": {
        "id": "TzA7q0FyzVG3",
        "colab": {
          "base_uri": "https://localhost:8080/",
          "height": 444
        },
        "outputId": "8ee5345f-a526-4564-eada-9026ac2adb13"
      },
      "execution_count": null,
      "outputs": [
        {
          "output_type": "execute_result",
          "data": {
            "text/plain": [
              "     cg26961332  cg01847620  cg01814098  cg17812026  cg25800170  cg13682477  \\\n",
              "0        0.9904      0.9860      0.0247      0.9570      0.0166      0.0166   \n",
              "1        0.9910      0.9909      0.0150      0.9914      0.0139      0.0172   \n",
              "2        0.9883      0.9424      0.0174      0.9776      0.2976      0.6157   \n",
              "3        0.9901      0.9858      0.0174      0.9898      0.0137      0.0211   \n",
              "4        0.8803      0.6852      0.0172      0.5670      0.2188      0.5187   \n",
              "..          ...         ...         ...         ...         ...         ...   \n",
              "307      0.9870      0.9878      0.0217      0.7349      0.0180      0.0252   \n",
              "308      0.9801      0.9022      0.0208      0.9823      0.0190      0.0239   \n",
              "309      0.9879      0.6833      0.1408      0.8738      0.0223      0.4855   \n",
              "310      0.9434      0.9259      0.0244      0.7724      0.2028      0.0350   \n",
              "311      0.9896      0.9833      0.0207      0.9896      0.0278      0.0202   \n",
              "\n",
              "     cg23889391  cg26082557  cg14239811  cg25087487  ...  cg08643007  \\\n",
              "0        0.0158      0.0160      0.0101      0.2729  ...      0.0317   \n",
              "1        0.6539      0.0113      0.0093      0.2176  ...      0.0377   \n",
              "2        0.0132      0.0454      0.3142      0.0154  ...      0.0257   \n",
              "3        0.0169      0.0147      0.0156      0.0167  ...      0.0208   \n",
              "4        0.4858      0.4888      0.0070      0.0132  ...      0.0282   \n",
              "..          ...         ...         ...         ...  ...         ...   \n",
              "307      0.0168      0.6354      0.0130      0.0175  ...      0.0292   \n",
              "308      0.0146      0.0140      0.0120      0.0123  ...      0.0362   \n",
              "309      0.1336      0.5528      0.3116      0.3749  ...      0.0244   \n",
              "310      0.4781      0.0268      0.0149      0.0158  ...      0.0463   \n",
              "311      0.0149      0.0159      0.0101      0.0161  ...      0.0285   \n",
              "\n",
              "     cg08367083  cg00810836  cg04087237  cg25379026  cg08839858  cg15794252  \\\n",
              "0        0.0183      0.0621      0.0652      0.0122      0.0224      0.0124   \n",
              "1        0.0147      0.0170      0.0191      0.0162      0.6017      0.0623   \n",
              "2        0.0224      0.0190      0.0687      0.4693      0.5097      0.0144   \n",
              "3        0.0264      0.0267      0.0112      0.0208      0.0193      0.0158   \n",
              "4        0.2056      0.0174      0.0142      0.5561      0.4190      0.0168   \n",
              "..          ...         ...         ...         ...         ...         ...   \n",
              "307      0.0340      0.0227      0.0179      0.3376      0.0217      0.0150   \n",
              "308      0.0259      0.0416      0.0232      0.0197      0.5360      0.0134   \n",
              "309      0.0297      0.0349      0.1042      0.0997      0.2280      0.2108   \n",
              "310      0.0372      0.1238      0.0198      0.5899      0.3088      0.2795   \n",
              "311      0.0168      0.0329      0.3369      0.0174      0.0167      0.0177   \n",
              "\n",
              "     cg09806118  cg04020999  cg06960784  \n",
              "0        0.0120      0.9778      0.0128  \n",
              "1        0.4581      0.9914      0.3205  \n",
              "2        0.0115      0.9845      0.0163  \n",
              "3        0.0144      0.9860      0.0212  \n",
              "4        0.0121      0.9844      0.0603  \n",
              "..          ...         ...         ...  \n",
              "307      0.0149      0.9810      0.0186  \n",
              "308      0.4100      0.9786      0.0184  \n",
              "309      0.3921      0.9809      0.5083  \n",
              "310      0.0145      0.9673      0.0293  \n",
              "311      0.0143      0.9846      0.3213  \n",
              "\n",
              "[305 rows x 200 columns]"
            ],
            "text/html": [
              "\n",
              "  <div id=\"df-a77d0d77-3e6c-4f1e-a06e-7d3a309c97ba\" class=\"colab-df-container\">\n",
              "    <div>\n",
              "<style scoped>\n",
              "    .dataframe tbody tr th:only-of-type {\n",
              "        vertical-align: middle;\n",
              "    }\n",
              "\n",
              "    .dataframe tbody tr th {\n",
              "        vertical-align: top;\n",
              "    }\n",
              "\n",
              "    .dataframe thead th {\n",
              "        text-align: right;\n",
              "    }\n",
              "</style>\n",
              "<table border=\"1\" class=\"dataframe\">\n",
              "  <thead>\n",
              "    <tr style=\"text-align: right;\">\n",
              "      <th></th>\n",
              "      <th>cg26961332</th>\n",
              "      <th>cg01847620</th>\n",
              "      <th>cg01814098</th>\n",
              "      <th>cg17812026</th>\n",
              "      <th>cg25800170</th>\n",
              "      <th>cg13682477</th>\n",
              "      <th>cg23889391</th>\n",
              "      <th>cg26082557</th>\n",
              "      <th>cg14239811</th>\n",
              "      <th>cg25087487</th>\n",
              "      <th>...</th>\n",
              "      <th>cg08643007</th>\n",
              "      <th>cg08367083</th>\n",
              "      <th>cg00810836</th>\n",
              "      <th>cg04087237</th>\n",
              "      <th>cg25379026</th>\n",
              "      <th>cg08839858</th>\n",
              "      <th>cg15794252</th>\n",
              "      <th>cg09806118</th>\n",
              "      <th>cg04020999</th>\n",
              "      <th>cg06960784</th>\n",
              "    </tr>\n",
              "  </thead>\n",
              "  <tbody>\n",
              "    <tr>\n",
              "      <th>0</th>\n",
              "      <td>0.9904</td>\n",
              "      <td>0.9860</td>\n",
              "      <td>0.0247</td>\n",
              "      <td>0.9570</td>\n",
              "      <td>0.0166</td>\n",
              "      <td>0.0166</td>\n",
              "      <td>0.0158</td>\n",
              "      <td>0.0160</td>\n",
              "      <td>0.0101</td>\n",
              "      <td>0.2729</td>\n",
              "      <td>...</td>\n",
              "      <td>0.0317</td>\n",
              "      <td>0.0183</td>\n",
              "      <td>0.0621</td>\n",
              "      <td>0.0652</td>\n",
              "      <td>0.0122</td>\n",
              "      <td>0.0224</td>\n",
              "      <td>0.0124</td>\n",
              "      <td>0.0120</td>\n",
              "      <td>0.9778</td>\n",
              "      <td>0.0128</td>\n",
              "    </tr>\n",
              "    <tr>\n",
              "      <th>1</th>\n",
              "      <td>0.9910</td>\n",
              "      <td>0.9909</td>\n",
              "      <td>0.0150</td>\n",
              "      <td>0.9914</td>\n",
              "      <td>0.0139</td>\n",
              "      <td>0.0172</td>\n",
              "      <td>0.6539</td>\n",
              "      <td>0.0113</td>\n",
              "      <td>0.0093</td>\n",
              "      <td>0.2176</td>\n",
              "      <td>...</td>\n",
              "      <td>0.0377</td>\n",
              "      <td>0.0147</td>\n",
              "      <td>0.0170</td>\n",
              "      <td>0.0191</td>\n",
              "      <td>0.0162</td>\n",
              "      <td>0.6017</td>\n",
              "      <td>0.0623</td>\n",
              "      <td>0.4581</td>\n",
              "      <td>0.9914</td>\n",
              "      <td>0.3205</td>\n",
              "    </tr>\n",
              "    <tr>\n",
              "      <th>2</th>\n",
              "      <td>0.9883</td>\n",
              "      <td>0.9424</td>\n",
              "      <td>0.0174</td>\n",
              "      <td>0.9776</td>\n",
              "      <td>0.2976</td>\n",
              "      <td>0.6157</td>\n",
              "      <td>0.0132</td>\n",
              "      <td>0.0454</td>\n",
              "      <td>0.3142</td>\n",
              "      <td>0.0154</td>\n",
              "      <td>...</td>\n",
              "      <td>0.0257</td>\n",
              "      <td>0.0224</td>\n",
              "      <td>0.0190</td>\n",
              "      <td>0.0687</td>\n",
              "      <td>0.4693</td>\n",
              "      <td>0.5097</td>\n",
              "      <td>0.0144</td>\n",
              "      <td>0.0115</td>\n",
              "      <td>0.9845</td>\n",
              "      <td>0.0163</td>\n",
              "    </tr>\n",
              "    <tr>\n",
              "      <th>3</th>\n",
              "      <td>0.9901</td>\n",
              "      <td>0.9858</td>\n",
              "      <td>0.0174</td>\n",
              "      <td>0.9898</td>\n",
              "      <td>0.0137</td>\n",
              "      <td>0.0211</td>\n",
              "      <td>0.0169</td>\n",
              "      <td>0.0147</td>\n",
              "      <td>0.0156</td>\n",
              "      <td>0.0167</td>\n",
              "      <td>...</td>\n",
              "      <td>0.0208</td>\n",
              "      <td>0.0264</td>\n",
              "      <td>0.0267</td>\n",
              "      <td>0.0112</td>\n",
              "      <td>0.0208</td>\n",
              "      <td>0.0193</td>\n",
              "      <td>0.0158</td>\n",
              "      <td>0.0144</td>\n",
              "      <td>0.9860</td>\n",
              "      <td>0.0212</td>\n",
              "    </tr>\n",
              "    <tr>\n",
              "      <th>4</th>\n",
              "      <td>0.8803</td>\n",
              "      <td>0.6852</td>\n",
              "      <td>0.0172</td>\n",
              "      <td>0.5670</td>\n",
              "      <td>0.2188</td>\n",
              "      <td>0.5187</td>\n",
              "      <td>0.4858</td>\n",
              "      <td>0.4888</td>\n",
              "      <td>0.0070</td>\n",
              "      <td>0.0132</td>\n",
              "      <td>...</td>\n",
              "      <td>0.0282</td>\n",
              "      <td>0.2056</td>\n",
              "      <td>0.0174</td>\n",
              "      <td>0.0142</td>\n",
              "      <td>0.5561</td>\n",
              "      <td>0.4190</td>\n",
              "      <td>0.0168</td>\n",
              "      <td>0.0121</td>\n",
              "      <td>0.9844</td>\n",
              "      <td>0.0603</td>\n",
              "    </tr>\n",
              "    <tr>\n",
              "      <th>...</th>\n",
              "      <td>...</td>\n",
              "      <td>...</td>\n",
              "      <td>...</td>\n",
              "      <td>...</td>\n",
              "      <td>...</td>\n",
              "      <td>...</td>\n",
              "      <td>...</td>\n",
              "      <td>...</td>\n",
              "      <td>...</td>\n",
              "      <td>...</td>\n",
              "      <td>...</td>\n",
              "      <td>...</td>\n",
              "      <td>...</td>\n",
              "      <td>...</td>\n",
              "      <td>...</td>\n",
              "      <td>...</td>\n",
              "      <td>...</td>\n",
              "      <td>...</td>\n",
              "      <td>...</td>\n",
              "      <td>...</td>\n",
              "      <td>...</td>\n",
              "    </tr>\n",
              "    <tr>\n",
              "      <th>307</th>\n",
              "      <td>0.9870</td>\n",
              "      <td>0.9878</td>\n",
              "      <td>0.0217</td>\n",
              "      <td>0.7349</td>\n",
              "      <td>0.0180</td>\n",
              "      <td>0.0252</td>\n",
              "      <td>0.0168</td>\n",
              "      <td>0.6354</td>\n",
              "      <td>0.0130</td>\n",
              "      <td>0.0175</td>\n",
              "      <td>...</td>\n",
              "      <td>0.0292</td>\n",
              "      <td>0.0340</td>\n",
              "      <td>0.0227</td>\n",
              "      <td>0.0179</td>\n",
              "      <td>0.3376</td>\n",
              "      <td>0.0217</td>\n",
              "      <td>0.0150</td>\n",
              "      <td>0.0149</td>\n",
              "      <td>0.9810</td>\n",
              "      <td>0.0186</td>\n",
              "    </tr>\n",
              "    <tr>\n",
              "      <th>308</th>\n",
              "      <td>0.9801</td>\n",
              "      <td>0.9022</td>\n",
              "      <td>0.0208</td>\n",
              "      <td>0.9823</td>\n",
              "      <td>0.0190</td>\n",
              "      <td>0.0239</td>\n",
              "      <td>0.0146</td>\n",
              "      <td>0.0140</td>\n",
              "      <td>0.0120</td>\n",
              "      <td>0.0123</td>\n",
              "      <td>...</td>\n",
              "      <td>0.0362</td>\n",
              "      <td>0.0259</td>\n",
              "      <td>0.0416</td>\n",
              "      <td>0.0232</td>\n",
              "      <td>0.0197</td>\n",
              "      <td>0.5360</td>\n",
              "      <td>0.0134</td>\n",
              "      <td>0.4100</td>\n",
              "      <td>0.9786</td>\n",
              "      <td>0.0184</td>\n",
              "    </tr>\n",
              "    <tr>\n",
              "      <th>309</th>\n",
              "      <td>0.9879</td>\n",
              "      <td>0.6833</td>\n",
              "      <td>0.1408</td>\n",
              "      <td>0.8738</td>\n",
              "      <td>0.0223</td>\n",
              "      <td>0.4855</td>\n",
              "      <td>0.1336</td>\n",
              "      <td>0.5528</td>\n",
              "      <td>0.3116</td>\n",
              "      <td>0.3749</td>\n",
              "      <td>...</td>\n",
              "      <td>0.0244</td>\n",
              "      <td>0.0297</td>\n",
              "      <td>0.0349</td>\n",
              "      <td>0.1042</td>\n",
              "      <td>0.0997</td>\n",
              "      <td>0.2280</td>\n",
              "      <td>0.2108</td>\n",
              "      <td>0.3921</td>\n",
              "      <td>0.9809</td>\n",
              "      <td>0.5083</td>\n",
              "    </tr>\n",
              "    <tr>\n",
              "      <th>310</th>\n",
              "      <td>0.9434</td>\n",
              "      <td>0.9259</td>\n",
              "      <td>0.0244</td>\n",
              "      <td>0.7724</td>\n",
              "      <td>0.2028</td>\n",
              "      <td>0.0350</td>\n",
              "      <td>0.4781</td>\n",
              "      <td>0.0268</td>\n",
              "      <td>0.0149</td>\n",
              "      <td>0.0158</td>\n",
              "      <td>...</td>\n",
              "      <td>0.0463</td>\n",
              "      <td>0.0372</td>\n",
              "      <td>0.1238</td>\n",
              "      <td>0.0198</td>\n",
              "      <td>0.5899</td>\n",
              "      <td>0.3088</td>\n",
              "      <td>0.2795</td>\n",
              "      <td>0.0145</td>\n",
              "      <td>0.9673</td>\n",
              "      <td>0.0293</td>\n",
              "    </tr>\n",
              "    <tr>\n",
              "      <th>311</th>\n",
              "      <td>0.9896</td>\n",
              "      <td>0.9833</td>\n",
              "      <td>0.0207</td>\n",
              "      <td>0.9896</td>\n",
              "      <td>0.0278</td>\n",
              "      <td>0.0202</td>\n",
              "      <td>0.0149</td>\n",
              "      <td>0.0159</td>\n",
              "      <td>0.0101</td>\n",
              "      <td>0.0161</td>\n",
              "      <td>...</td>\n",
              "      <td>0.0285</td>\n",
              "      <td>0.0168</td>\n",
              "      <td>0.0329</td>\n",
              "      <td>0.3369</td>\n",
              "      <td>0.0174</td>\n",
              "      <td>0.0167</td>\n",
              "      <td>0.0177</td>\n",
              "      <td>0.0143</td>\n",
              "      <td>0.9846</td>\n",
              "      <td>0.3213</td>\n",
              "    </tr>\n",
              "  </tbody>\n",
              "</table>\n",
              "<p>305 rows × 200 columns</p>\n",
              "</div>\n",
              "    <div class=\"colab-df-buttons\">\n",
              "\n",
              "  <div class=\"colab-df-container\">\n",
              "    <button class=\"colab-df-convert\" onclick=\"convertToInteractive('df-a77d0d77-3e6c-4f1e-a06e-7d3a309c97ba')\"\n",
              "            title=\"Convert this dataframe to an interactive table.\"\n",
              "            style=\"display:none;\">\n",
              "\n",
              "  <svg xmlns=\"http://www.w3.org/2000/svg\" height=\"24px\" viewBox=\"0 -960 960 960\">\n",
              "    <path d=\"M120-120v-720h720v720H120Zm60-500h600v-160H180v160Zm220 220h160v-160H400v160Zm0 220h160v-160H400v160ZM180-400h160v-160H180v160Zm440 0h160v-160H620v160ZM180-180h160v-160H180v160Zm440 0h160v-160H620v160Z\"/>\n",
              "  </svg>\n",
              "    </button>\n",
              "\n",
              "  <style>\n",
              "    .colab-df-container {\n",
              "      display:flex;\n",
              "      gap: 12px;\n",
              "    }\n",
              "\n",
              "    .colab-df-convert {\n",
              "      background-color: #E8F0FE;\n",
              "      border: none;\n",
              "      border-radius: 50%;\n",
              "      cursor: pointer;\n",
              "      display: none;\n",
              "      fill: #1967D2;\n",
              "      height: 32px;\n",
              "      padding: 0 0 0 0;\n",
              "      width: 32px;\n",
              "    }\n",
              "\n",
              "    .colab-df-convert:hover {\n",
              "      background-color: #E2EBFA;\n",
              "      box-shadow: 0px 1px 2px rgba(60, 64, 67, 0.3), 0px 1px 3px 1px rgba(60, 64, 67, 0.15);\n",
              "      fill: #174EA6;\n",
              "    }\n",
              "\n",
              "    .colab-df-buttons div {\n",
              "      margin-bottom: 4px;\n",
              "    }\n",
              "\n",
              "    [theme=dark] .colab-df-convert {\n",
              "      background-color: #3B4455;\n",
              "      fill: #D2E3FC;\n",
              "    }\n",
              "\n",
              "    [theme=dark] .colab-df-convert:hover {\n",
              "      background-color: #434B5C;\n",
              "      box-shadow: 0px 1px 3px 1px rgba(0, 0, 0, 0.15);\n",
              "      filter: drop-shadow(0px 1px 2px rgba(0, 0, 0, 0.3));\n",
              "      fill: #FFFFFF;\n",
              "    }\n",
              "  </style>\n",
              "\n",
              "    <script>\n",
              "      const buttonEl =\n",
              "        document.querySelector('#df-a77d0d77-3e6c-4f1e-a06e-7d3a309c97ba button.colab-df-convert');\n",
              "      buttonEl.style.display =\n",
              "        google.colab.kernel.accessAllowed ? 'block' : 'none';\n",
              "\n",
              "      async function convertToInteractive(key) {\n",
              "        const element = document.querySelector('#df-a77d0d77-3e6c-4f1e-a06e-7d3a309c97ba');\n",
              "        const dataTable =\n",
              "          await google.colab.kernel.invokeFunction('convertToInteractive',\n",
              "                                                    [key], {});\n",
              "        if (!dataTable) return;\n",
              "\n",
              "        const docLinkHtml = 'Like what you see? Visit the ' +\n",
              "          '<a target=\"_blank\" href=https://colab.research.google.com/notebooks/data_table.ipynb>data table notebook</a>'\n",
              "          + ' to learn more about interactive tables.';\n",
              "        element.innerHTML = '';\n",
              "        dataTable['output_type'] = 'display_data';\n",
              "        await google.colab.output.renderOutput(dataTable, element);\n",
              "        const docLink = document.createElement('div');\n",
              "        docLink.innerHTML = docLinkHtml;\n",
              "        element.appendChild(docLink);\n",
              "      }\n",
              "    </script>\n",
              "  </div>\n",
              "\n",
              "\n",
              "<div id=\"df-4ea402d1-15ad-4a5d-8b7d-a950d5636acc\">\n",
              "  <button class=\"colab-df-quickchart\" onclick=\"quickchart('df-4ea402d1-15ad-4a5d-8b7d-a950d5636acc')\"\n",
              "            title=\"Suggest charts.\"\n",
              "            style=\"display:none;\">\n",
              "\n",
              "<svg xmlns=\"http://www.w3.org/2000/svg\" height=\"24px\"viewBox=\"0 0 24 24\"\n",
              "     width=\"24px\">\n",
              "    <g>\n",
              "        <path d=\"M19 3H5c-1.1 0-2 .9-2 2v14c0 1.1.9 2 2 2h14c1.1 0 2-.9 2-2V5c0-1.1-.9-2-2-2zM9 17H7v-7h2v7zm4 0h-2V7h2v10zm4 0h-2v-4h2v4z\"/>\n",
              "    </g>\n",
              "</svg>\n",
              "  </button>\n",
              "\n",
              "<style>\n",
              "  .colab-df-quickchart {\n",
              "      --bg-color: #E8F0FE;\n",
              "      --fill-color: #1967D2;\n",
              "      --hover-bg-color: #E2EBFA;\n",
              "      --hover-fill-color: #174EA6;\n",
              "      --disabled-fill-color: #AAA;\n",
              "      --disabled-bg-color: #DDD;\n",
              "  }\n",
              "\n",
              "  [theme=dark] .colab-df-quickchart {\n",
              "      --bg-color: #3B4455;\n",
              "      --fill-color: #D2E3FC;\n",
              "      --hover-bg-color: #434B5C;\n",
              "      --hover-fill-color: #FFFFFF;\n",
              "      --disabled-bg-color: #3B4455;\n",
              "      --disabled-fill-color: #666;\n",
              "  }\n",
              "\n",
              "  .colab-df-quickchart {\n",
              "    background-color: var(--bg-color);\n",
              "    border: none;\n",
              "    border-radius: 50%;\n",
              "    cursor: pointer;\n",
              "    display: none;\n",
              "    fill: var(--fill-color);\n",
              "    height: 32px;\n",
              "    padding: 0;\n",
              "    width: 32px;\n",
              "  }\n",
              "\n",
              "  .colab-df-quickchart:hover {\n",
              "    background-color: var(--hover-bg-color);\n",
              "    box-shadow: 0 1px 2px rgba(60, 64, 67, 0.3), 0 1px 3px 1px rgba(60, 64, 67, 0.15);\n",
              "    fill: var(--button-hover-fill-color);\n",
              "  }\n",
              "\n",
              "  .colab-df-quickchart-complete:disabled,\n",
              "  .colab-df-quickchart-complete:disabled:hover {\n",
              "    background-color: var(--disabled-bg-color);\n",
              "    fill: var(--disabled-fill-color);\n",
              "    box-shadow: none;\n",
              "  }\n",
              "\n",
              "  .colab-df-spinner {\n",
              "    border: 2px solid var(--fill-color);\n",
              "    border-color: transparent;\n",
              "    border-bottom-color: var(--fill-color);\n",
              "    animation:\n",
              "      spin 1s steps(1) infinite;\n",
              "  }\n",
              "\n",
              "  @keyframes spin {\n",
              "    0% {\n",
              "      border-color: transparent;\n",
              "      border-bottom-color: var(--fill-color);\n",
              "      border-left-color: var(--fill-color);\n",
              "    }\n",
              "    20% {\n",
              "      border-color: transparent;\n",
              "      border-left-color: var(--fill-color);\n",
              "      border-top-color: var(--fill-color);\n",
              "    }\n",
              "    30% {\n",
              "      border-color: transparent;\n",
              "      border-left-color: var(--fill-color);\n",
              "      border-top-color: var(--fill-color);\n",
              "      border-right-color: var(--fill-color);\n",
              "    }\n",
              "    40% {\n",
              "      border-color: transparent;\n",
              "      border-right-color: var(--fill-color);\n",
              "      border-top-color: var(--fill-color);\n",
              "    }\n",
              "    60% {\n",
              "      border-color: transparent;\n",
              "      border-right-color: var(--fill-color);\n",
              "    }\n",
              "    80% {\n",
              "      border-color: transparent;\n",
              "      border-right-color: var(--fill-color);\n",
              "      border-bottom-color: var(--fill-color);\n",
              "    }\n",
              "    90% {\n",
              "      border-color: transparent;\n",
              "      border-bottom-color: var(--fill-color);\n",
              "    }\n",
              "  }\n",
              "</style>\n",
              "\n",
              "  <script>\n",
              "    async function quickchart(key) {\n",
              "      const quickchartButtonEl =\n",
              "        document.querySelector('#' + key + ' button');\n",
              "      quickchartButtonEl.disabled = true;  // To prevent multiple clicks.\n",
              "      quickchartButtonEl.classList.add('colab-df-spinner');\n",
              "      try {\n",
              "        const charts = await google.colab.kernel.invokeFunction(\n",
              "            'suggestCharts', [key], {});\n",
              "      } catch (error) {\n",
              "        console.error('Error during call to suggestCharts:', error);\n",
              "      }\n",
              "      quickchartButtonEl.classList.remove('colab-df-spinner');\n",
              "      quickchartButtonEl.classList.add('colab-df-quickchart-complete');\n",
              "    }\n",
              "    (() => {\n",
              "      let quickchartButtonEl =\n",
              "        document.querySelector('#df-4ea402d1-15ad-4a5d-8b7d-a950d5636acc button');\n",
              "      quickchartButtonEl.style.display =\n",
              "        google.colab.kernel.accessAllowed ? 'block' : 'none';\n",
              "    })();\n",
              "  </script>\n",
              "</div>\n",
              "    </div>\n",
              "  </div>\n"
            ]
          },
          "metadata": {},
          "execution_count": 16
        }
      ]
    },
    {
      "cell_type": "code",
      "source": [
        "pca = PCA(n_components=2)"
      ],
      "metadata": {
        "id": "Hsrz31KDHTVN"
      },
      "execution_count": null,
      "outputs": []
    },
    {
      "cell_type": "code",
      "source": [
        "X_pca = pca.fit_transform(selected_features)\n",
        "explained_variance_ratio = pca.explained_variance_ratio_\n",
        "cumulative_variance = explained_variance_ratio.cumsum()"
      ],
      "metadata": {
        "id": "neI6bswJHaHP"
      },
      "execution_count": null,
      "outputs": []
    },
    {
      "cell_type": "code",
      "source": [
        "plt.plot(range(1, len(cumulative_variance) + 1), cumulative_variance, marker='o', linestyle='--')\n",
        "plt.xlabel('Number of Principal Components')\n",
        "plt.ylabel('Cumulative Explained Variance')\n",
        "plt.show()"
      ],
      "metadata": {
        "id": "_gJ6Ffd4Hmq2",
        "colab": {
          "base_uri": "https://localhost:8080/",
          "height": 449
        },
        "outputId": "c03ed600-1363-410f-98d7-d2380326abc0"
      },
      "execution_count": null,
      "outputs": [
        {
          "output_type": "display_data",
          "data": {
            "text/plain": [
              "<Figure size 640x480 with 1 Axes>"
            ],
            "image/png": "[encoded data removed]"
          },
          "metadata": {}
        }
      ]
    },
    {
      "cell_type": "code",
      "source": [
        "kmeans = KMeans(n_clusters=5)  # Assuming you have 5 subgroups\n",
        "cluster_labels = kmeans.fit_predict(X_pca)"
      ],
      "metadata": {
        "id": "lZPXvDSNIC7n",
        "colab": {
          "base_uri": "https://localhost:8080/"
        },
        "outputId": "57d8875b-25a1-4faa-894c-379b973f643c"
      },
      "execution_count": null,
      "outputs": [
        {
          "output_type": "stream",
          "name": "stderr",
          "text": [
            "/usr/local/lib/python3.10/dist-packages/sklearn/cluster/_kmeans.py:870: FutureWarning: The default value of `n_init` will change from 10 to 'auto' in 1.4. Set the value of `n_init` explicitly to suppress the warning\n",
            "  warnings.warn(\n"
          ]
        }
      ]
    },
    {
      "cell_type": "code",
      "source": [
        "cluster_labels"
      ],
      "metadata": {
        "id": "b_36Vaq1IITx",
        "colab": {
          "base_uri": "https://localhost:8080/"
        },
        "outputId": "89ab75de-ec95-4028-978d-b4771861c5e1"
      },
      "execution_count": null,
      "outputs": [
        {
          "output_type": "execute_result",
          "data": {
            "text/plain": [
              "array([3, 4, 4, 3, 2, 3, 1, 3, 3, 1, 1, 4, 3, 1, 4, 4, 2, 0, 3, 3, 4, 3,\n",
              "       1, 3, 4, 3, 1, 3, 0, 3, 2, 0, 4, 0, 0, 4, 3, 0, 4, 3, 0, 1, 1, 3,\n",
              "       0, 3, 0, 3, 0, 3, 4, 3, 4, 3, 3, 3, 4, 4, 2, 1, 0, 1, 0, 3, 3, 3,\n",
              "       3, 4, 3, 3, 0, 4, 2, 4, 0, 0, 0, 0, 4, 1, 3, 2, 3, 0, 0, 2, 3, 4,\n",
              "       4, 0, 4, 1, 0, 2, 4, 0, 1, 0, 0, 3, 2, 3, 0, 1, 1, 2, 2, 3, 0, 4,\n",
              "       2, 2, 1, 0, 2, 2, 1, 0, 2, 2, 3, 3, 3, 0, 3, 4, 2, 2, 3, 3, 4, 4,\n",
              "       4, 3, 1, 3, 0, 4, 4, 0, 0, 4, 1, 3, 4, 0, 0, 4, 4, 3, 1, 3, 3, 3,\n",
              "       2, 3, 4, 3, 3, 3, 3, 3, 4, 4, 0, 0, 3, 0, 1, 3, 1, 3, 0, 1, 4, 3,\n",
              "       4, 1, 3, 4, 0, 4, 3, 0, 3, 1, 3, 4, 4, 0, 3, 3, 0, 0, 1, 3, 3, 4,\n",
              "       1, 3, 0, 0, 3, 0, 0, 4, 3, 2, 4, 4, 2, 0, 3, 3, 0, 4, 3, 4, 3, 0,\n",
              "       3, 4, 2, 1, 4, 3, 3, 2, 3, 0, 3, 3, 3, 1, 3, 1, 4, 3, 0, 3, 3, 4,\n",
              "       0, 0, 3, 0, 1, 3, 0, 3, 3, 1, 3, 4, 3, 2, 3, 0, 4, 3, 0, 0, 3, 1,\n",
              "       1, 0, 3, 3, 1, 3, 4, 3, 3, 0, 1, 0, 3, 3, 2, 3, 2, 0, 2, 0, 0, 2,\n",
              "       3, 3, 3, 2, 3, 0, 3, 3, 3, 3, 3, 0, 3, 4, 4, 3, 1, 0, 3],\n",
              "      dtype=int32)"
            ]
          },
          "metadata": {},
          "execution_count": 21
        }
      ]
    },
    {
      "cell_type": "code",
      "source": [
        "pca = PCA(n_components=None)"
      ],
      "metadata": {
        "id": "qUmNaK594UnI"
      },
      "execution_count": null,
      "outputs": []
    },
    {
      "cell_type": "code",
      "source": [
        "pca.fit(selected_features)"
      ],
      "metadata": {
        "id": "WBgQ47vN7WPw",
        "colab": {
          "base_uri": "https://localhost:8080/",
          "height": 75
        },
        "outputId": "553cd669-8818-4348-aff5-a56bd775171f"
      },
      "execution_count": null,
      "outputs": [
        {
          "output_type": "execute_result",
          "data": {
            "text/plain": [
              "PCA()"
            ],
            "text/html": [
              "<style>#sk-container-id-1 {color: black;background-color: white;}#sk-container-id-1 pre{padding: 0;}#sk-container-id-1 div.sk-toggleable {background-color: white;}#sk-container-id-1 label.sk-toggleable__label {cursor: pointer;display: block;width: 100%;margin-bottom: 0;padding: 0.3em;box-sizing: border-box;text-align: center;}#sk-container-id-1 label.sk-toggleable__label-arrow:before {content: \"▸\";float: left;margin-right: 0.25em;color: #696969;}#sk-container-id-1 label.sk-toggleable__label-arrow:hover:before {color: black;}#sk-container-id-1 div.sk-estimator:hover label.sk-toggleable__label-arrow:before {color: black;}#sk-container-id-1 div.sk-toggleable__content {max-height: 0;max-width: 0;overflow: hidden;text-align: left;background-color: #f0f8ff;}#sk-container-id-1 div.sk-toggleable__content pre {margin: 0.2em;color: black;border-radius: 0.25em;background-color: #f0f8ff;}#sk-container-id-1 input.sk-toggleable__control:checked~div.sk-toggleable__content {max-height: 200px;max-width: 100%;overflow: auto;}#sk-container-id-1 input.sk-toggleable__control:checked~label.sk-toggleable__label-arrow:before {content: \"▾\";}#sk-container-id-1 div.sk-estimator input.sk-toggleable__control:checked~label.sk-toggleable__label {background-color: #d4ebff;}#sk-container-id-1 div.sk-label input.sk-toggleable__control:checked~label.sk-toggleable__label {background-color: #d4ebff;}#sk-container-id-1 input.sk-hidden--visually {border: 0;clip: rect(1px 1px 1px 1px);clip: rect(1px, 1px, 1px, 1px);height: 1px;margin: -1px;overflow: hidden;padding: 0;position: absolute;width: 1px;}#sk-container-id-1 div.sk-estimator {font-family: monospace;background-color: #f0f8ff;border: 1px dotted black;border-radius: 0.25em;box-sizing: border-box;margin-bottom: 0.5em;}#sk-container-id-1 div.sk-estimator:hover {background-color: #d4ebff;}#sk-container-id-1 div.sk-parallel-item::after {content: \"\";width: 100%;border-bottom: 1px solid gray;flex-grow: 1;}#sk-container-id-1 div.sk-label:hover label.sk-toggleable__label {background-color: #d4ebff;}#sk-container-id-1 div.sk-serial::before {content: \"\";position: absolute;border-left: 1px solid gray;box-sizing: border-box;top: 0;bottom: 0;left: 50%;z-index: 0;}#sk-container-id-1 div.sk-serial {display: flex;flex-direction: column;align-items: center;background-color: white;padding-right: 0.2em;padding-left: 0.2em;position: relative;}#sk-container-id-1 div.sk-item {position: relative;z-index: 1;}#sk-container-id-1 div.sk-parallel {display: flex;align-items: stretch;justify-content: center;background-color: white;position: relative;}#sk-container-id-1 div.sk-item::before, #sk-container-id-1 div.sk-parallel-item::before {content: \"\";position: absolute;border-left: 1px solid gray;box-sizing: border-box;top: 0;bottom: 0;left: 50%;z-index: -1;}#sk-container-id-1 div.sk-parallel-item {display: flex;flex-direction: column;z-index: 1;position: relative;background-color: white;}#sk-container-id-1 div.sk-parallel-item:first-child::after {align-self: flex-end;width: 50%;}#sk-container-id-1 div.sk-parallel-item:last-child::after {align-self: flex-start;width: 50%;}#sk-container-id-1 div.sk-parallel-item:only-child::after {width: 0;}#sk-container-id-1 div.sk-dashed-wrapped {border: 1px dashed gray;margin: 0 0.4em 0.5em 0.4em;box-sizing: border-box;padding-bottom: 0.4em;background-color: white;}#sk-container-id-1 div.sk-label label {font-family: monospace;font-weight: bold;display: inline-block;line-height: 1.2em;}#sk-container-id-1 div.sk-label-container {text-align: center;}#sk-container-id-1 div.sk-container {/* jupyter's `normalize.less` sets `[hidden] { display: none; }` but bootstrap.min.css set `[hidden] { display: none !important; }` so we also need the `!important` here to be able to override the default hidden behavior on the sphinx rendered scikit-learn.org. See: https://github.com/scikit-learn/scikit-learn/issues/21755 */display: inline-block !important;position: relative;}#sk-container-id-1 div.sk-text-repr-fallback {display: none;}</style><div id=\"sk-container-id-1\" class=\"sk-top-container\"><div class=\"sk-text-repr-fallback\"><pre>PCA()</pre><b>In a Jupyter environment, please rerun this cell to show the HTML representation or trust the notebook. <br />On GitHub, the HTML representation is unable to render, please try loading this page with nbviewer.org.</b></div><div class=\"sk-container\" hidden><div class=\"sk-item\"><div class=\"sk-estimator sk-toggleable\"><input class=\"sk-toggleable__control sk-hidden--visually\" id=\"sk-estimator-id-1\" type=\"checkbox\" checked><label for=\"sk-estimator-id-1\" class=\"sk-toggleable__label sk-toggleable__label-arrow\">PCA</label><div class=\"sk-toggleable__content\"><pre>PCA()</pre></div></div></div></div></div>"
            ]
          },
          "metadata": {},
          "execution_count": 23
        }
      ]
    },
    {
      "cell_type": "code",
      "source": [
        "explained_variance_ratio = pca.explained_variance_ratio_"
      ],
      "metadata": {
        "id": "DUhSsw9X7dYO"
      },
      "execution_count": null,
      "outputs": []
    },
    {
      "cell_type": "code",
      "source": [
        "plt.plot(explained_variance_ratio.cumsum())\n",
        "plt.xlabel('Number of principal components')\n",
        "plt.ylabel('Cumulative explained variance ratio')\n",
        "plt.title('Cumulative explained variance ratio')\n",
        "plt.show()"
      ],
      "metadata": {
        "id": "VYDj_ucw7gTu",
        "colab": {
          "base_uri": "https://localhost:8080/",
          "height": 472
        },
        "outputId": "da9aa689-4f54-4e2e-de62-82374e8bebd9"
      },
      "execution_count": null,
      "outputs": [
        {
          "output_type": "display_data",
          "data": {
            "text/plain": [
              "<Figure size 640x480 with 1 Axes>"
            ],
            "image/png": "[encoded data removed]"
          },
          "metadata": {}
        }
      ]
    },
    {
      "cell_type": "code",
      "source": [
        "cumulative_explained_variance = np.cumsum(explained_variance_ratio)\n",
        "\n",
        "plt.figure(figsize=(10, 5))\n",
        "plt.plot(range(1, len(explained_variance_ratio) + 1), explained_variance_ratio, marker='o', linestyle='--', label='Explained Variance')\n",
        "plt.plot(range(1, len(cumulative_explained_variance) + 1), cumulative_explained_variance, marker='o', label='Cumulative Explained Variance')\n",
        "plt.xlabel('Number of Principal Components')\n",
        "plt.ylabel('Variance Explained')\n",
        "plt.legend()\n",
        "plt.grid(True)\n",
        "plt.show()"
      ],
      "metadata": {
        "id": "l4R14rRM7ms6",
        "colab": {
          "base_uri": "https://localhost:8080/",
          "height": 465
        },
        "outputId": "8b145ac9-0a26-4302-9732-174e7486a5f9"
      },
      "execution_count": null,
      "outputs": [
        {
          "output_type": "display_data",
          "data": {
            "text/plain": [
              "<Figure size 1000x500 with 1 Axes>"
            ],
            "image/png": "[encoded data removed]"
          },
          "metadata": {}
        }
      ]
    },
    {
      "cell_type": "code",
      "source": [],
      "metadata": {
        "id": "5hrO47XD_Hbr"
      },
      "execution_count": null,
      "outputs": []
    }
  ]
}