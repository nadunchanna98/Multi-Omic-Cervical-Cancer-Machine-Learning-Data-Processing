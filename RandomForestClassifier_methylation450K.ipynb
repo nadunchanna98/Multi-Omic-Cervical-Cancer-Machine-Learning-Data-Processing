{
  "nbformat": 4,
  "nbformat_minor": 0,
  "metadata": {
    "colab": {
      "provenance": [],
      "authorship_tag": "ABX9TyNAFB0R4esj6C+8PJ4qpxJW",
      "include_colab_link": true
    },
    "kernelspec": {
      "name": "python3",
      "display_name": "Python 3"
    },
    "language_info": {
      "name": "python"
    }
  },
  "cells": [
    {
      "cell_type": "markdown",
      "metadata": {
        "id": "view-in-github",
        "colab_type": "text"
      },
      "source": [
        "<a href=\"https://colab.research.google.com/github/nadunchanna98/MultiOmics-CervicalCancer-MachineLearning-DataProcessing/blob/main/RandomForestClassifier_methylation450K.ipynb\" target=\"_parent\"><img src=\"https://colab.research.google.com/assets/colab-badge.svg\" alt=\"Open In Colab\"/></a>"
      ]
    },
    {
      "cell_type": "code",
      "execution_count": 20,
      "metadata": {
        "id": "wL_8HK8bf-Lk"
      },
      "outputs": [],
      "source": [
        "import pandas as pd\n",
        "import numpy as np\n",
        "import matplotlib.pyplot as plt\n",
        "import seaborn as sns\n",
        "from sklearn.preprocessing import LabelEncoder\n",
        "from sklearn.model_selection import train_test_split\n",
        "from sklearn.metrics import accuracy_score\n",
        "from sklearn.ensemble import RandomForestClassifier"
      ]
    },
    {
      "cell_type": "code",
      "source": [
        "from google.colab import drive\n",
        "drive.mount('/content/drive')"
      ],
      "metadata": {
        "colab": {
          "base_uri": "https://localhost:8080/"
        },
        "id": "f3AWIAvXgyon",
        "outputId": "a219069f-2d4f-4015-edd0-c410a481ad3f"
      },
      "execution_count": 2,
      "outputs": [
        {
          "output_type": "stream",
          "name": "stdout",
          "text": [
            "Mounted at /content/drive\n"
          ]
        }
      ]
    },
    {
      "cell_type": "code",
      "source": [
        "import os\n",
        "df = pd.read_csv('/content/drive/MyDrive/RESEACH/TCGA Cervical Cancer (CESC)/methilation450K-Preprocessed-data/filtered_dataset.csv')"
      ],
      "metadata": {
        "id": "3ZqST9vLhpqu"
      },
      "execution_count": 3,
      "outputs": []
    },
    {
      "cell_type": "code",
      "source": [
        "df.shape"
      ],
      "metadata": {
        "colab": {
          "base_uri": "https://localhost:8080/"
        },
        "id": "iEhkqfcyjmUA",
        "outputId": "b0b82427-b190-437f-a984-6df2334dacad"
      },
      "execution_count": 4,
      "outputs": [
        {
          "output_type": "execute_result",
          "data": {
            "text/plain": [
              "(312, 202)"
            ]
          },
          "metadata": {},
          "execution_count": 4
        }
      ]
    },
    {
      "cell_type": "code",
      "source": [
        "df.columns"
      ],
      "metadata": {
        "colab": {
          "base_uri": "https://localhost:8080/"
        },
        "id": "6yU7MTo_kxTs",
        "outputId": "30605e60-e354-4a50-ecdb-c34fc956fa87"
      },
      "execution_count": 5,
      "outputs": [
        {
          "output_type": "execute_result",
          "data": {
            "text/plain": [
              "Index(['id', 'histological_type', 'cg26961332', 'cg01847620', 'cg01814098',\n",
              "       'cg17812026', 'cg25800170', 'cg13682477', 'cg23889391', 'cg26082557',\n",
              "       ...\n",
              "       'cg08643007', 'cg08367083', 'cg00810836', 'cg04087237', 'cg25379026',\n",
              "       'cg08839858', 'cg15794252', 'cg09806118', 'cg04020999', 'cg06960784'],\n",
              "      dtype='object', length=202)"
            ]
          },
          "metadata": {},
          "execution_count": 5
        }
      ]
    },
    {
      "cell_type": "markdown",
      "source": [
        "## Taking 20 featues"
      ],
      "metadata": {
        "id": "E47zKDkdPaSG"
      }
    },
    {
      "cell_type": "code",
      "source": [
        "X = df.iloc[:, 2:22]  # Select columns from index 2 to 21 (exclusive)\n",
        "y = df['histological_type']"
      ],
      "metadata": {
        "id": "VU-28-GsjruC"
      },
      "execution_count": 6,
      "outputs": []
    },
    {
      "cell_type": "code",
      "source": [
        "X"
      ],
      "metadata": {
        "colab": {
          "base_uri": "https://localhost:8080/",
          "height": 487
        },
        "id": "MD6Q45thNS4M",
        "outputId": "633bfd29-1097-48cd-8e94-41c7d33c7666"
      },
      "execution_count": 17,
      "outputs": [
        {
          "output_type": "execute_result",
          "data": {
            "text/plain": [
              "     cg26961332  cg01847620  cg01814098  cg17812026  cg25800170  cg13682477  \\\n",
              "0        0.9904      0.9860      0.0247      0.9570      0.0166      0.0166   \n",
              "1        0.9910      0.9909      0.0150      0.9914      0.0139      0.0172   \n",
              "2        0.9883      0.9424      0.0174      0.9776      0.2976      0.6157   \n",
              "3        0.9901      0.9858      0.0174      0.9898      0.0137      0.0211   \n",
              "4        0.8803      0.6852      0.0172      0.5670      0.2188      0.5187   \n",
              "..          ...         ...         ...         ...         ...         ...   \n",
              "307      0.9870      0.9878      0.0217      0.7349      0.0180      0.0252   \n",
              "308      0.9801      0.9022      0.0208      0.9823      0.0190      0.0239   \n",
              "309      0.9879      0.6833      0.1408      0.8738      0.0223      0.4855   \n",
              "310      0.9434      0.9259      0.0244      0.7724      0.2028      0.0350   \n",
              "311      0.9896      0.9833      0.0207      0.9896      0.0278      0.0202   \n",
              "\n",
              "     cg23889391  cg26082557  cg14239811  cg25087487  cg12382864  cg04006554  \\\n",
              "0        0.0158      0.0160      0.0101      0.2729      0.0116      0.0142   \n",
              "1        0.6539      0.0113      0.0093      0.2176      0.0126      0.7201   \n",
              "2        0.0132      0.0454      0.3142      0.0154      0.0110      0.0170   \n",
              "3        0.0169      0.0147      0.0156      0.0167      0.0115      0.0171   \n",
              "4        0.4858      0.4888      0.0070      0.0132      0.0105      0.0177   \n",
              "..          ...         ...         ...         ...         ...         ...   \n",
              "307      0.0168      0.6354      0.0130      0.0175      0.0141      0.0154   \n",
              "308      0.0146      0.0140      0.0120      0.0123      0.0157      0.0179   \n",
              "309      0.1336      0.5528      0.3116      0.3749      0.3288      0.0154   \n",
              "310      0.4781      0.0268      0.0149      0.0158      0.4012      0.0582   \n",
              "311      0.0149      0.0159      0.0101      0.0161      0.0146      0.0174   \n",
              "\n",
              "     cg19877419  cg11773346  cg21253692  cg08345372  cg20977170  cg04439623  \\\n",
              "0        0.0217      0.0731      0.0132      0.0272      0.0165      0.0119   \n",
              "1        0.0131      0.0174      0.5791      0.4215      0.0168      0.0144   \n",
              "2        0.0109      0.0319      0.0136      0.0172      0.0195      0.2562   \n",
              "3        0.0190      0.0272      0.0136      0.0145      0.0312      0.0196   \n",
              "4        0.5199      0.0401      0.4135      0.3357      0.2620      0.0144   \n",
              "..          ...         ...         ...         ...         ...         ...   \n",
              "307      0.0171      0.2517      0.0156      0.4650      0.0308      0.4944   \n",
              "308      0.0143      0.0270      0.0147      0.0164      0.0232      0.0158   \n",
              "309      0.0123      0.4277      0.4543      0.2207      0.2374      0.4718   \n",
              "310      0.3843      0.1523      0.2793      0.0162      0.0350      0.0378   \n",
              "311      0.0130      0.0702      0.0155      0.0182      0.0185      0.0141   \n",
              "\n",
              "     cg18115627  cg14073057  \n",
              "0        0.0312      0.9885  \n",
              "1        0.0105      0.9915  \n",
              "2        0.0173      0.9895  \n",
              "3        0.0165      0.9900  \n",
              "4        0.0174      0.9899  \n",
              "..          ...         ...  \n",
              "307      0.0199      0.9704  \n",
              "308      0.0231      0.8616  \n",
              "309      0.0166      0.9889  \n",
              "310      0.0192      0.9894  \n",
              "311      0.0175      0.9869  \n",
              "\n",
              "[312 rows x 20 columns]"
            ],
            "text/html": [
              "\n",
              "  <div id=\"df-d80c642a-82bc-4a20-bb8f-7723fe380870\">\n",
              "    <div class=\"colab-df-container\">\n",
              "      <div>\n",
              "<style scoped>\n",
              "    .dataframe tbody tr th:only-of-type {\n",
              "        vertical-align: middle;\n",
              "    }\n",
              "\n",
              "    .dataframe tbody tr th {\n",
              "        vertical-align: top;\n",
              "    }\n",
              "\n",
              "    .dataframe thead th {\n",
              "        text-align: right;\n",
              "    }\n",
              "</style>\n",
              "<table border=\"1\" class=\"dataframe\">\n",
              "  <thead>\n",
              "    <tr style=\"text-align: right;\">\n",
              "      <th></th>\n",
              "      <th>cg26961332</th>\n",
              "      <th>cg01847620</th>\n",
              "      <th>cg01814098</th>\n",
              "      <th>cg17812026</th>\n",
              "      <th>cg25800170</th>\n",
              "      <th>cg13682477</th>\n",
              "      <th>cg23889391</th>\n",
              "      <th>cg26082557</th>\n",
              "      <th>cg14239811</th>\n",
              "      <th>cg25087487</th>\n",
              "      <th>cg12382864</th>\n",
              "      <th>cg04006554</th>\n",
              "      <th>cg19877419</th>\n",
              "      <th>cg11773346</th>\n",
              "      <th>cg21253692</th>\n",
              "      <th>cg08345372</th>\n",
              "      <th>cg20977170</th>\n",
              "      <th>cg04439623</th>\n",
              "      <th>cg18115627</th>\n",
              "      <th>cg14073057</th>\n",
              "    </tr>\n",
              "  </thead>\n",
              "  <tbody>\n",
              "    <tr>\n",
              "      <th>0</th>\n",
              "      <td>0.9904</td>\n",
              "      <td>0.9860</td>\n",
              "      <td>0.0247</td>\n",
              "      <td>0.9570</td>\n",
              "      <td>0.0166</td>\n",
              "      <td>0.0166</td>\n",
              "      <td>0.0158</td>\n",
              "      <td>0.0160</td>\n",
              "      <td>0.0101</td>\n",
              "      <td>0.2729</td>\n",
              "      <td>0.0116</td>\n",
              "      <td>0.0142</td>\n",
              "      <td>0.0217</td>\n",
              "      <td>0.0731</td>\n",
              "      <td>0.0132</td>\n",
              "      <td>0.0272</td>\n",
              "      <td>0.0165</td>\n",
              "      <td>0.0119</td>\n",
              "      <td>0.0312</td>\n",
              "      <td>0.9885</td>\n",
              "    </tr>\n",
              "    <tr>\n",
              "      <th>1</th>\n",
              "      <td>0.9910</td>\n",
              "      <td>0.9909</td>\n",
              "      <td>0.0150</td>\n",
              "      <td>0.9914</td>\n",
              "      <td>0.0139</td>\n",
              "      <td>0.0172</td>\n",
              "      <td>0.6539</td>\n",
              "      <td>0.0113</td>\n",
              "      <td>0.0093</td>\n",
              "      <td>0.2176</td>\n",
              "      <td>0.0126</td>\n",
              "      <td>0.7201</td>\n",
              "      <td>0.0131</td>\n",
              "      <td>0.0174</td>\n",
              "      <td>0.5791</td>\n",
              "      <td>0.4215</td>\n",
              "      <td>0.0168</td>\n",
              "      <td>0.0144</td>\n",
              "      <td>0.0105</td>\n",
              "      <td>0.9915</td>\n",
              "    </tr>\n",
              "    <tr>\n",
              "      <th>2</th>\n",
              "      <td>0.9883</td>\n",
              "      <td>0.9424</td>\n",
              "      <td>0.0174</td>\n",
              "      <td>0.9776</td>\n",
              "      <td>0.2976</td>\n",
              "      <td>0.6157</td>\n",
              "      <td>0.0132</td>\n",
              "      <td>0.0454</td>\n",
              "      <td>0.3142</td>\n",
              "      <td>0.0154</td>\n",
              "      <td>0.0110</td>\n",
              "      <td>0.0170</td>\n",
              "      <td>0.0109</td>\n",
              "      <td>0.0319</td>\n",
              "      <td>0.0136</td>\n",
              "      <td>0.0172</td>\n",
              "      <td>0.0195</td>\n",
              "      <td>0.2562</td>\n",
              "      <td>0.0173</td>\n",
              "      <td>0.9895</td>\n",
              "    </tr>\n",
              "    <tr>\n",
              "      <th>3</th>\n",
              "      <td>0.9901</td>\n",
              "      <td>0.9858</td>\n",
              "      <td>0.0174</td>\n",
              "      <td>0.9898</td>\n",
              "      <td>0.0137</td>\n",
              "      <td>0.0211</td>\n",
              "      <td>0.0169</td>\n",
              "      <td>0.0147</td>\n",
              "      <td>0.0156</td>\n",
              "      <td>0.0167</td>\n",
              "      <td>0.0115</td>\n",
              "      <td>0.0171</td>\n",
              "      <td>0.0190</td>\n",
              "      <td>0.0272</td>\n",
              "      <td>0.0136</td>\n",
              "      <td>0.0145</td>\n",
              "      <td>0.0312</td>\n",
              "      <td>0.0196</td>\n",
              "      <td>0.0165</td>\n",
              "      <td>0.9900</td>\n",
              "    </tr>\n",
              "    <tr>\n",
              "      <th>4</th>\n",
              "      <td>0.8803</td>\n",
              "      <td>0.6852</td>\n",
              "      <td>0.0172</td>\n",
              "      <td>0.5670</td>\n",
              "      <td>0.2188</td>\n",
              "      <td>0.5187</td>\n",
              "      <td>0.4858</td>\n",
              "      <td>0.4888</td>\n",
              "      <td>0.0070</td>\n",
              "      <td>0.0132</td>\n",
              "      <td>0.0105</td>\n",
              "      <td>0.0177</td>\n",
              "      <td>0.5199</td>\n",
              "      <td>0.0401</td>\n",
              "      <td>0.4135</td>\n",
              "      <td>0.3357</td>\n",
              "      <td>0.2620</td>\n",
              "      <td>0.0144</td>\n",
              "      <td>0.0174</td>\n",
              "      <td>0.9899</td>\n",
              "    </tr>\n",
              "    <tr>\n",
              "      <th>...</th>\n",
              "      <td>...</td>\n",
              "      <td>...</td>\n",
              "      <td>...</td>\n",
              "      <td>...</td>\n",
              "      <td>...</td>\n",
              "      <td>...</td>\n",
              "      <td>...</td>\n",
              "      <td>...</td>\n",
              "      <td>...</td>\n",
              "      <td>...</td>\n",
              "      <td>...</td>\n",
              "      <td>...</td>\n",
              "      <td>...</td>\n",
              "      <td>...</td>\n",
              "      <td>...</td>\n",
              "      <td>...</td>\n",
              "      <td>...</td>\n",
              "      <td>...</td>\n",
              "      <td>...</td>\n",
              "      <td>...</td>\n",
              "    </tr>\n",
              "    <tr>\n",
              "      <th>307</th>\n",
              "      <td>0.9870</td>\n",
              "      <td>0.9878</td>\n",
              "      <td>0.0217</td>\n",
              "      <td>0.7349</td>\n",
              "      <td>0.0180</td>\n",
              "      <td>0.0252</td>\n",
              "      <td>0.0168</td>\n",
              "      <td>0.6354</td>\n",
              "      <td>0.0130</td>\n",
              "      <td>0.0175</td>\n",
              "      <td>0.0141</td>\n",
              "      <td>0.0154</td>\n",
              "      <td>0.0171</td>\n",
              "      <td>0.2517</td>\n",
              "      <td>0.0156</td>\n",
              "      <td>0.4650</td>\n",
              "      <td>0.0308</td>\n",
              "      <td>0.4944</td>\n",
              "      <td>0.0199</td>\n",
              "      <td>0.9704</td>\n",
              "    </tr>\n",
              "    <tr>\n",
              "      <th>308</th>\n",
              "      <td>0.9801</td>\n",
              "      <td>0.9022</td>\n",
              "      <td>0.0208</td>\n",
              "      <td>0.9823</td>\n",
              "      <td>0.0190</td>\n",
              "      <td>0.0239</td>\n",
              "      <td>0.0146</td>\n",
              "      <td>0.0140</td>\n",
              "      <td>0.0120</td>\n",
              "      <td>0.0123</td>\n",
              "      <td>0.0157</td>\n",
              "      <td>0.0179</td>\n",
              "      <td>0.0143</td>\n",
              "      <td>0.0270</td>\n",
              "      <td>0.0147</td>\n",
              "      <td>0.0164</td>\n",
              "      <td>0.0232</td>\n",
              "      <td>0.0158</td>\n",
              "      <td>0.0231</td>\n",
              "      <td>0.8616</td>\n",
              "    </tr>\n",
              "    <tr>\n",
              "      <th>309</th>\n",
              "      <td>0.9879</td>\n",
              "      <td>0.6833</td>\n",
              "      <td>0.1408</td>\n",
              "      <td>0.8738</td>\n",
              "      <td>0.0223</td>\n",
              "      <td>0.4855</td>\n",
              "      <td>0.1336</td>\n",
              "      <td>0.5528</td>\n",
              "      <td>0.3116</td>\n",
              "      <td>0.3749</td>\n",
              "      <td>0.3288</td>\n",
              "      <td>0.0154</td>\n",
              "      <td>0.0123</td>\n",
              "      <td>0.4277</td>\n",
              "      <td>0.4543</td>\n",
              "      <td>0.2207</td>\n",
              "      <td>0.2374</td>\n",
              "      <td>0.4718</td>\n",
              "      <td>0.0166</td>\n",
              "      <td>0.9889</td>\n",
              "    </tr>\n",
              "    <tr>\n",
              "      <th>310</th>\n",
              "      <td>0.9434</td>\n",
              "      <td>0.9259</td>\n",
              "      <td>0.0244</td>\n",
              "      <td>0.7724</td>\n",
              "      <td>0.2028</td>\n",
              "      <td>0.0350</td>\n",
              "      <td>0.4781</td>\n",
              "      <td>0.0268</td>\n",
              "      <td>0.0149</td>\n",
              "      <td>0.0158</td>\n",
              "      <td>0.4012</td>\n",
              "      <td>0.0582</td>\n",
              "      <td>0.3843</td>\n",
              "      <td>0.1523</td>\n",
              "      <td>0.2793</td>\n",
              "      <td>0.0162</td>\n",
              "      <td>0.0350</td>\n",
              "      <td>0.0378</td>\n",
              "      <td>0.0192</td>\n",
              "      <td>0.9894</td>\n",
              "    </tr>\n",
              "    <tr>\n",
              "      <th>311</th>\n",
              "      <td>0.9896</td>\n",
              "      <td>0.9833</td>\n",
              "      <td>0.0207</td>\n",
              "      <td>0.9896</td>\n",
              "      <td>0.0278</td>\n",
              "      <td>0.0202</td>\n",
              "      <td>0.0149</td>\n",
              "      <td>0.0159</td>\n",
              "      <td>0.0101</td>\n",
              "      <td>0.0161</td>\n",
              "      <td>0.0146</td>\n",
              "      <td>0.0174</td>\n",
              "      <td>0.0130</td>\n",
              "      <td>0.0702</td>\n",
              "      <td>0.0155</td>\n",
              "      <td>0.0182</td>\n",
              "      <td>0.0185</td>\n",
              "      <td>0.0141</td>\n",
              "      <td>0.0175</td>\n",
              "      <td>0.9869</td>\n",
              "    </tr>\n",
              "  </tbody>\n",
              "</table>\n",
              "<p>312 rows × 20 columns</p>\n",
              "</div>\n",
              "      <button class=\"colab-df-convert\" onclick=\"convertToInteractive('df-d80c642a-82bc-4a20-bb8f-7723fe380870')\"\n",
              "              title=\"Convert this dataframe to an interactive table.\"\n",
              "              style=\"display:none;\">\n",
              "        \n",
              "  <svg xmlns=\"http://www.w3.org/2000/svg\" height=\"24px\"viewBox=\"0 0 24 24\"\n",
              "       width=\"24px\">\n",
              "    <path d=\"M0 0h24v24H0V0z\" fill=\"none\"/>\n",
              "    <path d=\"M18.56 5.44l.94 2.06.94-2.06 2.06-.94-2.06-.94-.94-2.06-.94 2.06-2.06.94zm-11 1L8.5 8.5l.94-2.06 2.06-.94-2.06-.94L8.5 2.5l-.94 2.06-2.06.94zm10 10l.94 2.06.94-2.06 2.06-.94-2.06-.94-.94-2.06-.94 2.06-2.06.94z\"/><path d=\"M17.41 7.96l-1.37-1.37c-.4-.4-.92-.59-1.43-.59-.52 0-1.04.2-1.43.59L10.3 9.45l-7.72 7.72c-.78.78-.78 2.05 0 2.83L4 21.41c.39.39.9.59 1.41.59.51 0 1.02-.2 1.41-.59l7.78-7.78 2.81-2.81c.8-.78.8-2.07 0-2.86zM5.41 20L4 18.59l7.72-7.72 1.47 1.35L5.41 20z\"/>\n",
              "  </svg>\n",
              "      </button>\n",
              "      \n",
              "  <style>\n",
              "    .colab-df-container {\n",
              "      display:flex;\n",
              "      flex-wrap:wrap;\n",
              "      gap: 12px;\n",
              "    }\n",
              "\n",
              "    .colab-df-convert {\n",
              "      background-color: #E8F0FE;\n",
              "      border: none;\n",
              "      border-radius: 50%;\n",
              "      cursor: pointer;\n",
              "      display: none;\n",
              "      fill: #1967D2;\n",
              "      height: 32px;\n",
              "      padding: 0 0 0 0;\n",
              "      width: 32px;\n",
              "    }\n",
              "\n",
              "    .colab-df-convert:hover {\n",
              "      background-color: #E2EBFA;\n",
              "      box-shadow: 0px 1px 2px rgba(60, 64, 67, 0.3), 0px 1px 3px 1px rgba(60, 64, 67, 0.15);\n",
              "      fill: #174EA6;\n",
              "    }\n",
              "\n",
              "    [theme=dark] .colab-df-convert {\n",
              "      background-color: #3B4455;\n",
              "      fill: #D2E3FC;\n",
              "    }\n",
              "\n",
              "    [theme=dark] .colab-df-convert:hover {\n",
              "      background-color: #434B5C;\n",
              "      box-shadow: 0px 1px 3px 1px rgba(0, 0, 0, 0.15);\n",
              "      filter: drop-shadow(0px 1px 2px rgba(0, 0, 0, 0.3));\n",
              "      fill: #FFFFFF;\n",
              "    }\n",
              "  </style>\n",
              "\n",
              "      <script>\n",
              "        const buttonEl =\n",
              "          document.querySelector('#df-d80c642a-82bc-4a20-bb8f-7723fe380870 button.colab-df-convert');\n",
              "        buttonEl.style.display =\n",
              "          google.colab.kernel.accessAllowed ? 'block' : 'none';\n",
              "\n",
              "        async function convertToInteractive(key) {\n",
              "          const element = document.querySelector('#df-d80c642a-82bc-4a20-bb8f-7723fe380870');\n",
              "          const dataTable =\n",
              "            await google.colab.kernel.invokeFunction('convertToInteractive',\n",
              "                                                     [key], {});\n",
              "          if (!dataTable) return;\n",
              "\n",
              "          const docLinkHtml = 'Like what you see? Visit the ' +\n",
              "            '<a target=\"_blank\" href=https://colab.research.google.com/notebooks/data_table.ipynb>data table notebook</a>'\n",
              "            + ' to learn more about interactive tables.';\n",
              "          element.innerHTML = '';\n",
              "          dataTable['output_type'] = 'display_data';\n",
              "          await google.colab.output.renderOutput(dataTable, element);\n",
              "          const docLink = document.createElement('div');\n",
              "          docLink.innerHTML = docLinkHtml;\n",
              "          element.appendChild(docLink);\n",
              "        }\n",
              "      </script>\n",
              "    </div>\n",
              "  </div>\n",
              "  "
            ]
          },
          "metadata": {},
          "execution_count": 17
        }
      ]
    },
    {
      "cell_type": "code",
      "source": [
        "y"
      ],
      "metadata": {
        "colab": {
          "base_uri": "https://localhost:8080/"
        },
        "id": "hmc9gJWnlGcR",
        "outputId": "dd19feed-7d2a-4f28-9c2e-aa2e7b87bbc3"
      },
      "execution_count": 7,
      "outputs": [
        {
          "output_type": "execute_result",
          "data": {
            "text/plain": [
              "0      Endocervical Type of Adenocarcinoma\n",
              "1         Cervical Squamous Cell Carcinoma\n",
              "2         Cervical Squamous Cell Carcinoma\n",
              "3         Cervical Squamous Cell Carcinoma\n",
              "4         Cervical Squamous Cell Carcinoma\n",
              "                      ...                 \n",
              "307       Cervical Squamous Cell Carcinoma\n",
              "308       Cervical Squamous Cell Carcinoma\n",
              "309       Cervical Squamous Cell Carcinoma\n",
              "310       Cervical Squamous Cell Carcinoma\n",
              "311    Endocervical Type of Adenocarcinoma\n",
              "Name: histological_type, Length: 312, dtype: object"
            ]
          },
          "metadata": {},
          "execution_count": 7
        }
      ]
    },
    {
      "cell_type": "code",
      "source": [
        "label_encoder = LabelEncoder()\n",
        "y_encoded = label_encoder.fit_transform(y)"
      ],
      "metadata": {
        "id": "7Z4tpzNbNBw-"
      },
      "execution_count": 14,
      "outputs": []
    },
    {
      "cell_type": "code",
      "source": [
        "y_encoded"
      ],
      "metadata": {
        "colab": {
          "base_uri": "https://localhost:8080/"
        },
        "id": "SwBb9N_ZNFuU",
        "outputId": "463cb68c-71a3-4797-90cf-50def71b687e"
      },
      "execution_count": 15,
      "outputs": [
        {
          "output_type": "execute_result",
          "data": {
            "text/plain": [
              "array([3, 1, 1, 1, 1, 3, 1, 3, 1, 1, 1, 1, 0, 1, 1, 1, 1, 1, 1, 3, 1, 1,\n",
              "       3, 1, 1, 1, 1, 1, 5, 1, 1, 1, 1, 1, 1, 1, 1, 3, 1, 1, 1, 0, 1, 1,\n",
              "       1, 1, 1, 1, 1, 1, 1, 1, 1, 5, 1, 1, 5, 3, 1, 1, 1, 1, 1, 1, 1, 1,\n",
              "       1, 1, 1, 1, 1, 1, 1, 1, 1, 1, 1, 1, 1, 1, 1, 1, 5, 1, 4, 1, 1, 1,\n",
              "       1, 1, 1, 1, 1, 1, 1, 1, 1, 1, 1, 1, 1, 3, 1, 1, 1, 1, 1, 1, 1, 5,\n",
              "       1, 1, 1, 1, 1, 1, 1, 1, 1, 1, 1, 1, 2, 5, 1, 1, 3, 1, 1, 1, 1, 1,\n",
              "       1, 0, 1, 0, 1, 1, 1, 1, 1, 1, 0, 1, 1, 1, 3, 1, 1, 1, 1, 1, 1, 1,\n",
              "       3, 0, 1, 4, 1, 1, 1, 1, 1, 1, 1, 1, 1, 2, 1, 1, 1, 1, 1, 1, 1, 3,\n",
              "       1, 1, 1, 1, 1, 1, 3, 1, 1, 1, 1, 3, 1, 1, 1, 1, 1, 2, 1, 1, 2, 2,\n",
              "       1, 1, 1, 1, 1, 1, 1, 1, 1, 1, 5, 1, 1, 1, 5, 1, 1, 1, 1, 1, 1, 1,\n",
              "       1, 1, 1, 1, 1, 1, 3, 1, 1, 1, 1, 2, 3, 1, 5, 1, 0, 1, 3, 1, 1, 1,\n",
              "       1, 1, 3, 1, 1, 5, 1, 1, 1, 3, 1, 1, 1, 1, 5, 1, 1, 5, 1, 1, 1, 5,\n",
              "       1, 1, 5, 1, 1, 3, 1, 1, 1, 5, 5, 1, 4, 1, 1, 1, 1, 1, 1, 1, 1, 1,\n",
              "       1, 1, 1, 1, 1, 1, 1, 5, 3, 1, 1, 1, 1, 1, 1, 1, 1, 1, 1, 1, 1, 1,\n",
              "       1, 1, 1, 3])"
            ]
          },
          "metadata": {},
          "execution_count": 15
        }
      ]
    },
    {
      "cell_type": "code",
      "source": [
        "X_train, X_test, y_train, y_test = train_test_split(X, y_encoded, train_size=0.8, random_state=42)\n",
        "X_train.shape, X_test.shape"
      ],
      "metadata": {
        "colab": {
          "base_uri": "https://localhost:8080/"
        },
        "id": "UpRkru4bmt74",
        "outputId": "b84168e9-47d1-4be8-9ba2-18d87bb81ed3"
      },
      "execution_count": 18,
      "outputs": [
        {
          "output_type": "execute_result",
          "data": {
            "text/plain": [
              "((249, 20), (63, 20))"
            ]
          },
          "metadata": {},
          "execution_count": 18
        }
      ]
    },
    {
      "cell_type": "code",
      "source": [
        "# Initialize the random forest model\n",
        "rf_classifier = RandomForestClassifier()\n",
        "\n",
        "# Fit the model to the training data\n",
        "rf_classifier.fit(X_train, y_train)"
      ],
      "metadata": {
        "colab": {
          "base_uri": "https://localhost:8080/",
          "height": 75
        },
        "id": "LvG2mdBJWivp",
        "outputId": "8dd7ef55-db95-4776-f07a-b63f5587de2b"
      },
      "execution_count": 21,
      "outputs": [
        {
          "output_type": "execute_result",
          "data": {
            "text/plain": [
              "RandomForestClassifier()"
            ],
            "text/html": [
              "<style>#sk-container-id-1 {color: black;background-color: white;}#sk-container-id-1 pre{padding: 0;}#sk-container-id-1 div.sk-toggleable {background-color: white;}#sk-container-id-1 label.sk-toggleable__label {cursor: pointer;display: block;width: 100%;margin-bottom: 0;padding: 0.3em;box-sizing: border-box;text-align: center;}#sk-container-id-1 label.sk-toggleable__label-arrow:before {content: \"▸\";float: left;margin-right: 0.25em;color: #696969;}#sk-container-id-1 label.sk-toggleable__label-arrow:hover:before {color: black;}#sk-container-id-1 div.sk-estimator:hover label.sk-toggleable__label-arrow:before {color: black;}#sk-container-id-1 div.sk-toggleable__content {max-height: 0;max-width: 0;overflow: hidden;text-align: left;background-color: #f0f8ff;}#sk-container-id-1 div.sk-toggleable__content pre {margin: 0.2em;color: black;border-radius: 0.25em;background-color: #f0f8ff;}#sk-container-id-1 input.sk-toggleable__control:checked~div.sk-toggleable__content {max-height: 200px;max-width: 100%;overflow: auto;}#sk-container-id-1 input.sk-toggleable__control:checked~label.sk-toggleable__label-arrow:before {content: \"▾\";}#sk-container-id-1 div.sk-estimator input.sk-toggleable__control:checked~label.sk-toggleable__label {background-color: #d4ebff;}#sk-container-id-1 div.sk-label input.sk-toggleable__control:checked~label.sk-toggleable__label {background-color: #d4ebff;}#sk-container-id-1 input.sk-hidden--visually {border: 0;clip: rect(1px 1px 1px 1px);clip: rect(1px, 1px, 1px, 1px);height: 1px;margin: -1px;overflow: hidden;padding: 0;position: absolute;width: 1px;}#sk-container-id-1 div.sk-estimator {font-family: monospace;background-color: #f0f8ff;border: 1px dotted black;border-radius: 0.25em;box-sizing: border-box;margin-bottom: 0.5em;}#sk-container-id-1 div.sk-estimator:hover {background-color: #d4ebff;}#sk-container-id-1 div.sk-parallel-item::after {content: \"\";width: 100%;border-bottom: 1px solid gray;flex-grow: 1;}#sk-container-id-1 div.sk-label:hover label.sk-toggleable__label {background-color: #d4ebff;}#sk-container-id-1 div.sk-serial::before {content: \"\";position: absolute;border-left: 1px solid gray;box-sizing: border-box;top: 0;bottom: 0;left: 50%;z-index: 0;}#sk-container-id-1 div.sk-serial {display: flex;flex-direction: column;align-items: center;background-color: white;padding-right: 0.2em;padding-left: 0.2em;position: relative;}#sk-container-id-1 div.sk-item {position: relative;z-index: 1;}#sk-container-id-1 div.sk-parallel {display: flex;align-items: stretch;justify-content: center;background-color: white;position: relative;}#sk-container-id-1 div.sk-item::before, #sk-container-id-1 div.sk-parallel-item::before {content: \"\";position: absolute;border-left: 1px solid gray;box-sizing: border-box;top: 0;bottom: 0;left: 50%;z-index: -1;}#sk-container-id-1 div.sk-parallel-item {display: flex;flex-direction: column;z-index: 1;position: relative;background-color: white;}#sk-container-id-1 div.sk-parallel-item:first-child::after {align-self: flex-end;width: 50%;}#sk-container-id-1 div.sk-parallel-item:last-child::after {align-self: flex-start;width: 50%;}#sk-container-id-1 div.sk-parallel-item:only-child::after {width: 0;}#sk-container-id-1 div.sk-dashed-wrapped {border: 1px dashed gray;margin: 0 0.4em 0.5em 0.4em;box-sizing: border-box;padding-bottom: 0.4em;background-color: white;}#sk-container-id-1 div.sk-label label {font-family: monospace;font-weight: bold;display: inline-block;line-height: 1.2em;}#sk-container-id-1 div.sk-label-container {text-align: center;}#sk-container-id-1 div.sk-container {/* jupyter's `normalize.less` sets `[hidden] { display: none; }` but bootstrap.min.css set `[hidden] { display: none !important; }` so we also need the `!important` here to be able to override the default hidden behavior on the sphinx rendered scikit-learn.org. See: https://github.com/scikit-learn/scikit-learn/issues/21755 */display: inline-block !important;position: relative;}#sk-container-id-1 div.sk-text-repr-fallback {display: none;}</style><div id=\"sk-container-id-1\" class=\"sk-top-container\"><div class=\"sk-text-repr-fallback\"><pre>RandomForestClassifier()</pre><b>In a Jupyter environment, please rerun this cell to show the HTML representation or trust the notebook. <br />On GitHub, the HTML representation is unable to render, please try loading this page with nbviewer.org.</b></div><div class=\"sk-container\" hidden><div class=\"sk-item\"><div class=\"sk-estimator sk-toggleable\"><input class=\"sk-toggleable__control sk-hidden--visually\" id=\"sk-estimator-id-1\" type=\"checkbox\" checked><label for=\"sk-estimator-id-1\" class=\"sk-toggleable__label sk-toggleable__label-arrow\">RandomForestClassifier</label><div class=\"sk-toggleable__content\"><pre>RandomForestClassifier()</pre></div></div></div></div></div>"
            ]
          },
          "metadata": {},
          "execution_count": 21
        }
      ]
    },
    {
      "cell_type": "code",
      "source": [
        "# Make predictions on the test data\n",
        "y_pred = rf_classifier.predict(X_test)"
      ],
      "metadata": {
        "id": "j-EV-kZbL1hJ"
      },
      "execution_count": 22,
      "outputs": []
    },
    {
      "cell_type": "code",
      "source": [
        "# Convert the encoded predictions back to the original categorical labels\n",
        "y_pred_labels = label_encoder.inverse_transform(y_pred)"
      ],
      "metadata": {
        "id": "kml-YYMZOWRd"
      },
      "execution_count": 23,
      "outputs": []
    },
    {
      "cell_type": "code",
      "source": [
        "# Calculate the accuracy of the model\n",
        "accuracy = accuracy_score(y_test, y_pred_labels)\n",
        "print(\"Accuracy:\", accuracy)"
      ],
      "metadata": {
        "colab": {
          "base_uri": "https://localhost:8080/"
        },
        "id": "Tr9DwLSBOaB2",
        "outputId": "982cdb68-6a4e-424e-d205-a1215e374305"
      },
      "execution_count": 24,
      "outputs": [
        {
          "output_type": "stream",
          "name": "stdout",
          "text": [
            "Accuracy: 0.0\n"
          ]
        }
      ]
    },
    {
      "cell_type": "markdown",
      "source": [
        "## Taking 50 featues"
      ],
      "metadata": {
        "id": "J_cPNalhPMSW"
      }
    },
    {
      "cell_type": "code",
      "source": [
        "X1 = df.iloc[:, 2:52]  # Select columns from index 2 to 51 (exclusive)"
      ],
      "metadata": {
        "id": "BN_E4fMpOdj4"
      },
      "execution_count": 28,
      "outputs": []
    },
    {
      "cell_type": "code",
      "source": [
        "X_train1, X_test1, y_train1, y_test1 = train_test_split(X1, y_encoded, train_size=0.8, random_state=42)\n",
        "X_train1.shape, X_test1.shape"
      ],
      "metadata": {
        "colab": {
          "base_uri": "https://localhost:8080/"
        },
        "id": "FCkqXvsEQ9-d",
        "outputId": "d417a0c3-b573-4c89-c6a6-fb0413103eee"
      },
      "execution_count": 29,
      "outputs": [
        {
          "output_type": "execute_result",
          "data": {
            "text/plain": [
              "((249, 50), (63, 50))"
            ]
          },
          "metadata": {},
          "execution_count": 29
        }
      ]
    },
    {
      "cell_type": "code",
      "source": [
        "rf_classifier.fit(X_train1, y_train1)"
      ],
      "metadata": {
        "colab": {
          "base_uri": "https://localhost:8080/",
          "height": 75
        },
        "id": "EWin7p4_RHNJ",
        "outputId": "0f7c79c0-f68e-4c9a-9ff7-0031b8062a74"
      },
      "execution_count": 33,
      "outputs": [
        {
          "output_type": "execute_result",
          "data": {
            "text/plain": [
              "RandomForestClassifier()"
            ],
            "text/html": [
              "<style>#sk-container-id-3 {color: black;background-color: white;}#sk-container-id-3 pre{padding: 0;}#sk-container-id-3 div.sk-toggleable {background-color: white;}#sk-container-id-3 label.sk-toggleable__label {cursor: pointer;display: block;width: 100%;margin-bottom: 0;padding: 0.3em;box-sizing: border-box;text-align: center;}#sk-container-id-3 label.sk-toggleable__label-arrow:before {content: \"▸\";float: left;margin-right: 0.25em;color: #696969;}#sk-container-id-3 label.sk-toggleable__label-arrow:hover:before {color: black;}#sk-container-id-3 div.sk-estimator:hover label.sk-toggleable__label-arrow:before {color: black;}#sk-container-id-3 div.sk-toggleable__content {max-height: 0;max-width: 0;overflow: hidden;text-align: left;background-color: #f0f8ff;}#sk-container-id-3 div.sk-toggleable__content pre {margin: 0.2em;color: black;border-radius: 0.25em;background-color: #f0f8ff;}#sk-container-id-3 input.sk-toggleable__control:checked~div.sk-toggleable__content {max-height: 200px;max-width: 100%;overflow: auto;}#sk-container-id-3 input.sk-toggleable__control:checked~label.sk-toggleable__label-arrow:before {content: \"▾\";}#sk-container-id-3 div.sk-estimator input.sk-toggleable__control:checked~label.sk-toggleable__label {background-color: #d4ebff;}#sk-container-id-3 div.sk-label input.sk-toggleable__control:checked~label.sk-toggleable__label {background-color: #d4ebff;}#sk-container-id-3 input.sk-hidden--visually {border: 0;clip: rect(1px 1px 1px 1px);clip: rect(1px, 1px, 1px, 1px);height: 1px;margin: -1px;overflow: hidden;padding: 0;position: absolute;width: 1px;}#sk-container-id-3 div.sk-estimator {font-family: monospace;background-color: #f0f8ff;border: 1px dotted black;border-radius: 0.25em;box-sizing: border-box;margin-bottom: 0.5em;}#sk-container-id-3 div.sk-estimator:hover {background-color: #d4ebff;}#sk-container-id-3 div.sk-parallel-item::after {content: \"\";width: 100%;border-bottom: 1px solid gray;flex-grow: 1;}#sk-container-id-3 div.sk-label:hover label.sk-toggleable__label {background-color: #d4ebff;}#sk-container-id-3 div.sk-serial::before {content: \"\";position: absolute;border-left: 1px solid gray;box-sizing: border-box;top: 0;bottom: 0;left: 50%;z-index: 0;}#sk-container-id-3 div.sk-serial {display: flex;flex-direction: column;align-items: center;background-color: white;padding-right: 0.2em;padding-left: 0.2em;position: relative;}#sk-container-id-3 div.sk-item {position: relative;z-index: 1;}#sk-container-id-3 div.sk-parallel {display: flex;align-items: stretch;justify-content: center;background-color: white;position: relative;}#sk-container-id-3 div.sk-item::before, #sk-container-id-3 div.sk-parallel-item::before {content: \"\";position: absolute;border-left: 1px solid gray;box-sizing: border-box;top: 0;bottom: 0;left: 50%;z-index: -1;}#sk-container-id-3 div.sk-parallel-item {display: flex;flex-direction: column;z-index: 1;position: relative;background-color: white;}#sk-container-id-3 div.sk-parallel-item:first-child::after {align-self: flex-end;width: 50%;}#sk-container-id-3 div.sk-parallel-item:last-child::after {align-self: flex-start;width: 50%;}#sk-container-id-3 div.sk-parallel-item:only-child::after {width: 0;}#sk-container-id-3 div.sk-dashed-wrapped {border: 1px dashed gray;margin: 0 0.4em 0.5em 0.4em;box-sizing: border-box;padding-bottom: 0.4em;background-color: white;}#sk-container-id-3 div.sk-label label {font-family: monospace;font-weight: bold;display: inline-block;line-height: 1.2em;}#sk-container-id-3 div.sk-label-container {text-align: center;}#sk-container-id-3 div.sk-container {/* jupyter's `normalize.less` sets `[hidden] { display: none; }` but bootstrap.min.css set `[hidden] { display: none !important; }` so we also need the `!important` here to be able to override the default hidden behavior on the sphinx rendered scikit-learn.org. See: https://github.com/scikit-learn/scikit-learn/issues/21755 */display: inline-block !important;position: relative;}#sk-container-id-3 div.sk-text-repr-fallback {display: none;}</style><div id=\"sk-container-id-3\" class=\"sk-top-container\"><div class=\"sk-text-repr-fallback\"><pre>RandomForestClassifier()</pre><b>In a Jupyter environment, please rerun this cell to show the HTML representation or trust the notebook. <br />On GitHub, the HTML representation is unable to render, please try loading this page with nbviewer.org.</b></div><div class=\"sk-container\" hidden><div class=\"sk-item\"><div class=\"sk-estimator sk-toggleable\"><input class=\"sk-toggleable__control sk-hidden--visually\" id=\"sk-estimator-id-3\" type=\"checkbox\" checked><label for=\"sk-estimator-id-3\" class=\"sk-toggleable__label sk-toggleable__label-arrow\">RandomForestClassifier</label><div class=\"sk-toggleable__content\"><pre>RandomForestClassifier()</pre></div></div></div></div></div>"
            ]
          },
          "metadata": {},
          "execution_count": 33
        }
      ]
    },
    {
      "cell_type": "code",
      "source": [
        "# Make predictions on the test data\n",
        "y_pred1 = rf_classifier.predict(X_test1)\n",
        "y_pred_labels1 = label_encoder.inverse_transform(y_pred1)"
      ],
      "metadata": {
        "id": "VBydnRTiRUXG"
      },
      "execution_count": 37,
      "outputs": []
    },
    {
      "cell_type": "code",
      "source": [
        "accuracy1 = accuracy_score(y_test1, y_pred_labels1)\n",
        "print(\"Accuracy1:\", accuracy1)"
      ],
      "metadata": {
        "colab": {
          "base_uri": "https://localhost:8080/"
        },
        "id": "XdrC-rZARZWf",
        "outputId": "60cabdc3-6071-42db-dcf7-49300f8050ed"
      },
      "execution_count": 38,
      "outputs": [
        {
          "output_type": "stream",
          "name": "stdout",
          "text": [
            "Accuracy: 0.0\n"
          ]
        }
      ]
    },
    {
      "cell_type": "markdown",
      "source": [
        "## Taking 100 featues"
      ],
      "metadata": {
        "id": "YmzMPWcrUqhL"
      }
    },
    {
      "cell_type": "code",
      "source": [
        "X2 = df.iloc[:, 2:102]  # Select columns from index 2 to 51 (exclusive)"
      ],
      "metadata": {
        "id": "W6UwVbAxR48n"
      },
      "execution_count": 40,
      "outputs": []
    },
    {
      "cell_type": "code",
      "source": [
        "X_train2, X_test2, y_train2, y_test2 = train_test_split(X2, y_encoded, train_size=0.8, random_state=42)\n",
        "X_train2.shape, X_test2.shape"
      ],
      "metadata": {
        "colab": {
          "base_uri": "https://localhost:8080/"
        },
        "id": "gW9drtVRUvlY",
        "outputId": "ca8651cf-06ff-41f6-95c7-db18756c8121"
      },
      "execution_count": 41,
      "outputs": [
        {
          "output_type": "execute_result",
          "data": {
            "text/plain": [
              "((249, 100), (63, 100))"
            ]
          },
          "metadata": {},
          "execution_count": 41
        }
      ]
    },
    {
      "cell_type": "code",
      "source": [
        "rf_classifier.fit(X_train2, y_train2)"
      ],
      "metadata": {
        "colab": {
          "base_uri": "https://localhost:8080/",
          "height": 75
        },
        "id": "YnhMrVtkU-uY",
        "outputId": "c7ea0dc6-0a1c-420b-e2ad-ab5d5ffd4f66"
      },
      "execution_count": 42,
      "outputs": [
        {
          "output_type": "execute_result",
          "data": {
            "text/plain": [
              "RandomForestClassifier()"
            ],
            "text/html": [
              "<style>#sk-container-id-4 {color: black;background-color: white;}#sk-container-id-4 pre{padding: 0;}#sk-container-id-4 div.sk-toggleable {background-color: white;}#sk-container-id-4 label.sk-toggleable__label {cursor: pointer;display: block;width: 100%;margin-bottom: 0;padding: 0.3em;box-sizing: border-box;text-align: center;}#sk-container-id-4 label.sk-toggleable__label-arrow:before {content: \"▸\";float: left;margin-right: 0.25em;color: #696969;}#sk-container-id-4 label.sk-toggleable__label-arrow:hover:before {color: black;}#sk-container-id-4 div.sk-estimator:hover label.sk-toggleable__label-arrow:before {color: black;}#sk-container-id-4 div.sk-toggleable__content {max-height: 0;max-width: 0;overflow: hidden;text-align: left;background-color: #f0f8ff;}#sk-container-id-4 div.sk-toggleable__content pre {margin: 0.2em;color: black;border-radius: 0.25em;background-color: #f0f8ff;}#sk-container-id-4 input.sk-toggleable__control:checked~div.sk-toggleable__content {max-height: 200px;max-width: 100%;overflow: auto;}#sk-container-id-4 input.sk-toggleable__control:checked~label.sk-toggleable__label-arrow:before {content: \"▾\";}#sk-container-id-4 div.sk-estimator input.sk-toggleable__control:checked~label.sk-toggleable__label {background-color: #d4ebff;}#sk-container-id-4 div.sk-label input.sk-toggleable__control:checked~label.sk-toggleable__label {background-color: #d4ebff;}#sk-container-id-4 input.sk-hidden--visually {border: 0;clip: rect(1px 1px 1px 1px);clip: rect(1px, 1px, 1px, 1px);height: 1px;margin: -1px;overflow: hidden;padding: 0;position: absolute;width: 1px;}#sk-container-id-4 div.sk-estimator {font-family: monospace;background-color: #f0f8ff;border: 1px dotted black;border-radius: 0.25em;box-sizing: border-box;margin-bottom: 0.5em;}#sk-container-id-4 div.sk-estimator:hover {background-color: #d4ebff;}#sk-container-id-4 div.sk-parallel-item::after {content: \"\";width: 100%;border-bottom: 1px solid gray;flex-grow: 1;}#sk-container-id-4 div.sk-label:hover label.sk-toggleable__label {background-color: #d4ebff;}#sk-container-id-4 div.sk-serial::before {content: \"\";position: absolute;border-left: 1px solid gray;box-sizing: border-box;top: 0;bottom: 0;left: 50%;z-index: 0;}#sk-container-id-4 div.sk-serial {display: flex;flex-direction: column;align-items: center;background-color: white;padding-right: 0.2em;padding-left: 0.2em;position: relative;}#sk-container-id-4 div.sk-item {position: relative;z-index: 1;}#sk-container-id-4 div.sk-parallel {display: flex;align-items: stretch;justify-content: center;background-color: white;position: relative;}#sk-container-id-4 div.sk-item::before, #sk-container-id-4 div.sk-parallel-item::before {content: \"\";position: absolute;border-left: 1px solid gray;box-sizing: border-box;top: 0;bottom: 0;left: 50%;z-index: -1;}#sk-container-id-4 div.sk-parallel-item {display: flex;flex-direction: column;z-index: 1;position: relative;background-color: white;}#sk-container-id-4 div.sk-parallel-item:first-child::after {align-self: flex-end;width: 50%;}#sk-container-id-4 div.sk-parallel-item:last-child::after {align-self: flex-start;width: 50%;}#sk-container-id-4 div.sk-parallel-item:only-child::after {width: 0;}#sk-container-id-4 div.sk-dashed-wrapped {border: 1px dashed gray;margin: 0 0.4em 0.5em 0.4em;box-sizing: border-box;padding-bottom: 0.4em;background-color: white;}#sk-container-id-4 div.sk-label label {font-family: monospace;font-weight: bold;display: inline-block;line-height: 1.2em;}#sk-container-id-4 div.sk-label-container {text-align: center;}#sk-container-id-4 div.sk-container {/* jupyter's `normalize.less` sets `[hidden] { display: none; }` but bootstrap.min.css set `[hidden] { display: none !important; }` so we also need the `!important` here to be able to override the default hidden behavior on the sphinx rendered scikit-learn.org. See: https://github.com/scikit-learn/scikit-learn/issues/21755 */display: inline-block !important;position: relative;}#sk-container-id-4 div.sk-text-repr-fallback {display: none;}</style><div id=\"sk-container-id-4\" class=\"sk-top-container\"><div class=\"sk-text-repr-fallback\"><pre>RandomForestClassifier()</pre><b>In a Jupyter environment, please rerun this cell to show the HTML representation or trust the notebook. <br />On GitHub, the HTML representation is unable to render, please try loading this page with nbviewer.org.</b></div><div class=\"sk-container\" hidden><div class=\"sk-item\"><div class=\"sk-estimator sk-toggleable\"><input class=\"sk-toggleable__control sk-hidden--visually\" id=\"sk-estimator-id-4\" type=\"checkbox\" checked><label for=\"sk-estimator-id-4\" class=\"sk-toggleable__label sk-toggleable__label-arrow\">RandomForestClassifier</label><div class=\"sk-toggleable__content\"><pre>RandomForestClassifier()</pre></div></div></div></div></div>"
            ]
          },
          "metadata": {},
          "execution_count": 42
        }
      ]
    },
    {
      "cell_type": "code",
      "source": [
        "y_pred2 = rf_classifier.predict(X_test2)\n",
        "y_pred_labels2 = label_encoder.inverse_transform(y_pred2)\n",
        "accuracy2 = accuracy_score(y_test2, y_pred_labels2)\n",
        "print(\"Accuracy2:\", accuracy2)"
      ],
      "metadata": {
        "colab": {
          "base_uri": "https://localhost:8080/"
        },
        "id": "JvqhRsd9VEmv",
        "outputId": "202b2929-8b33-43d3-df04-36d1ef346e04"
      },
      "execution_count": 43,
      "outputs": [
        {
          "output_type": "stream",
          "name": "stdout",
          "text": [
            "Accuracy2: 0.0\n"
          ]
        }
      ]
    },
    {
      "cell_type": "markdown",
      "source": [
        "## Taking 200 featues"
      ],
      "metadata": {
        "id": "8ny90ZzaVghs"
      }
    },
    {
      "cell_type": "code",
      "source": [
        "X3 = df.iloc[:, 2:202]\n",
        "X_train3, X_test3, y_train3, y_test3 = train_test_split(X3, y_encoded, train_size=0.8, random_state=42)\n",
        "X_train3.shape, X_test3.shape"
      ],
      "metadata": {
        "colab": {
          "base_uri": "https://localhost:8080/"
        },
        "id": "dbZ0n7p2VX4P",
        "outputId": "1f5abf0f-1373-4e4f-df8b-c6eda2ddabda"
      },
      "execution_count": 46,
      "outputs": [
        {
          "output_type": "execute_result",
          "data": {
            "text/plain": [
              "((249, 200), (63, 200))"
            ]
          },
          "metadata": {},
          "execution_count": 46
        }
      ]
    },
    {
      "cell_type": "code",
      "source": [
        "rf_classifier.fit(X_train3, y_train3)"
      ],
      "metadata": {
        "colab": {
          "base_uri": "https://localhost:8080/",
          "height": 75
        },
        "id": "ClhVTxXMVuQ1",
        "outputId": "7173a680-00f1-471f-a805-6ccdabda6d02"
      },
      "execution_count": 47,
      "outputs": [
        {
          "output_type": "execute_result",
          "data": {
            "text/plain": [
              "RandomForestClassifier()"
            ],
            "text/html": [
              "<style>#sk-container-id-6 {color: black;background-color: white;}#sk-container-id-6 pre{padding: 0;}#sk-container-id-6 div.sk-toggleable {background-color: white;}#sk-container-id-6 label.sk-toggleable__label {cursor: pointer;display: block;width: 100%;margin-bottom: 0;padding: 0.3em;box-sizing: border-box;text-align: center;}#sk-container-id-6 label.sk-toggleable__label-arrow:before {content: \"▸\";float: left;margin-right: 0.25em;color: #696969;}#sk-container-id-6 label.sk-toggleable__label-arrow:hover:before {color: black;}#sk-container-id-6 div.sk-estimator:hover label.sk-toggleable__label-arrow:before {color: black;}#sk-container-id-6 div.sk-toggleable__content {max-height: 0;max-width: 0;overflow: hidden;text-align: left;background-color: #f0f8ff;}#sk-container-id-6 div.sk-toggleable__content pre {margin: 0.2em;color: black;border-radius: 0.25em;background-color: #f0f8ff;}#sk-container-id-6 input.sk-toggleable__control:checked~div.sk-toggleable__content {max-height: 200px;max-width: 100%;overflow: auto;}#sk-container-id-6 input.sk-toggleable__control:checked~label.sk-toggleable__label-arrow:before {content: \"▾\";}#sk-container-id-6 div.sk-estimator input.sk-toggleable__control:checked~label.sk-toggleable__label {background-color: #d4ebff;}#sk-container-id-6 div.sk-label input.sk-toggleable__control:checked~label.sk-toggleable__label {background-color: #d4ebff;}#sk-container-id-6 input.sk-hidden--visually {border: 0;clip: rect(1px 1px 1px 1px);clip: rect(1px, 1px, 1px, 1px);height: 1px;margin: -1px;overflow: hidden;padding: 0;position: absolute;width: 1px;}#sk-container-id-6 div.sk-estimator {font-family: monospace;background-color: #f0f8ff;border: 1px dotted black;border-radius: 0.25em;box-sizing: border-box;margin-bottom: 0.5em;}#sk-container-id-6 div.sk-estimator:hover {background-color: #d4ebff;}#sk-container-id-6 div.sk-parallel-item::after {content: \"\";width: 100%;border-bottom: 1px solid gray;flex-grow: 1;}#sk-container-id-6 div.sk-label:hover label.sk-toggleable__label {background-color: #d4ebff;}#sk-container-id-6 div.sk-serial::before {content: \"\";position: absolute;border-left: 1px solid gray;box-sizing: border-box;top: 0;bottom: 0;left: 50%;z-index: 0;}#sk-container-id-6 div.sk-serial {display: flex;flex-direction: column;align-items: center;background-color: white;padding-right: 0.2em;padding-left: 0.2em;position: relative;}#sk-container-id-6 div.sk-item {position: relative;z-index: 1;}#sk-container-id-6 div.sk-parallel {display: flex;align-items: stretch;justify-content: center;background-color: white;position: relative;}#sk-container-id-6 div.sk-item::before, #sk-container-id-6 div.sk-parallel-item::before {content: \"\";position: absolute;border-left: 1px solid gray;box-sizing: border-box;top: 0;bottom: 0;left: 50%;z-index: -1;}#sk-container-id-6 div.sk-parallel-item {display: flex;flex-direction: column;z-index: 1;position: relative;background-color: white;}#sk-container-id-6 div.sk-parallel-item:first-child::after {align-self: flex-end;width: 50%;}#sk-container-id-6 div.sk-parallel-item:last-child::after {align-self: flex-start;width: 50%;}#sk-container-id-6 div.sk-parallel-item:only-child::after {width: 0;}#sk-container-id-6 div.sk-dashed-wrapped {border: 1px dashed gray;margin: 0 0.4em 0.5em 0.4em;box-sizing: border-box;padding-bottom: 0.4em;background-color: white;}#sk-container-id-6 div.sk-label label {font-family: monospace;font-weight: bold;display: inline-block;line-height: 1.2em;}#sk-container-id-6 div.sk-label-container {text-align: center;}#sk-container-id-6 div.sk-container {/* jupyter's `normalize.less` sets `[hidden] { display: none; }` but bootstrap.min.css set `[hidden] { display: none !important; }` so we also need the `!important` here to be able to override the default hidden behavior on the sphinx rendered scikit-learn.org. See: https://github.com/scikit-learn/scikit-learn/issues/21755 */display: inline-block !important;position: relative;}#sk-container-id-6 div.sk-text-repr-fallback {display: none;}</style><div id=\"sk-container-id-6\" class=\"sk-top-container\"><div class=\"sk-text-repr-fallback\"><pre>RandomForestClassifier()</pre><b>In a Jupyter environment, please rerun this cell to show the HTML representation or trust the notebook. <br />On GitHub, the HTML representation is unable to render, please try loading this page with nbviewer.org.</b></div><div class=\"sk-container\" hidden><div class=\"sk-item\"><div class=\"sk-estimator sk-toggleable\"><input class=\"sk-toggleable__control sk-hidden--visually\" id=\"sk-estimator-id-6\" type=\"checkbox\" checked><label for=\"sk-estimator-id-6\" class=\"sk-toggleable__label sk-toggleable__label-arrow\">RandomForestClassifier</label><div class=\"sk-toggleable__content\"><pre>RandomForestClassifier()</pre></div></div></div></div></div>"
            ]
          },
          "metadata": {},
          "execution_count": 47
        }
      ]
    },
    {
      "cell_type": "code",
      "source": [
        "y_pred3 = rf_classifier.predict(X_test3)\n",
        "y_pred_labels3 = label_encoder.inverse_transform(y_pred3)\n",
        "accuracy3 = accuracy_score(y_test3, y_pred_labels3)\n",
        "print(\"Accuracy3:\", accuracy3)"
      ],
      "metadata": {
        "colab": {
          "base_uri": "https://localhost:8080/"
        },
        "id": "ZvaImH-rV01l",
        "outputId": "38e2ea70-c314-427d-c47e-44b12f41e47a"
      },
      "execution_count": 48,
      "outputs": [
        {
          "output_type": "stream",
          "name": "stdout",
          "text": [
            "Accuracy3: 0.0\n"
          ]
        }
      ]
    }
  ]
}