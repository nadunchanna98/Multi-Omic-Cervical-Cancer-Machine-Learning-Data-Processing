{
  "nbformat": 4,
  "nbformat_minor": 0,
  "metadata": {
    "colab": {
      "provenance": [],
      "authorship_tag": "ABX9TyNEHp8kMyR2VSadhWLRy/47",
      "include_colab_link": true
    },
    "kernelspec": {
      "name": "python3",
      "display_name": "Python 3"
    },
    "language_info": {
      "name": "python"
    }
  },
  "cells": [
    {
      "cell_type": "markdown",
      "metadata": {
        "id": "view-in-github",
        "colab_type": "text"
      },
      "source": [
        "<a href=\"https://colab.research.google.com/github/nadunchanna98/MultiOmics-CervicalCancer-MachineLearning-DataProcessing/blob/main/data_preparation_methilation450K.ipynb\" target=\"_parent\"><img src=\"https://colab.research.google.com/assets/colab-badge.svg\" alt=\"Open In Colab\"/></a>"
      ]
    },
    {
      "cell_type": "code",
      "execution_count": 1,
      "metadata": {
        "colab": {
          "base_uri": "https://localhost:8080/"
        },
        "id": "OMiGBP7YVDVP",
        "outputId": "12946ca6-b1c6-45d8-9f27-03759fc45f5f"
      },
      "outputs": [
        {
          "output_type": "stream",
          "name": "stdout",
          "text": [
            "Mounted at /content/drive\n"
          ]
        }
      ],
      "source": [
        "from google.colab import drive\n",
        "drive.mount('/content/drive')"
      ]
    },
    {
      "cell_type": "code",
      "source": [
        "import os\n",
        "os.chdir('/content/drive/My Drive/RESEACH/TCGA Cervical Cancer (CESC)')"
      ],
      "metadata": {
        "id": "9-pkrtmqWFKI"
      },
      "execution_count": 2,
      "outputs": []
    },
    {
      "cell_type": "code",
      "source": [
        "import numpy as np\n",
        "import pandas as pd\n",
        "import seaborn as sns\n",
        "import matplotlib.pyplot as plt\n",
        "\n",
        "df = pd.read_csv('HumanMethylation450', delimiter='\\t')"
      ],
      "metadata": {
        "id": "Ey0ncocSWclL"
      },
      "execution_count": 4,
      "outputs": []
    },
    {
      "cell_type": "code",
      "source": [
        "df.shape"
      ],
      "metadata": {
        "colab": {
          "base_uri": "https://localhost:8080/"
        },
        "id": "mkROep8IWmUn",
        "outputId": "bf057f5f-093d-44f2-9815-8e7b97b3e7f8"
      },
      "execution_count": 6,
      "outputs": [
        {
          "output_type": "execute_result",
          "data": {
            "text/plain": [
              "(485577, 313)"
            ]
          },
          "metadata": {},
          "execution_count": 6
        }
      ]
    },
    {
      "cell_type": "code",
      "source": [
        "df"
      ],
      "metadata": {
        "colab": {
          "base_uri": "https://localhost:8080/",
          "height": 539
        },
        "id": "pjHOdQ3yXGww",
        "outputId": "6aa38e04-5c16-4e54-9149-149075c02072"
      },
      "execution_count": 8,
      "outputs": [
        {
          "output_type": "execute_result",
          "data": {
            "text/plain": [
              "            sample  TCGA-EK-A3GK-01  TCGA-GH-A9DA-01  TCGA-VS-A94Y-01  \\\n",
              "0       cg13332474           0.0345           0.5353           0.0287   \n",
              "1       cg00651829           0.1921           0.6911           0.0189   \n",
              "2       cg17027195           0.0428           0.0741           0.0403   \n",
              "3       cg09868354           0.0912           0.0735           0.0726   \n",
              "4       cg03050183           0.0753           0.0650           0.0481   \n",
              "...            ...              ...              ...              ...   \n",
              "485572  cg16018548              NaN              NaN              NaN   \n",
              "485573  cg10230711           0.0674           0.0610           0.0554   \n",
              "485574  cg16651827           0.5374           0.7840           0.7569   \n",
              "485575  cg18138552           0.0388           0.0312           0.0229   \n",
              "485576  cg07883722           0.9557           0.9336           0.9479   \n",
              "\n",
              "        TCGA-MY-A5BF-11  TCGA-VS-A94Z-01  TCGA-EA-A4BA-01  TCGA-ZJ-A8QQ-01  \\\n",
              "0                0.0443           0.0296           0.0268           0.7356   \n",
              "1                0.0202           0.0164           0.0205           0.5995   \n",
              "2                0.0403           0.0408           0.0470           0.8611   \n",
              "3                0.0555           0.0551           0.0499           0.0513   \n",
              "4                0.2139           0.1028           0.1044           0.0578   \n",
              "...                 ...              ...              ...              ...   \n",
              "485572              NaN              NaN              NaN              NaN   \n",
              "485573           0.0482           0.0459           0.0505           0.0420   \n",
              "485574           0.7441           0.5798           0.7151           0.8134   \n",
              "485575           0.0270           0.0227           0.0340           0.0281   \n",
              "485576           0.9459           0.9462           0.9517           0.9556   \n",
              "\n",
              "        TCGA-FU-A3EO-11  TCGA-DG-A2KJ-01  ...  TCGA-C5-A1BE-01  \\\n",
              "0                0.0325           0.5810  ...           0.0275   \n",
              "1                0.0165           0.0223  ...           0.0251   \n",
              "2                0.0472           0.0358  ...           0.0498   \n",
              "3                0.0732           0.0782  ...           0.0527   \n",
              "4                0.1700           0.1165  ...           0.0698   \n",
              "...                 ...              ...  ...              ...   \n",
              "485572              NaN              NaN  ...              NaN   \n",
              "485573           0.0767           0.0884  ...           0.0570   \n",
              "485574           0.7859           0.8347  ...           0.7696   \n",
              "485575           0.0251           0.0322  ...           0.0381   \n",
              "485576           0.9085           0.9567  ...           0.9467   \n",
              "\n",
              "        TCGA-FU-A23K-01  TCGA-C5-A1BJ-01  TCGA-FU-A23L-01  TCGA-C5-A1M5-01  \\\n",
              "0                0.0687           0.0303           0.0298           0.1956   \n",
              "1                0.5036           0.0249           0.0227           0.0248   \n",
              "2                0.0495           0.0420           0.0517           0.0597   \n",
              "3                0.0941           0.0532           0.0843           0.0650   \n",
              "4                0.1205           0.0838           0.0967           0.0690   \n",
              "...                 ...              ...              ...              ...   \n",
              "485572              NaN              NaN              NaN              NaN   \n",
              "485573           0.0561           0.0664           0.0669           0.0474   \n",
              "485574           0.7427           0.7919           0.7410           0.7508   \n",
              "485575           0.0299           0.0465           0.0314           0.0387   \n",
              "485576           0.9464           0.9320           0.9290           0.8973   \n",
              "\n",
              "        TCGA-C5-A1MF-01  TCGA-C5-A1BF-01  TCGA-C5-A1BK-01  TCGA-C5-A1BI-01  \\\n",
              "0                0.7018           0.0243           0.0492           0.0274   \n",
              "1                0.0275           0.0380           0.4205           0.0882   \n",
              "2                0.0424           0.0469           0.4380           0.0702   \n",
              "3                0.0638           0.0514           0.0661           0.0624   \n",
              "4                0.0721           0.0713           0.1940           0.0959   \n",
              "...                 ...              ...              ...              ...   \n",
              "485572              NaN              NaN              NaN              NaN   \n",
              "485573           0.0650           0.0671           0.0749           0.0526   \n",
              "485574           0.7524           0.7805           0.7938           0.7741   \n",
              "485575           0.0389           0.0353           0.0341           0.0495   \n",
              "485576           0.9564           0.9270           0.9497           0.9291   \n",
              "\n",
              "        TCGA-C5-A1M9-01  \n",
              "0                0.3471  \n",
              "1                0.6065  \n",
              "2                0.0622  \n",
              "3                0.0503  \n",
              "4                0.0665  \n",
              "...                 ...  \n",
              "485572              NaN  \n",
              "485573           0.0538  \n",
              "485574           0.6637  \n",
              "485575           0.0362  \n",
              "485576           0.9575  \n",
              "\n",
              "[485577 rows x 313 columns]"
            ],
            "text/html": [
              "\n",
              "  <div id=\"df-61925202-c288-4a3a-b6d3-1c6c4720e605\">\n",
              "    <div class=\"colab-df-container\">\n",
              "      <div>\n",
              "<style scoped>\n",
              "    .dataframe tbody tr th:only-of-type {\n",
              "        vertical-align: middle;\n",
              "    }\n",
              "\n",
              "    .dataframe tbody tr th {\n",
              "        vertical-align: top;\n",
              "    }\n",
              "\n",
              "    .dataframe thead th {\n",
              "        text-align: right;\n",
              "    }\n",
              "</style>\n",
              "<table border=\"1\" class=\"dataframe\">\n",
              "  <thead>\n",
              "    <tr style=\"text-align: right;\">\n",
              "      <th></th>\n",
              "      <th>sample</th>\n",
              "      <th>TCGA-EK-A3GK-01</th>\n",
              "      <th>TCGA-GH-A9DA-01</th>\n",
              "      <th>TCGA-VS-A94Y-01</th>\n",
              "      <th>TCGA-MY-A5BF-11</th>\n",
              "      <th>TCGA-VS-A94Z-01</th>\n",
              "      <th>TCGA-EA-A4BA-01</th>\n",
              "      <th>TCGA-ZJ-A8QQ-01</th>\n",
              "      <th>TCGA-FU-A3EO-11</th>\n",
              "      <th>TCGA-DG-A2KJ-01</th>\n",
              "      <th>...</th>\n",
              "      <th>TCGA-C5-A1BE-01</th>\n",
              "      <th>TCGA-FU-A23K-01</th>\n",
              "      <th>TCGA-C5-A1BJ-01</th>\n",
              "      <th>TCGA-FU-A23L-01</th>\n",
              "      <th>TCGA-C5-A1M5-01</th>\n",
              "      <th>TCGA-C5-A1MF-01</th>\n",
              "      <th>TCGA-C5-A1BF-01</th>\n",
              "      <th>TCGA-C5-A1BK-01</th>\n",
              "      <th>TCGA-C5-A1BI-01</th>\n",
              "      <th>TCGA-C5-A1M9-01</th>\n",
              "    </tr>\n",
              "  </thead>\n",
              "  <tbody>\n",
              "    <tr>\n",
              "      <th>0</th>\n",
              "      <td>cg13332474</td>\n",
              "      <td>0.0345</td>\n",
              "      <td>0.5353</td>\n",
              "      <td>0.0287</td>\n",
              "      <td>0.0443</td>\n",
              "      <td>0.0296</td>\n",
              "      <td>0.0268</td>\n",
              "      <td>0.7356</td>\n",
              "      <td>0.0325</td>\n",
              "      <td>0.5810</td>\n",
              "      <td>...</td>\n",
              "      <td>0.0275</td>\n",
              "      <td>0.0687</td>\n",
              "      <td>0.0303</td>\n",
              "      <td>0.0298</td>\n",
              "      <td>0.1956</td>\n",
              "      <td>0.7018</td>\n",
              "      <td>0.0243</td>\n",
              "      <td>0.0492</td>\n",
              "      <td>0.0274</td>\n",
              "      <td>0.3471</td>\n",
              "    </tr>\n",
              "    <tr>\n",
              "      <th>1</th>\n",
              "      <td>cg00651829</td>\n",
              "      <td>0.1921</td>\n",
              "      <td>0.6911</td>\n",
              "      <td>0.0189</td>\n",
              "      <td>0.0202</td>\n",
              "      <td>0.0164</td>\n",
              "      <td>0.0205</td>\n",
              "      <td>0.5995</td>\n",
              "      <td>0.0165</td>\n",
              "      <td>0.0223</td>\n",
              "      <td>...</td>\n",
              "      <td>0.0251</td>\n",
              "      <td>0.5036</td>\n",
              "      <td>0.0249</td>\n",
              "      <td>0.0227</td>\n",
              "      <td>0.0248</td>\n",
              "      <td>0.0275</td>\n",
              "      <td>0.0380</td>\n",
              "      <td>0.4205</td>\n",
              "      <td>0.0882</td>\n",
              "      <td>0.6065</td>\n",
              "    </tr>\n",
              "    <tr>\n",
              "      <th>2</th>\n",
              "      <td>cg17027195</td>\n",
              "      <td>0.0428</td>\n",
              "      <td>0.0741</td>\n",
              "      <td>0.0403</td>\n",
              "      <td>0.0403</td>\n",
              "      <td>0.0408</td>\n",
              "      <td>0.0470</td>\n",
              "      <td>0.8611</td>\n",
              "      <td>0.0472</td>\n",
              "      <td>0.0358</td>\n",
              "      <td>...</td>\n",
              "      <td>0.0498</td>\n",
              "      <td>0.0495</td>\n",
              "      <td>0.0420</td>\n",
              "      <td>0.0517</td>\n",
              "      <td>0.0597</td>\n",
              "      <td>0.0424</td>\n",
              "      <td>0.0469</td>\n",
              "      <td>0.4380</td>\n",
              "      <td>0.0702</td>\n",
              "      <td>0.0622</td>\n",
              "    </tr>\n",
              "    <tr>\n",
              "      <th>3</th>\n",
              "      <td>cg09868354</td>\n",
              "      <td>0.0912</td>\n",
              "      <td>0.0735</td>\n",
              "      <td>0.0726</td>\n",
              "      <td>0.0555</td>\n",
              "      <td>0.0551</td>\n",
              "      <td>0.0499</td>\n",
              "      <td>0.0513</td>\n",
              "      <td>0.0732</td>\n",
              "      <td>0.0782</td>\n",
              "      <td>...</td>\n",
              "      <td>0.0527</td>\n",
              "      <td>0.0941</td>\n",
              "      <td>0.0532</td>\n",
              "      <td>0.0843</td>\n",
              "      <td>0.0650</td>\n",
              "      <td>0.0638</td>\n",
              "      <td>0.0514</td>\n",
              "      <td>0.0661</td>\n",
              "      <td>0.0624</td>\n",
              "      <td>0.0503</td>\n",
              "    </tr>\n",
              "    <tr>\n",
              "      <th>4</th>\n",
              "      <td>cg03050183</td>\n",
              "      <td>0.0753</td>\n",
              "      <td>0.0650</td>\n",
              "      <td>0.0481</td>\n",
              "      <td>0.2139</td>\n",
              "      <td>0.1028</td>\n",
              "      <td>0.1044</td>\n",
              "      <td>0.0578</td>\n",
              "      <td>0.1700</td>\n",
              "      <td>0.1165</td>\n",
              "      <td>...</td>\n",
              "      <td>0.0698</td>\n",
              "      <td>0.1205</td>\n",
              "      <td>0.0838</td>\n",
              "      <td>0.0967</td>\n",
              "      <td>0.0690</td>\n",
              "      <td>0.0721</td>\n",
              "      <td>0.0713</td>\n",
              "      <td>0.1940</td>\n",
              "      <td>0.0959</td>\n",
              "      <td>0.0665</td>\n",
              "    </tr>\n",
              "    <tr>\n",
              "      <th>...</th>\n",
              "      <td>...</td>\n",
              "      <td>...</td>\n",
              "      <td>...</td>\n",
              "      <td>...</td>\n",
              "      <td>...</td>\n",
              "      <td>...</td>\n",
              "      <td>...</td>\n",
              "      <td>...</td>\n",
              "      <td>...</td>\n",
              "      <td>...</td>\n",
              "      <td>...</td>\n",
              "      <td>...</td>\n",
              "      <td>...</td>\n",
              "      <td>...</td>\n",
              "      <td>...</td>\n",
              "      <td>...</td>\n",
              "      <td>...</td>\n",
              "      <td>...</td>\n",
              "      <td>...</td>\n",
              "      <td>...</td>\n",
              "      <td>...</td>\n",
              "    </tr>\n",
              "    <tr>\n",
              "      <th>485572</th>\n",
              "      <td>cg16018548</td>\n",
              "      <td>NaN</td>\n",
              "      <td>NaN</td>\n",
              "      <td>NaN</td>\n",
              "      <td>NaN</td>\n",
              "      <td>NaN</td>\n",
              "      <td>NaN</td>\n",
              "      <td>NaN</td>\n",
              "      <td>NaN</td>\n",
              "      <td>NaN</td>\n",
              "      <td>...</td>\n",
              "      <td>NaN</td>\n",
              "      <td>NaN</td>\n",
              "      <td>NaN</td>\n",
              "      <td>NaN</td>\n",
              "      <td>NaN</td>\n",
              "      <td>NaN</td>\n",
              "      <td>NaN</td>\n",
              "      <td>NaN</td>\n",
              "      <td>NaN</td>\n",
              "      <td>NaN</td>\n",
              "    </tr>\n",
              "    <tr>\n",
              "      <th>485573</th>\n",
              "      <td>cg10230711</td>\n",
              "      <td>0.0674</td>\n",
              "      <td>0.0610</td>\n",
              "      <td>0.0554</td>\n",
              "      <td>0.0482</td>\n",
              "      <td>0.0459</td>\n",
              "      <td>0.0505</td>\n",
              "      <td>0.0420</td>\n",
              "      <td>0.0767</td>\n",
              "      <td>0.0884</td>\n",
              "      <td>...</td>\n",
              "      <td>0.0570</td>\n",
              "      <td>0.0561</td>\n",
              "      <td>0.0664</td>\n",
              "      <td>0.0669</td>\n",
              "      <td>0.0474</td>\n",
              "      <td>0.0650</td>\n",
              "      <td>0.0671</td>\n",
              "      <td>0.0749</td>\n",
              "      <td>0.0526</td>\n",
              "      <td>0.0538</td>\n",
              "    </tr>\n",
              "    <tr>\n",
              "      <th>485574</th>\n",
              "      <td>cg16651827</td>\n",
              "      <td>0.5374</td>\n",
              "      <td>0.7840</td>\n",
              "      <td>0.7569</td>\n",
              "      <td>0.7441</td>\n",
              "      <td>0.5798</td>\n",
              "      <td>0.7151</td>\n",
              "      <td>0.8134</td>\n",
              "      <td>0.7859</td>\n",
              "      <td>0.8347</td>\n",
              "      <td>...</td>\n",
              "      <td>0.7696</td>\n",
              "      <td>0.7427</td>\n",
              "      <td>0.7919</td>\n",
              "      <td>0.7410</td>\n",
              "      <td>0.7508</td>\n",
              "      <td>0.7524</td>\n",
              "      <td>0.7805</td>\n",
              "      <td>0.7938</td>\n",
              "      <td>0.7741</td>\n",
              "      <td>0.6637</td>\n",
              "    </tr>\n",
              "    <tr>\n",
              "      <th>485575</th>\n",
              "      <td>cg18138552</td>\n",
              "      <td>0.0388</td>\n",
              "      <td>0.0312</td>\n",
              "      <td>0.0229</td>\n",
              "      <td>0.0270</td>\n",
              "      <td>0.0227</td>\n",
              "      <td>0.0340</td>\n",
              "      <td>0.0281</td>\n",
              "      <td>0.0251</td>\n",
              "      <td>0.0322</td>\n",
              "      <td>...</td>\n",
              "      <td>0.0381</td>\n",
              "      <td>0.0299</td>\n",
              "      <td>0.0465</td>\n",
              "      <td>0.0314</td>\n",
              "      <td>0.0387</td>\n",
              "      <td>0.0389</td>\n",
              "      <td>0.0353</td>\n",
              "      <td>0.0341</td>\n",
              "      <td>0.0495</td>\n",
              "      <td>0.0362</td>\n",
              "    </tr>\n",
              "    <tr>\n",
              "      <th>485576</th>\n",
              "      <td>cg07883722</td>\n",
              "      <td>0.9557</td>\n",
              "      <td>0.9336</td>\n",
              "      <td>0.9479</td>\n",
              "      <td>0.9459</td>\n",
              "      <td>0.9462</td>\n",
              "      <td>0.9517</td>\n",
              "      <td>0.9556</td>\n",
              "      <td>0.9085</td>\n",
              "      <td>0.9567</td>\n",
              "      <td>...</td>\n",
              "      <td>0.9467</td>\n",
              "      <td>0.9464</td>\n",
              "      <td>0.9320</td>\n",
              "      <td>0.9290</td>\n",
              "      <td>0.8973</td>\n",
              "      <td>0.9564</td>\n",
              "      <td>0.9270</td>\n",
              "      <td>0.9497</td>\n",
              "      <td>0.9291</td>\n",
              "      <td>0.9575</td>\n",
              "    </tr>\n",
              "  </tbody>\n",
              "</table>\n",
              "<p>485577 rows × 313 columns</p>\n",
              "</div>\n",
              "      <button class=\"colab-df-convert\" onclick=\"convertToInteractive('df-61925202-c288-4a3a-b6d3-1c6c4720e605')\"\n",
              "              title=\"Convert this dataframe to an interactive table.\"\n",
              "              style=\"display:none;\">\n",
              "        \n",
              "  <svg xmlns=\"http://www.w3.org/2000/svg\" height=\"24px\"viewBox=\"0 0 24 24\"\n",
              "       width=\"24px\">\n",
              "    <path d=\"M0 0h24v24H0V0z\" fill=\"none\"/>\n",
              "    <path d=\"M18.56 5.44l.94 2.06.94-2.06 2.06-.94-2.06-.94-.94-2.06-.94 2.06-2.06.94zm-11 1L8.5 8.5l.94-2.06 2.06-.94-2.06-.94L8.5 2.5l-.94 2.06-2.06.94zm10 10l.94 2.06.94-2.06 2.06-.94-2.06-.94-.94-2.06-.94 2.06-2.06.94z\"/><path d=\"M17.41 7.96l-1.37-1.37c-.4-.4-.92-.59-1.43-.59-.52 0-1.04.2-1.43.59L10.3 9.45l-7.72 7.72c-.78.78-.78 2.05 0 2.83L4 21.41c.39.39.9.59 1.41.59.51 0 1.02-.2 1.41-.59l7.78-7.78 2.81-2.81c.8-.78.8-2.07 0-2.86zM5.41 20L4 18.59l7.72-7.72 1.47 1.35L5.41 20z\"/>\n",
              "  </svg>\n",
              "      </button>\n",
              "      \n",
              "  <style>\n",
              "    .colab-df-container {\n",
              "      display:flex;\n",
              "      flex-wrap:wrap;\n",
              "      gap: 12px;\n",
              "    }\n",
              "\n",
              "    .colab-df-convert {\n",
              "      background-color: #E8F0FE;\n",
              "      border: none;\n",
              "      border-radius: 50%;\n",
              "      cursor: pointer;\n",
              "      display: none;\n",
              "      fill: #1967D2;\n",
              "      height: 32px;\n",
              "      padding: 0 0 0 0;\n",
              "      width: 32px;\n",
              "    }\n",
              "\n",
              "    .colab-df-convert:hover {\n",
              "      background-color: #E2EBFA;\n",
              "      box-shadow: 0px 1px 2px rgba(60, 64, 67, 0.3), 0px 1px 3px 1px rgba(60, 64, 67, 0.15);\n",
              "      fill: #174EA6;\n",
              "    }\n",
              "\n",
              "    [theme=dark] .colab-df-convert {\n",
              "      background-color: #3B4455;\n",
              "      fill: #D2E3FC;\n",
              "    }\n",
              "\n",
              "    [theme=dark] .colab-df-convert:hover {\n",
              "      background-color: #434B5C;\n",
              "      box-shadow: 0px 1px 3px 1px rgba(0, 0, 0, 0.15);\n",
              "      filter: drop-shadow(0px 1px 2px rgba(0, 0, 0, 0.3));\n",
              "      fill: #FFFFFF;\n",
              "    }\n",
              "  </style>\n",
              "\n",
              "      <script>\n",
              "        const buttonEl =\n",
              "          document.querySelector('#df-61925202-c288-4a3a-b6d3-1c6c4720e605 button.colab-df-convert');\n",
              "        buttonEl.style.display =\n",
              "          google.colab.kernel.accessAllowed ? 'block' : 'none';\n",
              "\n",
              "        async function convertToInteractive(key) {\n",
              "          const element = document.querySelector('#df-61925202-c288-4a3a-b6d3-1c6c4720e605');\n",
              "          const dataTable =\n",
              "            await google.colab.kernel.invokeFunction('convertToInteractive',\n",
              "                                                     [key], {});\n",
              "          if (!dataTable) return;\n",
              "\n",
              "          const docLinkHtml = 'Like what you see? Visit the ' +\n",
              "            '<a target=\"_blank\" href=https://colab.research.google.com/notebooks/data_table.ipynb>data table notebook</a>'\n",
              "            + ' to learn more about interactive tables.';\n",
              "          element.innerHTML = '';\n",
              "          dataTable['output_type'] = 'display_data';\n",
              "          await google.colab.output.renderOutput(dataTable, element);\n",
              "          const docLink = document.createElement('div');\n",
              "          docLink.innerHTML = docLinkHtml;\n",
              "          element.appendChild(docLink);\n",
              "        }\n",
              "      </script>\n",
              "    </div>\n",
              "  </div>\n",
              "  "
            ]
          },
          "metadata": {},
          "execution_count": 8
        }
      ]
    },
    {
      "cell_type": "code",
      "source": [
        "df.isna().all()"
      ],
      "metadata": {
        "colab": {
          "base_uri": "https://localhost:8080/"
        },
        "id": "XgKpKuqpXWsQ",
        "outputId": "ad05e0f3-b1af-454c-99e0-9938327011d6"
      },
      "execution_count": 9,
      "outputs": [
        {
          "output_type": "execute_result",
          "data": {
            "text/plain": [
              "sample             False\n",
              "TCGA-EK-A3GK-01    False\n",
              "TCGA-GH-A9DA-01    False\n",
              "TCGA-VS-A94Y-01    False\n",
              "TCGA-MY-A5BF-11    False\n",
              "                   ...  \n",
              "TCGA-C5-A1MF-01    False\n",
              "TCGA-C5-A1BF-01    False\n",
              "TCGA-C5-A1BK-01    False\n",
              "TCGA-C5-A1BI-01    False\n",
              "TCGA-C5-A1M9-01    False\n",
              "Length: 313, dtype: bool"
            ]
          },
          "metadata": {},
          "execution_count": 9
        }
      ]
    },
    {
      "cell_type": "code",
      "source": [
        "all_true_columns = df.columns[df.isna().all()]\n",
        "\n",
        "# Display only the columns with all True values\n",
        "print(df[all_true_columns])"
      ],
      "metadata": {
        "colab": {
          "base_uri": "https://localhost:8080/"
        },
        "id": "HiPhONWXcwPh",
        "outputId": "309da4de-af19-43fa-fcac-0034be427434"
      },
      "execution_count": 10,
      "outputs": [
        {
          "output_type": "stream",
          "name": "stdout",
          "text": [
            "Empty DataFrame\n",
            "Columns: []\n",
            "Index: [0, 1, 2, 3, 4, 5, 6, 7, 8, 9, 10, 11, 12, 13, 14, 15, 16, 17, 18, 19, 20, 21, 22, 23, 24, 25, 26, 27, 28, 29, 30, 31, 32, 33, 34, 35, 36, 37, 38, 39, 40, 41, 42, 43, 44, 45, 46, 47, 48, 49, 50, 51, 52, 53, 54, 55, 56, 57, 58, 59, 60, 61, 62, 63, 64, 65, 66, 67, 68, 69, 70, 71, 72, 73, 74, 75, 76, 77, 78, 79, 80, 81, 82, 83, 84, 85, 86, 87, 88, 89, 90, 91, 92, 93, 94, 95, 96, 97, 98, 99, ...]\n",
            "\n",
            "[485577 rows x 0 columns]\n"
          ]
        }
      ]
    },
    {
      "cell_type": "code",
      "source": [
        "all_true_rows = df[df.isna().all(axis=1)]\n",
        "\n",
        "# Display only the rows with all True values\n",
        "print(all_true_rows)"
      ],
      "metadata": {
        "colab": {
          "base_uri": "https://localhost:8080/"
        },
        "id": "Df0nn8BZczNH",
        "outputId": "6c2be36d-abfe-4868-d960-268b1d931209"
      },
      "execution_count": 11,
      "outputs": [
        {
          "output_type": "stream",
          "name": "stdout",
          "text": [
            "Empty DataFrame\n",
            "Columns: [sample, TCGA-EK-A3GK-01, TCGA-GH-A9DA-01, TCGA-VS-A94Y-01, TCGA-MY-A5BF-11, TCGA-VS-A94Z-01, TCGA-EA-A4BA-01, TCGA-ZJ-A8QQ-01, TCGA-FU-A3EO-11, TCGA-DG-A2KJ-01, TCGA-VS-A954-01, TCGA-MA-AA42-01, TCGA-C5-A8YQ-01, TCGA-DS-A7WF-01, TCGA-EK-A2R7-01, TCGA-EK-A3GJ-01, TCGA-C5-A902-01, TCGA-MA-AA3W-01, TCGA-C5-A905-01, TCGA-EK-A2RN-01, TCGA-FU-A57G-01, TCGA-C5-A8YR-01, TCGA-EK-A2R9-01, TCGA-FU-A3EO-01, TCGA-IR-A3LC-01, TCGA-VS-A8QA-01, TCGA-C5-A3HD-01, TCGA-MY-A5BE-01, TCGA-EA-A50E-01, TCGA-VS-A8QH-01, TCGA-ZJ-A8QR-01, TCGA-C5-A907-01, TCGA-IR-A3LK-01, TCGA-C5-A8ZZ-01, TCGA-VS-A8EK-01, TCGA-C5-A7UC-01, TCGA-C5-A8XJ-01, TCGA-IR-A3LH-01, TCGA-EK-A3GM-01, TCGA-VS-A8Q8-01, TCGA-EK-A2RO-01, TCGA-MY-A5BD-01, TCGA-2W-A8YY-01, TCGA-C5-A2LZ-01, TCGA-C5-A901-01, TCGA-VS-A953-01, TCGA-MU-A51Y-01, TCGA-EK-A2RK-01, TCGA-UC-A7PD-01, TCGA-EA-A3HS-01, TCGA-VS-A8QM-01, TCGA-EA-A3HU-01, TCGA-VS-A94X-01, TCGA-C5-A7CO-01, TCGA-C5-A3HF-01, TCGA-IR-A3LL-01, TCGA-MY-A913-01, TCGA-VS-A952-01, TCGA-IR-A3LI-01, TCGA-VS-A94W-01, TCGA-MY-A5BF-01, TCGA-EK-A2RC-01, TCGA-VS-A8EL-01, TCGA-EA-A97N-01, TCGA-EA-A3HQ-01, TCGA-EK-A2RD-01, TCGA-C5-A8YT-01, TCGA-FU-A3HZ-01, TCGA-VS-A8EJ-01, TCGA-C5-A3HL-01, TCGA-UC-A7PF-01, TCGA-C5-A8XK-01, TCGA-EX-A8YF-01, TCGA-HM-A4S6-01, TCGA-VS-A8Q9-01, TCGA-MA-AA41-01, TCGA-EK-A3GN-01, TCGA-MA-AA3Y-01, TCGA-MA-AA3Z-01, TCGA-EK-A2RE-01, TCGA-C5-A1BQ-01, TCGA-ZJ-A8QO-01, TCGA-JW-A852-01, TCGA-DS-A7WH-01, TCGA-JW-AAVH-01, TCGA-EA-A556-01, TCGA-EA-A44S-01, TCGA-4J-AA1J-01, TCGA-IR-A3L7-01, TCGA-C5-A7X3-01, TCGA-HG-A2PA-01, TCGA-C5-A8XH-01, TCGA-C5-A7XC-01, TCGA-VS-A8EI-01, TCGA-VS-A8QC-01, TCGA-C5-A7UH-01, TCGA-WL-A834-01, TCGA-C5-A8XI-01, TCGA-DS-A7WI-01, TCGA-VS-A8QF-01, ...]\n",
            "Index: []\n",
            "\n",
            "[0 rows x 313 columns]\n"
          ]
        }
      ]
    },
    {
      "cell_type": "code",
      "source": [
        "#presentage of mising values in a column\n",
        "missing=df.isna().sum()/len(df)*100\n",
        "print(missing.head(15))"
      ],
      "metadata": {
        "colab": {
          "base_uri": "https://localhost:8080/"
        },
        "id": "zkb1tYiGc20x",
        "outputId": "e46ae138-8de4-4b93-d09c-a330e38a3d7b"
      },
      "execution_count": 12,
      "outputs": [
        {
          "output_type": "stream",
          "name": "stdout",
          "text": [
            "sample              0.000000\n",
            "TCGA-EK-A3GK-01    18.530738\n",
            "TCGA-GH-A9DA-01    18.637827\n",
            "TCGA-VS-A94Y-01    18.539387\n",
            "TCGA-MY-A5BF-11    18.500670\n",
            "TCGA-VS-A94Z-01    18.542064\n",
            "TCGA-EA-A4BA-01    18.494698\n",
            "TCGA-ZJ-A8QQ-01    18.702904\n",
            "TCGA-FU-A3EO-11    18.529708\n",
            "TCGA-DG-A2KJ-01    18.687458\n",
            "TCGA-VS-A954-01    18.685399\n",
            "TCGA-MA-AA42-01    18.526001\n",
            "TCGA-C5-A8YQ-01    18.776425\n",
            "TCGA-DS-A7WF-01    18.486254\n",
            "TCGA-EK-A2R7-01    18.533003\n",
            "dtype: float64\n"
          ]
        }
      ]
    },
    {
      "cell_type": "code",
      "source": [
        "print(missing.tail(15))"
      ],
      "metadata": {
        "colab": {
          "base_uri": "https://localhost:8080/"
        },
        "id": "vXqrwNROc5nf",
        "outputId": "ce4f67ea-e667-4945-fbf2-1446c09a5054"
      },
      "execution_count": 13,
      "outputs": [
        {
          "output_type": "stream",
          "name": "stdout",
          "text": [
            "TCGA-MA-AA43-01    18.675926\n",
            "TCGA-C5-A1BN-01    18.644829\n",
            "TCGA-VS-AA62-01    18.548037\n",
            "TCGA-C5-A1BM-01    18.528472\n",
            "TCGA-C5-A1M6-01    18.654508\n",
            "TCGA-C5-A1BE-01    18.533621\n",
            "TCGA-FU-A23K-01    18.486049\n",
            "TCGA-C5-A1BJ-01    18.531355\n",
            "TCGA-FU-A23L-01    18.488520\n",
            "TCGA-C5-A1M5-01    18.506849\n",
            "TCGA-C5-A1MF-01    18.509320\n",
            "TCGA-C5-A1BF-01    18.529914\n",
            "TCGA-C5-A1BK-01    18.611260\n",
            "TCGA-C5-A1BI-01    18.524354\n",
            "TCGA-C5-A1M9-01    18.518381\n",
            "dtype: float64\n"
          ]
        }
      ]
    },
    {
      "cell_type": "code",
      "source": [
        "import matplotlib.pyplot as plt\n",
        "\n",
        "missing_columns = df.isna().sum()/len(df)*100\n",
        "missing_columns_filtered = missing_columns[(missing_columns >= 0) & (missing_columns <= 20)]\n",
        "\n",
        "plt.figure(figsize=(8, 6))\n",
        "plt.hist(missing_columns_filtered, bins=10, edgecolor='black')\n",
        "plt.xlabel('Missing Value Percentage')\n",
        "plt.ylabel('Count')\n",
        "plt.title('Range of Missing Values (0% - 20%)')\n",
        "plt.show()"
      ],
      "metadata": {
        "colab": {
          "base_uri": "https://localhost:8080/",
          "height": 564
        },
        "id": "Xj-0XAovc8WB",
        "outputId": "d8353183-1736-4369-935c-a50412eb3673"
      },
      "execution_count": 14,
      "outputs": [
        {
          "output_type": "display_data",
          "data": {
            "text/plain": [
              "<Figure size 800x600 with 1 Axes>"
            ],
            "image/png": "[encoded data removed]"
          },
          "metadata": {}
        }
      ]
    },
    {
      "cell_type": "code",
      "source": [
        "#presentage of mising values in rows\n",
        "missing_rows=df.isna().sum(axis=1)/len(df)*100\n",
        "print(missing_rows.head(15))"
      ],
      "metadata": {
        "colab": {
          "base_uri": "https://localhost:8080/"
        },
        "id": "hEvSs9OZc_ax",
        "outputId": "7182db2e-976e-4eb3-bc0a-651ef6eba490"
      },
      "execution_count": 15,
      "outputs": [
        {
          "output_type": "stream",
          "name": "stdout",
          "text": [
            "0     0.000000\n",
            "1     0.000000\n",
            "2     0.000000\n",
            "3     0.000206\n",
            "4     0.000000\n",
            "5     0.064253\n",
            "6     0.000000\n",
            "7     0.000000\n",
            "8     0.000000\n",
            "9     0.000000\n",
            "10    0.000206\n",
            "11    0.000000\n",
            "12    0.000000\n",
            "13    0.000000\n",
            "14    0.064253\n",
            "dtype: float64\n"
          ]
        }
      ]
    },
    {
      "cell_type": "code",
      "source": [
        "#only show missing value % > 0\n",
        "\n",
        "missing_rows = df.isna().sum(axis=1) / len(df) * 100\n",
        "missing_rows = missing_rows[missing_rows > 0]\n",
        "print(missing_rows)"
      ],
      "metadata": {
        "colab": {
          "base_uri": "https://localhost:8080/"
        },
        "id": "l_dx5AJrdbQB",
        "outputId": "cca46557-e079-4eb0-fe3d-79278c40ef15"
      },
      "execution_count": 16,
      "outputs": [
        {
          "output_type": "stream",
          "name": "stdout",
          "text": [
            "3         0.000206\n",
            "5         0.064253\n",
            "10        0.000206\n",
            "14        0.064253\n",
            "16        0.064253\n",
            "            ...   \n",
            "485563    0.064253\n",
            "485568    0.064253\n",
            "485569    0.064253\n",
            "485570    0.064253\n",
            "485572    0.064253\n",
            "Length: 113440, dtype: float64\n"
          ]
        }
      ]
    },
    {
      "cell_type": "code",
      "source": [
        "missing_rows = df.isna().sum(axis=1) / len(df) * 100\n",
        "missing_rows_filtered = missing_rows[(missing_rows >= 0) & (missing_rows <= 10)]\n",
        "\n",
        "plt.figure(figsize=(8, 6))\n",
        "plt.hist(missing_rows_filtered, bins=10, edgecolor='black')\n",
        "plt.xlabel('Missing Value Percentage')\n",
        "plt.ylabel('Count')\n",
        "plt.title('Range of Missing Values (0% - 8%)')\n",
        "plt.show()"
      ],
      "metadata": {
        "colab": {
          "base_uri": "https://localhost:8080/",
          "height": 564
        },
        "id": "k95rYwYwdhrr",
        "outputId": "3499f622-e931-4820-a608-b1e55a869204"
      },
      "execution_count": 17,
      "outputs": [
        {
          "output_type": "display_data",
          "data": {
            "text/plain": [
              "<Figure size 800x600 with 1 Axes>"
            ],
            "image/png": "[encoded data removed]"
          },
          "metadata": {}
        }
      ]
    },
    {
      "cell_type": "code",
      "source": [
        "#drop the rows in a df that have missing values more than 1%\n",
        "\n",
        "threshold = 0.00  # Set the threshold percentage\n",
        "\n",
        "rows_to_drop = missing_rows[missing_rows > threshold].index\n",
        "\n",
        "df_new = df.drop(rows_to_drop)"
      ],
      "metadata": {
        "id": "56GbCfTadk6b"
      },
      "execution_count": 18,
      "outputs": []
    },
    {
      "cell_type": "code",
      "source": [
        "df_new.shape"
      ],
      "metadata": {
        "colab": {
          "base_uri": "https://localhost:8080/"
        },
        "id": "bTpFY5WFduiR",
        "outputId": "d22e4bff-bb9c-4f2d-b2bf-d01ec2a8d08c"
      },
      "execution_count": 19,
      "outputs": [
        {
          "output_type": "execute_result",
          "data": {
            "text/plain": [
              "(372137, 313)"
            ]
          },
          "metadata": {},
          "execution_count": 19
        }
      ]
    },
    {
      "cell_type": "code",
      "source": [
        "missing_rows_new = df_new.isna().sum(axis=1) / len(df_new) * 100\n",
        "missing_rows_filtered = missing_rows[(missing_rows_new >= 0) & (missing_rows <= 8)]\n",
        "\n",
        "plt.figure(figsize=(8, 6))\n",
        "plt.hist(missing_rows_filtered, bins=10, edgecolor='black')\n",
        "plt.xlabel('Missing Value Percentage')\n",
        "plt.ylabel('Count')\n",
        "plt.title('Range of Missing Values (0% - 8%)')\n",
        "plt.show()"
      ],
      "metadata": {
        "colab": {
          "base_uri": "https://localhost:8080/",
          "height": 564
        },
        "id": "ctC4Irpmdwya",
        "outputId": "f9fce65a-2a70-43ae-da09-494b8e2f1656"
      },
      "execution_count": 20,
      "outputs": [
        {
          "output_type": "display_data",
          "data": {
            "text/plain": [
              "<Figure size 800x600 with 1 Axes>"
            ],
            "image/png": "[encoded data removed]"
          },
          "metadata": {}
        }
      ]
    },
    {
      "cell_type": "code",
      "source": [
        "#detect the total number of columns contains missing values\n",
        "df_new.isna().any().sum()"
      ],
      "metadata": {
        "colab": {
          "base_uri": "https://localhost:8080/"
        },
        "id": "r9uLLUHudzQf",
        "outputId": "8c381cf5-21a2-451d-930a-653e2a880699"
      },
      "execution_count": 22,
      "outputs": [
        {
          "output_type": "execute_result",
          "data": {
            "text/plain": [
              "0"
            ]
          },
          "metadata": {},
          "execution_count": 22
        }
      ]
    },
    {
      "cell_type": "code",
      "source": [
        "#check the total number of raws contains missing values\n",
        "df_new.isna().any(axis=1).sum()"
      ],
      "metadata": {
        "colab": {
          "base_uri": "https://localhost:8080/"
        },
        "id": "3kVlXfu7d_GK",
        "outputId": "558d9a8d-c54c-48a0-e239-9d9f057036de"
      },
      "execution_count": 24,
      "outputs": [
        {
          "output_type": "execute_result",
          "data": {
            "text/plain": [
              "0"
            ]
          },
          "metadata": {},
          "execution_count": 24
        }
      ]
    },
    {
      "cell_type": "code",
      "source": [
        "#checking duplicated rows\n",
        "num_duplicates = sum(df.duplicated())\n",
        "print(num_duplicates)"
      ],
      "metadata": {
        "colab": {
          "base_uri": "https://localhost:8080/"
        },
        "id": "7VNrGtfXeH9B",
        "outputId": "063a549a-d675-4d9f-e06e-4d693448c20a"
      },
      "execution_count": 25,
      "outputs": [
        {
          "output_type": "stream",
          "name": "stdout",
          "text": [
            "0\n"
          ]
        }
      ]
    },
    {
      "cell_type": "code",
      "source": [
        "import numpy as np\n",
        "\n",
        "# Calculate the z-scores for each column in df_new\n",
        "z_scores = np.abs((df_new - df_new.mean()) / df_new.std())\n",
        "\n",
        "# Define a threshold value for z-score (e.g., 3)\n",
        "threshold = 3\n",
        "\n",
        "# Identify outliers by checking if z-scores exceed the threshold\n",
        "outliers = df_new[z_scores > threshold]\n",
        "\n",
        "# Calculate the sum of outliers\n",
        "sum_of_outliers = outliers.sum().sum()\n",
        "\n",
        "# Print the sum of outliers\n",
        "print(sum_of_outliers)"
      ],
      "metadata": {
        "colab": {
          "base_uri": "https://localhost:8080/"
        },
        "id": "Dfl2s4gyeM1R",
        "outputId": "e912fe9e-5a1c-49ed-83bd-76bc6b5a59b8"
      },
      "execution_count": 26,
      "outputs": [
        {
          "output_type": "stream",
          "name": "stderr",
          "text": [
            "<ipython-input-26-ffbf5b342dcc>:4: FutureWarning: The default value of numeric_only in DataFrame.mean is deprecated. In a future version, it will default to False. In addition, specifying 'numeric_only=None' is deprecated. Select only valid columns or specify the value of numeric_only to silence this warning.\n",
            "  z_scores = np.abs((df_new - df_new.mean()) / df_new.std())\n",
            "<ipython-input-26-ffbf5b342dcc>:4: FutureWarning: The default value of numeric_only in DataFrame.std is deprecated. In a future version, it will default to False. In addition, specifying 'numeric_only=None' is deprecated. Select only valid columns or specify the value of numeric_only to silence this warning.\n",
            "  z_scores = np.abs((df_new - df_new.mean()) / df_new.std())\n"
          ]
        },
        {
          "output_type": "stream",
          "name": "stdout",
          "text": [
            "0.0\n"
          ]
        }
      ]
    },
    {
      "cell_type": "code",
      "source": [
        "#check categorical values\n",
        "num_categorical_values = df.select_dtypes(include=['object']).nunique().sum()\n",
        "print(num_categorical_values)"
      ],
      "metadata": {
        "colab": {
          "base_uri": "https://localhost:8080/"
        },
        "id": "Bm8Y_-RUeWXS",
        "outputId": "36e0ea2b-666a-4cf8-85e4-ea0776e90f2b"
      },
      "execution_count": 27,
      "outputs": [
        {
          "output_type": "stream",
          "name": "stdout",
          "text": [
            "485577\n"
          ]
        }
      ]
    },
    {
      "cell_type": "code",
      "source": [
        "data_types = df.dtypes\n",
        "print(data_types)"
      ],
      "metadata": {
        "colab": {
          "base_uri": "https://localhost:8080/"
        },
        "id": "izE324XoecqI",
        "outputId": "ba1f4d85-a5a0-439c-9a7b-c62cd1c686bc"
      },
      "execution_count": 28,
      "outputs": [
        {
          "output_type": "stream",
          "name": "stdout",
          "text": [
            "sample              object\n",
            "TCGA-EK-A3GK-01    float64\n",
            "TCGA-GH-A9DA-01    float64\n",
            "TCGA-VS-A94Y-01    float64\n",
            "TCGA-MY-A5BF-11    float64\n",
            "                    ...   \n",
            "TCGA-C5-A1MF-01    float64\n",
            "TCGA-C5-A1BF-01    float64\n",
            "TCGA-C5-A1BK-01    float64\n",
            "TCGA-C5-A1BI-01    float64\n",
            "TCGA-C5-A1M9-01    float64\n",
            "Length: 313, dtype: object\n"
          ]
        }
      ]
    },
    {
      "cell_type": "code",
      "source": [
        "# Select columns with categorical data types\n",
        "categorical_columns = df.select_dtypes(include=['object', 'category']).columns\n",
        "categorical_columns"
      ],
      "metadata": {
        "colab": {
          "base_uri": "https://localhost:8080/"
        },
        "id": "g3PnuJSHeggR",
        "outputId": "ce7cb72e-f149-4d90-f695-30a8785f63d8"
      },
      "execution_count": 29,
      "outputs": [
        {
          "output_type": "execute_result",
          "data": {
            "text/plain": [
              "Index(['sample'], dtype='object')"
            ]
          },
          "metadata": {},
          "execution_count": 29
        }
      ]
    },
    {
      "cell_type": "code",
      "source": [
        "df_new"
      ],
      "metadata": {
        "colab": {
          "base_uri": "https://localhost:8080/",
          "height": 539
        },
        "id": "ngDvc6fzejtK",
        "outputId": "b32c5ac2-a7f8-4ea2-8706-30ed0b3bad5d"
      },
      "execution_count": 30,
      "outputs": [
        {
          "output_type": "execute_result",
          "data": {
            "text/plain": [
              "            sample  TCGA-EK-A3GK-01  TCGA-GH-A9DA-01  TCGA-VS-A94Y-01  \\\n",
              "0       cg13332474           0.0345           0.5353           0.0287   \n",
              "1       cg00651829           0.1921           0.6911           0.0189   \n",
              "2       cg17027195           0.0428           0.0741           0.0403   \n",
              "4       cg03050183           0.0753           0.0650           0.0481   \n",
              "6       cg06819656           0.8848           0.9462           0.9193   \n",
              "...            ...              ...              ...              ...   \n",
              "485571  cg11692435           0.9878           0.9861           0.9826   \n",
              "485573  cg10230711           0.0674           0.0610           0.0554   \n",
              "485574  cg16651827           0.5374           0.7840           0.7569   \n",
              "485575  cg18138552           0.0388           0.0312           0.0229   \n",
              "485576  cg07883722           0.9557           0.9336           0.9479   \n",
              "\n",
              "        TCGA-MY-A5BF-11  TCGA-VS-A94Z-01  TCGA-EA-A4BA-01  TCGA-ZJ-A8QQ-01  \\\n",
              "0                0.0443           0.0296           0.0268           0.7356   \n",
              "1                0.0202           0.0164           0.0205           0.5995   \n",
              "2                0.0403           0.0408           0.0470           0.8611   \n",
              "4                0.2139           0.1028           0.1044           0.0578   \n",
              "6                0.9060           0.9334           0.8728           0.9275   \n",
              "...                 ...              ...              ...              ...   \n",
              "485571           0.9888           0.9841           0.9859           0.9821   \n",
              "485573           0.0482           0.0459           0.0505           0.0420   \n",
              "485574           0.7441           0.5798           0.7151           0.8134   \n",
              "485575           0.0270           0.0227           0.0340           0.0281   \n",
              "485576           0.9459           0.9462           0.9517           0.9556   \n",
              "\n",
              "        TCGA-FU-A3EO-11  TCGA-DG-A2KJ-01  ...  TCGA-C5-A1BE-01  \\\n",
              "0                0.0325           0.5810  ...           0.0275   \n",
              "1                0.0165           0.0223  ...           0.0251   \n",
              "2                0.0472           0.0358  ...           0.0498   \n",
              "4                0.1700           0.1165  ...           0.0698   \n",
              "6                0.9002           0.9123  ...           0.9637   \n",
              "...                 ...              ...  ...              ...   \n",
              "485571           0.9864           0.9805  ...           0.9796   \n",
              "485573           0.0767           0.0884  ...           0.0570   \n",
              "485574           0.7859           0.8347  ...           0.7696   \n",
              "485575           0.0251           0.0322  ...           0.0381   \n",
              "485576           0.9085           0.9567  ...           0.9467   \n",
              "\n",
              "        TCGA-FU-A23K-01  TCGA-C5-A1BJ-01  TCGA-FU-A23L-01  TCGA-C5-A1M5-01  \\\n",
              "0                0.0687           0.0303           0.0298           0.1956   \n",
              "1                0.5036           0.0249           0.0227           0.0248   \n",
              "2                0.0495           0.0420           0.0517           0.0597   \n",
              "4                0.1205           0.0838           0.0967           0.0690   \n",
              "6                0.8415           0.9018           0.8755           0.9288   \n",
              "...                 ...              ...              ...              ...   \n",
              "485571           0.9850           0.9848           0.9845           0.9735   \n",
              "485573           0.0561           0.0664           0.0669           0.0474   \n",
              "485574           0.7427           0.7919           0.7410           0.7508   \n",
              "485575           0.0299           0.0465           0.0314           0.0387   \n",
              "485576           0.9464           0.9320           0.9290           0.8973   \n",
              "\n",
              "        TCGA-C5-A1MF-01  TCGA-C5-A1BF-01  TCGA-C5-A1BK-01  TCGA-C5-A1BI-01  \\\n",
              "0                0.7018           0.0243           0.0492           0.0274   \n",
              "1                0.0275           0.0380           0.4205           0.0882   \n",
              "2                0.0424           0.0469           0.4380           0.0702   \n",
              "4                0.0721           0.0713           0.1940           0.0959   \n",
              "6                0.9485           0.8999           0.8850           0.4940   \n",
              "...                 ...              ...              ...              ...   \n",
              "485571           0.9804           0.9758           0.9847           0.9843   \n",
              "485573           0.0650           0.0671           0.0749           0.0526   \n",
              "485574           0.7524           0.7805           0.7938           0.7741   \n",
              "485575           0.0389           0.0353           0.0341           0.0495   \n",
              "485576           0.9564           0.9270           0.9497           0.9291   \n",
              "\n",
              "        TCGA-C5-A1M9-01  \n",
              "0                0.3471  \n",
              "1                0.6065  \n",
              "2                0.0622  \n",
              "4                0.0665  \n",
              "6                0.9158  \n",
              "...                 ...  \n",
              "485571           0.9850  \n",
              "485573           0.0538  \n",
              "485574           0.6637  \n",
              "485575           0.0362  \n",
              "485576           0.9575  \n",
              "\n",
              "[372137 rows x 313 columns]"
            ],
            "text/html": [
              "\n",
              "  <div id=\"df-9cd25093-b185-483b-bb25-b5b4456c5a7f\">\n",
              "    <div class=\"colab-df-container\">\n",
              "      <div>\n",
              "<style scoped>\n",
              "    .dataframe tbody tr th:only-of-type {\n",
              "        vertical-align: middle;\n",
              "    }\n",
              "\n",
              "    .dataframe tbody tr th {\n",
              "        vertical-align: top;\n",
              "    }\n",
              "\n",
              "    .dataframe thead th {\n",
              "        text-align: right;\n",
              "    }\n",
              "</style>\n",
              "<table border=\"1\" class=\"dataframe\">\n",
              "  <thead>\n",
              "    <tr style=\"text-align: right;\">\n",
              "      <th></th>\n",
              "      <th>sample</th>\n",
              "      <th>TCGA-EK-A3GK-01</th>\n",
              "      <th>TCGA-GH-A9DA-01</th>\n",
              "      <th>TCGA-VS-A94Y-01</th>\n",
              "      <th>TCGA-MY-A5BF-11</th>\n",
              "      <th>TCGA-VS-A94Z-01</th>\n",
              "      <th>TCGA-EA-A4BA-01</th>\n",
              "      <th>TCGA-ZJ-A8QQ-01</th>\n",
              "      <th>TCGA-FU-A3EO-11</th>\n",
              "      <th>TCGA-DG-A2KJ-01</th>\n",
              "      <th>...</th>\n",
              "      <th>TCGA-C5-A1BE-01</th>\n",
              "      <th>TCGA-FU-A23K-01</th>\n",
              "      <th>TCGA-C5-A1BJ-01</th>\n",
              "      <th>TCGA-FU-A23L-01</th>\n",
              "      <th>TCGA-C5-A1M5-01</th>\n",
              "      <th>TCGA-C5-A1MF-01</th>\n",
              "      <th>TCGA-C5-A1BF-01</th>\n",
              "      <th>TCGA-C5-A1BK-01</th>\n",
              "      <th>TCGA-C5-A1BI-01</th>\n",
              "      <th>TCGA-C5-A1M9-01</th>\n",
              "    </tr>\n",
              "  </thead>\n",
              "  <tbody>\n",
              "    <tr>\n",
              "      <th>0</th>\n",
              "      <td>cg13332474</td>\n",
              "      <td>0.0345</td>\n",
              "      <td>0.5353</td>\n",
              "      <td>0.0287</td>\n",
              "      <td>0.0443</td>\n",
              "      <td>0.0296</td>\n",
              "      <td>0.0268</td>\n",
              "      <td>0.7356</td>\n",
              "      <td>0.0325</td>\n",
              "      <td>0.5810</td>\n",
              "      <td>...</td>\n",
              "      <td>0.0275</td>\n",
              "      <td>0.0687</td>\n",
              "      <td>0.0303</td>\n",
              "      <td>0.0298</td>\n",
              "      <td>0.1956</td>\n",
              "      <td>0.7018</td>\n",
              "      <td>0.0243</td>\n",
              "      <td>0.0492</td>\n",
              "      <td>0.0274</td>\n",
              "      <td>0.3471</td>\n",
              "    </tr>\n",
              "    <tr>\n",
              "      <th>1</th>\n",
              "      <td>cg00651829</td>\n",
              "      <td>0.1921</td>\n",
              "      <td>0.6911</td>\n",
              "      <td>0.0189</td>\n",
              "      <td>0.0202</td>\n",
              "      <td>0.0164</td>\n",
              "      <td>0.0205</td>\n",
              "      <td>0.5995</td>\n",
              "      <td>0.0165</td>\n",
              "      <td>0.0223</td>\n",
              "      <td>...</td>\n",
              "      <td>0.0251</td>\n",
              "      <td>0.5036</td>\n",
              "      <td>0.0249</td>\n",
              "      <td>0.0227</td>\n",
              "      <td>0.0248</td>\n",
              "      <td>0.0275</td>\n",
              "      <td>0.0380</td>\n",
              "      <td>0.4205</td>\n",
              "      <td>0.0882</td>\n",
              "      <td>0.6065</td>\n",
              "    </tr>\n",
              "    <tr>\n",
              "      <th>2</th>\n",
              "      <td>cg17027195</td>\n",
              "      <td>0.0428</td>\n",
              "      <td>0.0741</td>\n",
              "      <td>0.0403</td>\n",
              "      <td>0.0403</td>\n",
              "      <td>0.0408</td>\n",
              "      <td>0.0470</td>\n",
              "      <td>0.8611</td>\n",
              "      <td>0.0472</td>\n",
              "      <td>0.0358</td>\n",
              "      <td>...</td>\n",
              "      <td>0.0498</td>\n",
              "      <td>0.0495</td>\n",
              "      <td>0.0420</td>\n",
              "      <td>0.0517</td>\n",
              "      <td>0.0597</td>\n",
              "      <td>0.0424</td>\n",
              "      <td>0.0469</td>\n",
              "      <td>0.4380</td>\n",
              "      <td>0.0702</td>\n",
              "      <td>0.0622</td>\n",
              "    </tr>\n",
              "    <tr>\n",
              "      <th>4</th>\n",
              "      <td>cg03050183</td>\n",
              "      <td>0.0753</td>\n",
              "      <td>0.0650</td>\n",
              "      <td>0.0481</td>\n",
              "      <td>0.2139</td>\n",
              "      <td>0.1028</td>\n",
              "      <td>0.1044</td>\n",
              "      <td>0.0578</td>\n",
              "      <td>0.1700</td>\n",
              "      <td>0.1165</td>\n",
              "      <td>...</td>\n",
              "      <td>0.0698</td>\n",
              "      <td>0.1205</td>\n",
              "      <td>0.0838</td>\n",
              "      <td>0.0967</td>\n",
              "      <td>0.0690</td>\n",
              "      <td>0.0721</td>\n",
              "      <td>0.0713</td>\n",
              "      <td>0.1940</td>\n",
              "      <td>0.0959</td>\n",
              "      <td>0.0665</td>\n",
              "    </tr>\n",
              "    <tr>\n",
              "      <th>6</th>\n",
              "      <td>cg06819656</td>\n",
              "      <td>0.8848</td>\n",
              "      <td>0.9462</td>\n",
              "      <td>0.9193</td>\n",
              "      <td>0.9060</td>\n",
              "      <td>0.9334</td>\n",
              "      <td>0.8728</td>\n",
              "      <td>0.9275</td>\n",
              "      <td>0.9002</td>\n",
              "      <td>0.9123</td>\n",
              "      <td>...</td>\n",
              "      <td>0.9637</td>\n",
              "      <td>0.8415</td>\n",
              "      <td>0.9018</td>\n",
              "      <td>0.8755</td>\n",
              "      <td>0.9288</td>\n",
              "      <td>0.9485</td>\n",
              "      <td>0.8999</td>\n",
              "      <td>0.8850</td>\n",
              "      <td>0.4940</td>\n",
              "      <td>0.9158</td>\n",
              "    </tr>\n",
              "    <tr>\n",
              "      <th>...</th>\n",
              "      <td>...</td>\n",
              "      <td>...</td>\n",
              "      <td>...</td>\n",
              "      <td>...</td>\n",
              "      <td>...</td>\n",
              "      <td>...</td>\n",
              "      <td>...</td>\n",
              "      <td>...</td>\n",
              "      <td>...</td>\n",
              "      <td>...</td>\n",
              "      <td>...</td>\n",
              "      <td>...</td>\n",
              "      <td>...</td>\n",
              "      <td>...</td>\n",
              "      <td>...</td>\n",
              "      <td>...</td>\n",
              "      <td>...</td>\n",
              "      <td>...</td>\n",
              "      <td>...</td>\n",
              "      <td>...</td>\n",
              "      <td>...</td>\n",
              "    </tr>\n",
              "    <tr>\n",
              "      <th>485571</th>\n",
              "      <td>cg11692435</td>\n",
              "      <td>0.9878</td>\n",
              "      <td>0.9861</td>\n",
              "      <td>0.9826</td>\n",
              "      <td>0.9888</td>\n",
              "      <td>0.9841</td>\n",
              "      <td>0.9859</td>\n",
              "      <td>0.9821</td>\n",
              "      <td>0.9864</td>\n",
              "      <td>0.9805</td>\n",
              "      <td>...</td>\n",
              "      <td>0.9796</td>\n",
              "      <td>0.9850</td>\n",
              "      <td>0.9848</td>\n",
              "      <td>0.9845</td>\n",
              "      <td>0.9735</td>\n",
              "      <td>0.9804</td>\n",
              "      <td>0.9758</td>\n",
              "      <td>0.9847</td>\n",
              "      <td>0.9843</td>\n",
              "      <td>0.9850</td>\n",
              "    </tr>\n",
              "    <tr>\n",
              "      <th>485573</th>\n",
              "      <td>cg10230711</td>\n",
              "      <td>0.0674</td>\n",
              "      <td>0.0610</td>\n",
              "      <td>0.0554</td>\n",
              "      <td>0.0482</td>\n",
              "      <td>0.0459</td>\n",
              "      <td>0.0505</td>\n",
              "      <td>0.0420</td>\n",
              "      <td>0.0767</td>\n",
              "      <td>0.0884</td>\n",
              "      <td>...</td>\n",
              "      <td>0.0570</td>\n",
              "      <td>0.0561</td>\n",
              "      <td>0.0664</td>\n",
              "      <td>0.0669</td>\n",
              "      <td>0.0474</td>\n",
              "      <td>0.0650</td>\n",
              "      <td>0.0671</td>\n",
              "      <td>0.0749</td>\n",
              "      <td>0.0526</td>\n",
              "      <td>0.0538</td>\n",
              "    </tr>\n",
              "    <tr>\n",
              "      <th>485574</th>\n",
              "      <td>cg16651827</td>\n",
              "      <td>0.5374</td>\n",
              "      <td>0.7840</td>\n",
              "      <td>0.7569</td>\n",
              "      <td>0.7441</td>\n",
              "      <td>0.5798</td>\n",
              "      <td>0.7151</td>\n",
              "      <td>0.8134</td>\n",
              "      <td>0.7859</td>\n",
              "      <td>0.8347</td>\n",
              "      <td>...</td>\n",
              "      <td>0.7696</td>\n",
              "      <td>0.7427</td>\n",
              "      <td>0.7919</td>\n",
              "      <td>0.7410</td>\n",
              "      <td>0.7508</td>\n",
              "      <td>0.7524</td>\n",
              "      <td>0.7805</td>\n",
              "      <td>0.7938</td>\n",
              "      <td>0.7741</td>\n",
              "      <td>0.6637</td>\n",
              "    </tr>\n",
              "    <tr>\n",
              "      <th>485575</th>\n",
              "      <td>cg18138552</td>\n",
              "      <td>0.0388</td>\n",
              "      <td>0.0312</td>\n",
              "      <td>0.0229</td>\n",
              "      <td>0.0270</td>\n",
              "      <td>0.0227</td>\n",
              "      <td>0.0340</td>\n",
              "      <td>0.0281</td>\n",
              "      <td>0.0251</td>\n",
              "      <td>0.0322</td>\n",
              "      <td>...</td>\n",
              "      <td>0.0381</td>\n",
              "      <td>0.0299</td>\n",
              "      <td>0.0465</td>\n",
              "      <td>0.0314</td>\n",
              "      <td>0.0387</td>\n",
              "      <td>0.0389</td>\n",
              "      <td>0.0353</td>\n",
              "      <td>0.0341</td>\n",
              "      <td>0.0495</td>\n",
              "      <td>0.0362</td>\n",
              "    </tr>\n",
              "    <tr>\n",
              "      <th>485576</th>\n",
              "      <td>cg07883722</td>\n",
              "      <td>0.9557</td>\n",
              "      <td>0.9336</td>\n",
              "      <td>0.9479</td>\n",
              "      <td>0.9459</td>\n",
              "      <td>0.9462</td>\n",
              "      <td>0.9517</td>\n",
              "      <td>0.9556</td>\n",
              "      <td>0.9085</td>\n",
              "      <td>0.9567</td>\n",
              "      <td>...</td>\n",
              "      <td>0.9467</td>\n",
              "      <td>0.9464</td>\n",
              "      <td>0.9320</td>\n",
              "      <td>0.9290</td>\n",
              "      <td>0.8973</td>\n",
              "      <td>0.9564</td>\n",
              "      <td>0.9270</td>\n",
              "      <td>0.9497</td>\n",
              "      <td>0.9291</td>\n",
              "      <td>0.9575</td>\n",
              "    </tr>\n",
              "  </tbody>\n",
              "</table>\n",
              "<p>372137 rows × 313 columns</p>\n",
              "</div>\n",
              "      <button class=\"colab-df-convert\" onclick=\"convertToInteractive('df-9cd25093-b185-483b-bb25-b5b4456c5a7f')\"\n",
              "              title=\"Convert this dataframe to an interactive table.\"\n",
              "              style=\"display:none;\">\n",
              "        \n",
              "  <svg xmlns=\"http://www.w3.org/2000/svg\" height=\"24px\"viewBox=\"0 0 24 24\"\n",
              "       width=\"24px\">\n",
              "    <path d=\"M0 0h24v24H0V0z\" fill=\"none\"/>\n",
              "    <path d=\"M18.56 5.44l.94 2.06.94-2.06 2.06-.94-2.06-.94-.94-2.06-.94 2.06-2.06.94zm-11 1L8.5 8.5l.94-2.06 2.06-.94-2.06-.94L8.5 2.5l-.94 2.06-2.06.94zm10 10l.94 2.06.94-2.06 2.06-.94-2.06-.94-.94-2.06-.94 2.06-2.06.94z\"/><path d=\"M17.41 7.96l-1.37-1.37c-.4-.4-.92-.59-1.43-.59-.52 0-1.04.2-1.43.59L10.3 9.45l-7.72 7.72c-.78.78-.78 2.05 0 2.83L4 21.41c.39.39.9.59 1.41.59.51 0 1.02-.2 1.41-.59l7.78-7.78 2.81-2.81c.8-.78.8-2.07 0-2.86zM5.41 20L4 18.59l7.72-7.72 1.47 1.35L5.41 20z\"/>\n",
              "  </svg>\n",
              "      </button>\n",
              "      \n",
              "  <style>\n",
              "    .colab-df-container {\n",
              "      display:flex;\n",
              "      flex-wrap:wrap;\n",
              "      gap: 12px;\n",
              "    }\n",
              "\n",
              "    .colab-df-convert {\n",
              "      background-color: #E8F0FE;\n",
              "      border: none;\n",
              "      border-radius: 50%;\n",
              "      cursor: pointer;\n",
              "      display: none;\n",
              "      fill: #1967D2;\n",
              "      height: 32px;\n",
              "      padding: 0 0 0 0;\n",
              "      width: 32px;\n",
              "    }\n",
              "\n",
              "    .colab-df-convert:hover {\n",
              "      background-color: #E2EBFA;\n",
              "      box-shadow: 0px 1px 2px rgba(60, 64, 67, 0.3), 0px 1px 3px 1px rgba(60, 64, 67, 0.15);\n",
              "      fill: #174EA6;\n",
              "    }\n",
              "\n",
              "    [theme=dark] .colab-df-convert {\n",
              "      background-color: #3B4455;\n",
              "      fill: #D2E3FC;\n",
              "    }\n",
              "\n",
              "    [theme=dark] .colab-df-convert:hover {\n",
              "      background-color: #434B5C;\n",
              "      box-shadow: 0px 1px 3px 1px rgba(0, 0, 0, 0.15);\n",
              "      filter: drop-shadow(0px 1px 2px rgba(0, 0, 0, 0.3));\n",
              "      fill: #FFFFFF;\n",
              "    }\n",
              "  </style>\n",
              "\n",
              "      <script>\n",
              "        const buttonEl =\n",
              "          document.querySelector('#df-9cd25093-b185-483b-bb25-b5b4456c5a7f button.colab-df-convert');\n",
              "        buttonEl.style.display =\n",
              "          google.colab.kernel.accessAllowed ? 'block' : 'none';\n",
              "\n",
              "        async function convertToInteractive(key) {\n",
              "          const element = document.querySelector('#df-9cd25093-b185-483b-bb25-b5b4456c5a7f');\n",
              "          const dataTable =\n",
              "            await google.colab.kernel.invokeFunction('convertToInteractive',\n",
              "                                                     [key], {});\n",
              "          if (!dataTable) return;\n",
              "\n",
              "          const docLinkHtml = 'Like what you see? Visit the ' +\n",
              "            '<a target=\"_blank\" href=https://colab.research.google.com/notebooks/data_table.ipynb>data table notebook</a>'\n",
              "            + ' to learn more about interactive tables.';\n",
              "          element.innerHTML = '';\n",
              "          dataTable['output_type'] = 'display_data';\n",
              "          await google.colab.output.renderOutput(dataTable, element);\n",
              "          const docLink = document.createElement('div');\n",
              "          docLink.innerHTML = docLinkHtml;\n",
              "          element.appendChild(docLink);\n",
              "        }\n",
              "      </script>\n",
              "    </div>\n",
              "  </div>\n",
              "  "
            ]
          },
          "metadata": {},
          "execution_count": 30
        }
      ]
    },
    {
      "cell_type": "code",
      "source": [
        "numeric_data = df_new.select_dtypes(include=np.number)\n",
        "ranges = numeric_data.max() - numeric_data.min()\n",
        "needs_normalization = any(ranges > 1)\n",
        "needs_normalization"
      ],
      "metadata": {
        "colab": {
          "base_uri": "https://localhost:8080/"
        },
        "id": "mnYR8ePEfVpa",
        "outputId": "3e4345c1-ade7-47a1-8fcc-a23c1ddbc2a8"
      },
      "execution_count": 32,
      "outputs": [
        {
          "output_type": "execute_result",
          "data": {
            "text/plain": [
              "False"
            ]
          },
          "metadata": {},
          "execution_count": 32
        }
      ]
    },
    {
      "cell_type": "code",
      "source": [
        "df_new.shape"
      ],
      "metadata": {
        "colab": {
          "base_uri": "https://localhost:8080/"
        },
        "id": "qX88BBpJfZzx",
        "outputId": "aeb55a25-b5cf-421e-ba2e-a78a1ea047fc"
      },
      "execution_count": 33,
      "outputs": [
        {
          "output_type": "execute_result",
          "data": {
            "text/plain": [
              "(372137, 313)"
            ]
          },
          "metadata": {},
          "execution_count": 33
        }
      ]
    },
    {
      "cell_type": "code",
      "source": [
        "# Define the file path in Google Drive\n",
        "file_path = '/content/drive/MyDrive/RESEACH/TCGA Cervical Cancer (CESC)/Preprocessed-data/data_preparation_methilation450K.csv'\n",
        "\n",
        "# Write DataFrame to CSV file\n",
        "df_new.to_csv(file_path, index=False)"
      ],
      "metadata": {
        "id": "Y973b76ofgEb"
      },
      "execution_count": 34,
      "outputs": []
    }
  ]
}