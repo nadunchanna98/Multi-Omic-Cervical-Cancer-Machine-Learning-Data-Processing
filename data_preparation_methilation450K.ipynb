{
  "nbformat": 4,
  "nbformat_minor": 0,
  "metadata": {
    "colab": {
      "provenance": [],
      "authorship_tag": "ABX9TyMEzeXE1CFkCVePt4ovlzOC",
      "include_colab_link": true
    },
    "kernelspec": {
      "name": "python3",
      "display_name": "Python 3"
    },
    "language_info": {
      "name": "python"
    }
  },
  "cells": [
    {
      "cell_type": "markdown",
      "metadata": {
        "id": "view-in-github",
        "colab_type": "text"
      },
      "source": [
        "<a href=\"https://colab.research.google.com/github/nadunchanna98/MultiOmics-CervicalCancer-MachineLearning-DataProcessing/blob/main/data_preparation_methilation450K.ipynb\" target=\"_parent\"><img src=\"https://colab.research.google.com/assets/colab-badge.svg\" alt=\"Open In Colab\"/></a>"
      ]
    },
    {
      "cell_type": "code",
      "execution_count": 1,
      "metadata": {
        "colab": {
          "base_uri": "https://localhost:8080/"
        },
        "id": "2KIWlWFdtD-v",
        "outputId": "fabbd1db-d6c5-4c2e-8a30-f5318bd2d175"
      },
      "outputs": [
        {
          "output_type": "stream",
          "name": "stdout",
          "text": [
            "Mounted at /content/drive\n"
          ]
        }
      ],
      "source": [
        "from google.colab import drive\n",
        "drive.mount('/content/drive')"
      ]
    },
    {
      "cell_type": "code",
      "source": [
        "import os\n",
        "os.chdir('/content/drive/My Drive/RESEACH/Data-GDC-TCGA-Cervical-Cancer')"
      ],
      "metadata": {
        "id": "637l4fO0taSR"
      },
      "execution_count": 2,
      "outputs": []
    },
    {
      "cell_type": "code",
      "source": [
        "import numpy as np\n",
        "import pandas as pd\n",
        "import seaborn as sns\n",
        "import matplotlib.pyplot as plt\n",
        "\n",
        "df = pd.read_csv('TCGA-CESC.methylation450.tsv', delimiter='\\t')"
      ],
      "metadata": {
        "id": "5dsqXMXLtvyA"
      },
      "execution_count": 3,
      "outputs": []
    },
    {
      "cell_type": "markdown",
      "source": [
        "*The parameter delimiter='\\t' is used in the read_csv() function of pandas to specify that the TSV file is tab-separated. By setting delimiter='\\t', pandas will correctly parse the file, treating tabs as the separator between columns in the TSV file.*"
      ],
      "metadata": {
        "id": "-v6QeknEwIO6"
      }
    },
    {
      "cell_type": "code",
      "source": [
        "df"
      ],
      "metadata": {
        "colab": {
          "base_uri": "https://localhost:8080/",
          "height": 540
        },
        "id": "dwgtUhZ6vQdn",
        "outputId": "2f95e478-4b35-4684-d819-2a21beaab77f"
      },
      "execution_count": 4,
      "outputs": [
        {
          "output_type": "execute_result",
          "data": {
            "text/plain": [
              "       Composite Element REF  TCGA-DS-A7WI-01A  TCGA-EX-A449-01A  \\\n",
              "0                 cg00000029          0.084341          0.217599   \n",
              "1                 cg00000108               NaN               NaN   \n",
              "2                 cg00000109               NaN               NaN   \n",
              "3                 cg00000165          0.862416          0.869435   \n",
              "4                 cg00000236          0.911449          0.915369   \n",
              "...                      ...               ...               ...   \n",
              "485572             rs9363764          0.593630          0.944792   \n",
              "485573              rs939290          0.963226          0.535642   \n",
              "485574              rs951295          0.522067          0.541811   \n",
              "485575              rs966367          0.938175          0.473702   \n",
              "485576             rs9839873          0.087861          0.941280   \n",
              "\n",
              "        TCGA-VS-A958-01A  TCGA-MY-A5BE-01A  TCGA-C5-A2LX-01A  \\\n",
              "0               0.348514          0.703774          0.322225   \n",
              "1                    NaN               NaN               NaN   \n",
              "2                    NaN               NaN               NaN   \n",
              "3               0.645666          0.515459          0.774517   \n",
              "4               0.892506          0.896557          0.935807   \n",
              "...                  ...               ...               ...   \n",
              "485572          0.929568          0.042645          0.910412   \n",
              "485573          0.962273          0.967490          0.539177   \n",
              "485574          0.541944          0.967364          0.464852   \n",
              "485575          0.933118          0.931720          0.807193   \n",
              "485576          0.650911          0.062831          0.869965   \n",
              "\n",
              "        TCGA-Q1-A73Q-01A  TCGA-DS-A0VM-01A  TCGA-C5-A8XI-01A  \\\n",
              "0               0.203221          0.093782          0.257746   \n",
              "1                    NaN               NaN               NaN   \n",
              "2                    NaN               NaN               NaN   \n",
              "3               0.861620          0.825762          0.813149   \n",
              "4               0.881156          0.877262          0.924667   \n",
              "...                  ...               ...               ...   \n",
              "485572          0.603064          0.814645          0.045627   \n",
              "485573          0.192805          0.959718          0.965251   \n",
              "485574          0.033636          0.961768          0.559166   \n",
              "485575          0.944720          0.485604          0.029934   \n",
              "485576          0.920537          0.919316          0.059978   \n",
              "\n",
              "        TCGA-FU-A3YQ-01A  ...  TCGA-ZJ-AAX4-01A  TCGA-EA-A3HU-01A  \\\n",
              "0               0.435865  ...          0.074921          0.411392   \n",
              "1                    NaN  ...               NaN               NaN   \n",
              "2                    NaN  ...               NaN               NaN   \n",
              "3               0.542959  ...          0.772163          0.711280   \n",
              "4               0.915263  ...          0.831091          0.897732   \n",
              "...                  ...  ...               ...               ...   \n",
              "485572          0.957711  ...          0.920156          0.946961   \n",
              "485573          0.654634  ...          0.878983          0.698642   \n",
              "485574          0.511752  ...          0.525866          0.967805   \n",
              "485575          0.475043  ...          0.047231          0.033025   \n",
              "485576          0.948530  ...          0.808004          0.934311   \n",
              "\n",
              "        TCGA-EK-A2RM-01A  TCGA-DG-A2KM-01A  TCGA-VS-A8QC-01A  \\\n",
              "0               0.080410          0.594286          0.098144   \n",
              "1                    NaN               NaN               NaN   \n",
              "2                    NaN               NaN               NaN   \n",
              "3               0.879098          0.334947          0.643819   \n",
              "4               0.915891          0.895067          0.925493   \n",
              "...                  ...               ...               ...   \n",
              "485572          0.540200          0.919144          0.338718   \n",
              "485573          0.961396          0.586752          0.957735   \n",
              "485574          0.463418          0.059425          0.030484   \n",
              "485575          0.571616          0.442153          0.496741   \n",
              "485576          0.900972          0.893294          0.082605   \n",
              "\n",
              "        TCGA-ZJ-A8QO-01A  TCGA-C5-A1BL-01A  TCGA-C5-A1BI-01B  \\\n",
              "0               0.368773          0.333850          0.449693   \n",
              "1                    NaN               NaN               NaN   \n",
              "2                    NaN               NaN               NaN   \n",
              "3               0.637827          0.847126          0.467152   \n",
              "4               0.933372          0.907454          0.901150   \n",
              "...                  ...               ...               ...   \n",
              "485572          0.774480          0.951442          0.478548   \n",
              "485573          0.031237          0.966515          0.492561   \n",
              "485574          0.974948          0.036970          0.046857   \n",
              "485575          0.456292          0.030631          0.927601   \n",
              "485576          0.900759          0.920812          0.607766   \n",
              "\n",
              "        TCGA-UC-A7PF-01A  TCGA-VS-A8EG-01A  \n",
              "0               0.490224          0.197928  \n",
              "1                    NaN               NaN  \n",
              "2                    NaN               NaN  \n",
              "3               0.540857          0.775251  \n",
              "4               0.924488          0.923269  \n",
              "...                  ...               ...  \n",
              "485572          0.541264          0.568514  \n",
              "485573          0.395106          0.517844  \n",
              "485574          0.501203          0.511796  \n",
              "485575          0.524862          0.907202  \n",
              "485576          0.763172          0.624453  \n",
              "\n",
              "[485577 rows x 313 columns]"
            ],
            "text/html": [
              "\n",
              "  <div id=\"df-586b2e9c-092f-4fbc-a3b3-ee937d1202d9\">\n",
              "    <div class=\"colab-df-container\">\n",
              "      <div>\n",
              "<style scoped>\n",
              "    .dataframe tbody tr th:only-of-type {\n",
              "        vertical-align: middle;\n",
              "    }\n",
              "\n",
              "    .dataframe tbody tr th {\n",
              "        vertical-align: top;\n",
              "    }\n",
              "\n",
              "    .dataframe thead th {\n",
              "        text-align: right;\n",
              "    }\n",
              "</style>\n",
              "<table border=\"1\" class=\"dataframe\">\n",
              "  <thead>\n",
              "    <tr style=\"text-align: right;\">\n",
              "      <th></th>\n",
              "      <th>Composite Element REF</th>\n",
              "      <th>TCGA-DS-A7WI-01A</th>\n",
              "      <th>TCGA-EX-A449-01A</th>\n",
              "      <th>TCGA-VS-A958-01A</th>\n",
              "      <th>TCGA-MY-A5BE-01A</th>\n",
              "      <th>TCGA-C5-A2LX-01A</th>\n",
              "      <th>TCGA-Q1-A73Q-01A</th>\n",
              "      <th>TCGA-DS-A0VM-01A</th>\n",
              "      <th>TCGA-C5-A8XI-01A</th>\n",
              "      <th>TCGA-FU-A3YQ-01A</th>\n",
              "      <th>...</th>\n",
              "      <th>TCGA-ZJ-AAX4-01A</th>\n",
              "      <th>TCGA-EA-A3HU-01A</th>\n",
              "      <th>TCGA-EK-A2RM-01A</th>\n",
              "      <th>TCGA-DG-A2KM-01A</th>\n",
              "      <th>TCGA-VS-A8QC-01A</th>\n",
              "      <th>TCGA-ZJ-A8QO-01A</th>\n",
              "      <th>TCGA-C5-A1BL-01A</th>\n",
              "      <th>TCGA-C5-A1BI-01B</th>\n",
              "      <th>TCGA-UC-A7PF-01A</th>\n",
              "      <th>TCGA-VS-A8EG-01A</th>\n",
              "    </tr>\n",
              "  </thead>\n",
              "  <tbody>\n",
              "    <tr>\n",
              "      <th>0</th>\n",
              "      <td>cg00000029</td>\n",
              "      <td>0.084341</td>\n",
              "      <td>0.217599</td>\n",
              "      <td>0.348514</td>\n",
              "      <td>0.703774</td>\n",
              "      <td>0.322225</td>\n",
              "      <td>0.203221</td>\n",
              "      <td>0.093782</td>\n",
              "      <td>0.257746</td>\n",
              "      <td>0.435865</td>\n",
              "      <td>...</td>\n",
              "      <td>0.074921</td>\n",
              "      <td>0.411392</td>\n",
              "      <td>0.080410</td>\n",
              "      <td>0.594286</td>\n",
              "      <td>0.098144</td>\n",
              "      <td>0.368773</td>\n",
              "      <td>0.333850</td>\n",
              "      <td>0.449693</td>\n",
              "      <td>0.490224</td>\n",
              "      <td>0.197928</td>\n",
              "    </tr>\n",
              "    <tr>\n",
              "      <th>1</th>\n",
              "      <td>cg00000108</td>\n",
              "      <td>NaN</td>\n",
              "      <td>NaN</td>\n",
              "      <td>NaN</td>\n",
              "      <td>NaN</td>\n",
              "      <td>NaN</td>\n",
              "      <td>NaN</td>\n",
              "      <td>NaN</td>\n",
              "      <td>NaN</td>\n",
              "      <td>NaN</td>\n",
              "      <td>...</td>\n",
              "      <td>NaN</td>\n",
              "      <td>NaN</td>\n",
              "      <td>NaN</td>\n",
              "      <td>NaN</td>\n",
              "      <td>NaN</td>\n",
              "      <td>NaN</td>\n",
              "      <td>NaN</td>\n",
              "      <td>NaN</td>\n",
              "      <td>NaN</td>\n",
              "      <td>NaN</td>\n",
              "    </tr>\n",
              "    <tr>\n",
              "      <th>2</th>\n",
              "      <td>cg00000109</td>\n",
              "      <td>NaN</td>\n",
              "      <td>NaN</td>\n",
              "      <td>NaN</td>\n",
              "      <td>NaN</td>\n",
              "      <td>NaN</td>\n",
              "      <td>NaN</td>\n",
              "      <td>NaN</td>\n",
              "      <td>NaN</td>\n",
              "      <td>NaN</td>\n",
              "      <td>...</td>\n",
              "      <td>NaN</td>\n",
              "      <td>NaN</td>\n",
              "      <td>NaN</td>\n",
              "      <td>NaN</td>\n",
              "      <td>NaN</td>\n",
              "      <td>NaN</td>\n",
              "      <td>NaN</td>\n",
              "      <td>NaN</td>\n",
              "      <td>NaN</td>\n",
              "      <td>NaN</td>\n",
              "    </tr>\n",
              "    <tr>\n",
              "      <th>3</th>\n",
              "      <td>cg00000165</td>\n",
              "      <td>0.862416</td>\n",
              "      <td>0.869435</td>\n",
              "      <td>0.645666</td>\n",
              "      <td>0.515459</td>\n",
              "      <td>0.774517</td>\n",
              "      <td>0.861620</td>\n",
              "      <td>0.825762</td>\n",
              "      <td>0.813149</td>\n",
              "      <td>0.542959</td>\n",
              "      <td>...</td>\n",
              "      <td>0.772163</td>\n",
              "      <td>0.711280</td>\n",
              "      <td>0.879098</td>\n",
              "      <td>0.334947</td>\n",
              "      <td>0.643819</td>\n",
              "      <td>0.637827</td>\n",
              "      <td>0.847126</td>\n",
              "      <td>0.467152</td>\n",
              "      <td>0.540857</td>\n",
              "      <td>0.775251</td>\n",
              "    </tr>\n",
              "    <tr>\n",
              "      <th>4</th>\n",
              "      <td>cg00000236</td>\n",
              "      <td>0.911449</td>\n",
              "      <td>0.915369</td>\n",
              "      <td>0.892506</td>\n",
              "      <td>0.896557</td>\n",
              "      <td>0.935807</td>\n",
              "      <td>0.881156</td>\n",
              "      <td>0.877262</td>\n",
              "      <td>0.924667</td>\n",
              "      <td>0.915263</td>\n",
              "      <td>...</td>\n",
              "      <td>0.831091</td>\n",
              "      <td>0.897732</td>\n",
              "      <td>0.915891</td>\n",
              "      <td>0.895067</td>\n",
              "      <td>0.925493</td>\n",
              "      <td>0.933372</td>\n",
              "      <td>0.907454</td>\n",
              "      <td>0.901150</td>\n",
              "      <td>0.924488</td>\n",
              "      <td>0.923269</td>\n",
              "    </tr>\n",
              "    <tr>\n",
              "      <th>...</th>\n",
              "      <td>...</td>\n",
              "      <td>...</td>\n",
              "      <td>...</td>\n",
              "      <td>...</td>\n",
              "      <td>...</td>\n",
              "      <td>...</td>\n",
              "      <td>...</td>\n",
              "      <td>...</td>\n",
              "      <td>...</td>\n",
              "      <td>...</td>\n",
              "      <td>...</td>\n",
              "      <td>...</td>\n",
              "      <td>...</td>\n",
              "      <td>...</td>\n",
              "      <td>...</td>\n",
              "      <td>...</td>\n",
              "      <td>...</td>\n",
              "      <td>...</td>\n",
              "      <td>...</td>\n",
              "      <td>...</td>\n",
              "      <td>...</td>\n",
              "    </tr>\n",
              "    <tr>\n",
              "      <th>485572</th>\n",
              "      <td>rs9363764</td>\n",
              "      <td>0.593630</td>\n",
              "      <td>0.944792</td>\n",
              "      <td>0.929568</td>\n",
              "      <td>0.042645</td>\n",
              "      <td>0.910412</td>\n",
              "      <td>0.603064</td>\n",
              "      <td>0.814645</td>\n",
              "      <td>0.045627</td>\n",
              "      <td>0.957711</td>\n",
              "      <td>...</td>\n",
              "      <td>0.920156</td>\n",
              "      <td>0.946961</td>\n",
              "      <td>0.540200</td>\n",
              "      <td>0.919144</td>\n",
              "      <td>0.338718</td>\n",
              "      <td>0.774480</td>\n",
              "      <td>0.951442</td>\n",
              "      <td>0.478548</td>\n",
              "      <td>0.541264</td>\n",
              "      <td>0.568514</td>\n",
              "    </tr>\n",
              "    <tr>\n",
              "      <th>485573</th>\n",
              "      <td>rs939290</td>\n",
              "      <td>0.963226</td>\n",
              "      <td>0.535642</td>\n",
              "      <td>0.962273</td>\n",
              "      <td>0.967490</td>\n",
              "      <td>0.539177</td>\n",
              "      <td>0.192805</td>\n",
              "      <td>0.959718</td>\n",
              "      <td>0.965251</td>\n",
              "      <td>0.654634</td>\n",
              "      <td>...</td>\n",
              "      <td>0.878983</td>\n",
              "      <td>0.698642</td>\n",
              "      <td>0.961396</td>\n",
              "      <td>0.586752</td>\n",
              "      <td>0.957735</td>\n",
              "      <td>0.031237</td>\n",
              "      <td>0.966515</td>\n",
              "      <td>0.492561</td>\n",
              "      <td>0.395106</td>\n",
              "      <td>0.517844</td>\n",
              "    </tr>\n",
              "    <tr>\n",
              "      <th>485574</th>\n",
              "      <td>rs951295</td>\n",
              "      <td>0.522067</td>\n",
              "      <td>0.541811</td>\n",
              "      <td>0.541944</td>\n",
              "      <td>0.967364</td>\n",
              "      <td>0.464852</td>\n",
              "      <td>0.033636</td>\n",
              "      <td>0.961768</td>\n",
              "      <td>0.559166</td>\n",
              "      <td>0.511752</td>\n",
              "      <td>...</td>\n",
              "      <td>0.525866</td>\n",
              "      <td>0.967805</td>\n",
              "      <td>0.463418</td>\n",
              "      <td>0.059425</td>\n",
              "      <td>0.030484</td>\n",
              "      <td>0.974948</td>\n",
              "      <td>0.036970</td>\n",
              "      <td>0.046857</td>\n",
              "      <td>0.501203</td>\n",
              "      <td>0.511796</td>\n",
              "    </tr>\n",
              "    <tr>\n",
              "      <th>485575</th>\n",
              "      <td>rs966367</td>\n",
              "      <td>0.938175</td>\n",
              "      <td>0.473702</td>\n",
              "      <td>0.933118</td>\n",
              "      <td>0.931720</td>\n",
              "      <td>0.807193</td>\n",
              "      <td>0.944720</td>\n",
              "      <td>0.485604</td>\n",
              "      <td>0.029934</td>\n",
              "      <td>0.475043</td>\n",
              "      <td>...</td>\n",
              "      <td>0.047231</td>\n",
              "      <td>0.033025</td>\n",
              "      <td>0.571616</td>\n",
              "      <td>0.442153</td>\n",
              "      <td>0.496741</td>\n",
              "      <td>0.456292</td>\n",
              "      <td>0.030631</td>\n",
              "      <td>0.927601</td>\n",
              "      <td>0.524862</td>\n",
              "      <td>0.907202</td>\n",
              "    </tr>\n",
              "    <tr>\n",
              "      <th>485576</th>\n",
              "      <td>rs9839873</td>\n",
              "      <td>0.087861</td>\n",
              "      <td>0.941280</td>\n",
              "      <td>0.650911</td>\n",
              "      <td>0.062831</td>\n",
              "      <td>0.869965</td>\n",
              "      <td>0.920537</td>\n",
              "      <td>0.919316</td>\n",
              "      <td>0.059978</td>\n",
              "      <td>0.948530</td>\n",
              "      <td>...</td>\n",
              "      <td>0.808004</td>\n",
              "      <td>0.934311</td>\n",
              "      <td>0.900972</td>\n",
              "      <td>0.893294</td>\n",
              "      <td>0.082605</td>\n",
              "      <td>0.900759</td>\n",
              "      <td>0.920812</td>\n",
              "      <td>0.607766</td>\n",
              "      <td>0.763172</td>\n",
              "      <td>0.624453</td>\n",
              "    </tr>\n",
              "  </tbody>\n",
              "</table>\n",
              "<p>485577 rows × 313 columns</p>\n",
              "</div>\n",
              "      <button class=\"colab-df-convert\" onclick=\"convertToInteractive('df-586b2e9c-092f-4fbc-a3b3-ee937d1202d9')\"\n",
              "              title=\"Convert this dataframe to an interactive table.\"\n",
              "              style=\"display:none;\">\n",
              "        \n",
              "  <svg xmlns=\"http://www.w3.org/2000/svg\" height=\"24px\"viewBox=\"0 0 24 24\"\n",
              "       width=\"24px\">\n",
              "    <path d=\"M0 0h24v24H0V0z\" fill=\"none\"/>\n",
              "    <path d=\"M18.56 5.44l.94 2.06.94-2.06 2.06-.94-2.06-.94-.94-2.06-.94 2.06-2.06.94zm-11 1L8.5 8.5l.94-2.06 2.06-.94-2.06-.94L8.5 2.5l-.94 2.06-2.06.94zm10 10l.94 2.06.94-2.06 2.06-.94-2.06-.94-.94-2.06-.94 2.06-2.06.94z\"/><path d=\"M17.41 7.96l-1.37-1.37c-.4-.4-.92-.59-1.43-.59-.52 0-1.04.2-1.43.59L10.3 9.45l-7.72 7.72c-.78.78-.78 2.05 0 2.83L4 21.41c.39.39.9.59 1.41.59.51 0 1.02-.2 1.41-.59l7.78-7.78 2.81-2.81c.8-.78.8-2.07 0-2.86zM5.41 20L4 18.59l7.72-7.72 1.47 1.35L5.41 20z\"/>\n",
              "  </svg>\n",
              "      </button>\n",
              "      \n",
              "  <style>\n",
              "    .colab-df-container {\n",
              "      display:flex;\n",
              "      flex-wrap:wrap;\n",
              "      gap: 12px;\n",
              "    }\n",
              "\n",
              "    .colab-df-convert {\n",
              "      background-color: #E8F0FE;\n",
              "      border: none;\n",
              "      border-radius: 50%;\n",
              "      cursor: pointer;\n",
              "      display: none;\n",
              "      fill: #1967D2;\n",
              "      height: 32px;\n",
              "      padding: 0 0 0 0;\n",
              "      width: 32px;\n",
              "    }\n",
              "\n",
              "    .colab-df-convert:hover {\n",
              "      background-color: #E2EBFA;\n",
              "      box-shadow: 0px 1px 2px rgba(60, 64, 67, 0.3), 0px 1px 3px 1px rgba(60, 64, 67, 0.15);\n",
              "      fill: #174EA6;\n",
              "    }\n",
              "\n",
              "    [theme=dark] .colab-df-convert {\n",
              "      background-color: #3B4455;\n",
              "      fill: #D2E3FC;\n",
              "    }\n",
              "\n",
              "    [theme=dark] .colab-df-convert:hover {\n",
              "      background-color: #434B5C;\n",
              "      box-shadow: 0px 1px 3px 1px rgba(0, 0, 0, 0.15);\n",
              "      filter: drop-shadow(0px 1px 2px rgba(0, 0, 0, 0.3));\n",
              "      fill: #FFFFFF;\n",
              "    }\n",
              "  </style>\n",
              "\n",
              "      <script>\n",
              "        const buttonEl =\n",
              "          document.querySelector('#df-586b2e9c-092f-4fbc-a3b3-ee937d1202d9 button.colab-df-convert');\n",
              "        buttonEl.style.display =\n",
              "          google.colab.kernel.accessAllowed ? 'block' : 'none';\n",
              "\n",
              "        async function convertToInteractive(key) {\n",
              "          const element = document.querySelector('#df-586b2e9c-092f-4fbc-a3b3-ee937d1202d9');\n",
              "          const dataTable =\n",
              "            await google.colab.kernel.invokeFunction('convertToInteractive',\n",
              "                                                     [key], {});\n",
              "          if (!dataTable) return;\n",
              "\n",
              "          const docLinkHtml = 'Like what you see? Visit the ' +\n",
              "            '<a target=\"_blank\" href=https://colab.research.google.com/notebooks/data_table.ipynb>data table notebook</a>'\n",
              "            + ' to learn more about interactive tables.';\n",
              "          element.innerHTML = '';\n",
              "          dataTable['output_type'] = 'display_data';\n",
              "          await google.colab.output.renderOutput(dataTable, element);\n",
              "          const docLink = document.createElement('div');\n",
              "          docLink.innerHTML = docLinkHtml;\n",
              "          element.appendChild(docLink);\n",
              "        }\n",
              "      </script>\n",
              "    </div>\n",
              "  </div>\n",
              "  "
            ]
          },
          "metadata": {},
          "execution_count": 4
        }
      ]
    },
    {
      "cell_type": "code",
      "source": [
        "df.shape"
      ],
      "metadata": {
        "colab": {
          "base_uri": "https://localhost:8080/"
        },
        "id": "J1-O1PuYvdRv",
        "outputId": "a2bd2f24-2a4c-42b5-d834-55fbde49dcdd"
      },
      "execution_count": 5,
      "outputs": [
        {
          "output_type": "execute_result",
          "data": {
            "text/plain": [
              "(485577, 313)"
            ]
          },
          "metadata": {},
          "execution_count": 5
        }
      ]
    },
    {
      "cell_type": "code",
      "source": [
        "df.isna().all()"
      ],
      "metadata": {
        "colab": {
          "base_uri": "https://localhost:8080/"
        },
        "id": "ZbVsymFyVSzq",
        "outputId": "89f1670f-82f9-4eb9-b575-7cac9a577342"
      },
      "execution_count": 6,
      "outputs": [
        {
          "output_type": "execute_result",
          "data": {
            "text/plain": [
              "Composite Element REF    False\n",
              "TCGA-DS-A7WI-01A         False\n",
              "TCGA-EX-A449-01A         False\n",
              "TCGA-VS-A958-01A         False\n",
              "TCGA-MY-A5BE-01A         False\n",
              "                         ...  \n",
              "TCGA-ZJ-A8QO-01A         False\n",
              "TCGA-C5-A1BL-01A         False\n",
              "TCGA-C5-A1BI-01B         False\n",
              "TCGA-UC-A7PF-01A         False\n",
              "TCGA-VS-A8EG-01A         False\n",
              "Length: 313, dtype: bool"
            ]
          },
          "metadata": {},
          "execution_count": 6
        }
      ]
    },
    {
      "cell_type": "code",
      "source": [
        "all_true_columns = df.columns[df.isna().all()]\n",
        "\n",
        "# Display only the columns with all True values\n",
        "print(df[all_true_columns])"
      ],
      "metadata": {
        "colab": {
          "base_uri": "https://localhost:8080/"
        },
        "id": "S3_ceG4FvogQ",
        "outputId": "19c05be9-2726-48e6-f7da-dce6e43abec9"
      },
      "execution_count": 7,
      "outputs": [
        {
          "output_type": "stream",
          "name": "stdout",
          "text": [
            "Empty DataFrame\n",
            "Columns: []\n",
            "Index: [0, 1, 2, 3, 4, 5, 6, 7, 8, 9, 10, 11, 12, 13, 14, 15, 16, 17, 18, 19, 20, 21, 22, 23, 24, 25, 26, 27, 28, 29, 30, 31, 32, 33, 34, 35, 36, 37, 38, 39, 40, 41, 42, 43, 44, 45, 46, 47, 48, 49, 50, 51, 52, 53, 54, 55, 56, 57, 58, 59, 60, 61, 62, 63, 64, 65, 66, 67, 68, 69, 70, 71, 72, 73, 74, 75, 76, 77, 78, 79, 80, 81, 82, 83, 84, 85, 86, 87, 88, 89, 90, 91, 92, 93, 94, 95, 96, 97, 98, 99, ...]\n",
            "\n",
            "[485577 rows x 0 columns]\n"
          ]
        }
      ]
    },
    {
      "cell_type": "code",
      "source": [
        "all_true_rows = df[df.isna().all(axis=1)]\n",
        "\n",
        "# Display only the rows with all True values\n",
        "print(all_true_rows)"
      ],
      "metadata": {
        "colab": {
          "base_uri": "https://localhost:8080/"
        },
        "id": "MRQUx-88xAmB",
        "outputId": "6801d434-4236-4e6d-ba54-20d5bcaccc0d"
      },
      "execution_count": 8,
      "outputs": [
        {
          "output_type": "stream",
          "name": "stdout",
          "text": [
            "Empty DataFrame\n",
            "Columns: [Composite Element REF, TCGA-DS-A7WI-01A, TCGA-EX-A449-01A, TCGA-VS-A958-01A, TCGA-MY-A5BE-01A, TCGA-C5-A2LX-01A, TCGA-Q1-A73Q-01A, TCGA-DS-A0VM-01A, TCGA-C5-A8XI-01A, TCGA-FU-A3YQ-01A, TCGA-VS-A8EL-01A, TCGA-FU-A3WB-01A, TCGA-MA-AA41-01A, TCGA-IR-A3LK-01A, TCGA-C5-A8YT-01A, TCGA-EA-A5ZD-01A, TCGA-EA-A1QT-01A, TCGA-EA-A3QD-01A, TCGA-EK-A2RO-01A, TCGA-C5-A901-01A, TCGA-C5-A7CL-01A, TCGA-EK-A2RD-01A, TCGA-C5-A1BM-01A, TCGA-C5-A2LY-01A, TCGA-EA-A50E-01A, TCGA-ZJ-AAXU-01A, TCGA-HM-A6W2-01A, TCGA-EK-A2H1-01A, TCGA-JW-A852-01A, TCGA-C5-A1BE-01B, TCGA-C5-A1MN-01A, TCGA-BI-A0VR-01A, TCGA-VS-A9U7-01A, TCGA-DG-A2KK-01A, TCGA-ZJ-AB0I-01A, TCGA-LP-A4AX-01A, TCGA-ZJ-A8QR-01A, TCGA-C5-A7XC-01A, TCGA-EK-A3GK-01A, TCGA-VS-A9UT-01A, TCGA-C5-A8YR-01A, TCGA-VS-A94X-01A, TCGA-EK-A2PK-01A, TCGA-FU-A3EO-11A, TCGA-FU-A3HZ-01A, TCGA-MY-A5BF-01A, TCGA-C5-A2LT-01A, TCGA-WL-A834-01A, TCGA-FU-A40J-01A, TCGA-MU-A5YI-01A, TCGA-MA-AA3W-01A, TCGA-EK-A2PG-01A, TCGA-UC-A7PG-06A, TCGA-EA-A439-01A, TCGA-4J-AA1J-01A, TCGA-VS-A9UL-01A, TCGA-JW-A69B-01A, TCGA-ZX-AA5X-01A, TCGA-VS-A9V0-01A, TCGA-EA-A97N-01A, TCGA-Q1-A73S-01A, TCGA-ZJ-AAXA-01A, TCGA-DS-A0VL-01A, TCGA-C5-A1BN-01B, TCGA-EK-A2IR-01A, TCGA-C5-A2M1-01A, TCGA-C5-A7CJ-01A, TCGA-EA-A556-01A, TCGA-VS-A957-01A, TCGA-JX-A3PZ-01A, TCGA-EK-A2R7-01A, TCGA-EA-A4BA-01A, TCGA-VS-A9UM-01A, TCGA-HM-A6W2-06A, TCGA-C5-A7UE-01A, TCGA-JW-A5VI-01A, TCGA-VS-A9UD-01A, TCGA-VS-A952-01A, TCGA-DS-A1O9-01A, TCGA-LP-A5U3-01A, TCGA-BI-A0VS-01A, TCGA-C5-A2LS-01A, TCGA-IR-A3LH-01A, TCGA-EA-A3HS-01A, TCGA-MA-AA3X-01A, TCGA-FU-A23K-01A, TCGA-ZJ-AAXN-01A, TCGA-EA-A3HR-01A, TCGA-ZJ-AB0H-01A, TCGA-ZJ-A8QQ-01A, TCGA-DS-A3LQ-01A, TCGA-FU-A3TX-01A, TCGA-C5-A1ML-01A, TCGA-VS-A9UO-01A, TCGA-MA-AA3Z-01A, TCGA-EX-A3L1-01A, TCGA-C5-A7CM-01A, TCGA-ZJ-AAXF-01A, TCGA-C5-A3HF-01A, TCGA-2W-A8YY-01A, ...]\n",
            "Index: []\n",
            "\n",
            "[0 rows x 313 columns]\n"
          ]
        }
      ]
    },
    {
      "cell_type": "code",
      "source": [
        "#presentage of mising values in a column\n",
        "missing=df.isna().sum()/len(df)*100\n",
        "print(missing.head(15))"
      ],
      "metadata": {
        "colab": {
          "base_uri": "https://localhost:8080/"
        },
        "id": "PFTWknfBx59F",
        "outputId": "45986c51-81e0-4e3c-8f1f-f8544d44aa6b"
      },
      "execution_count": 9,
      "outputs": [
        {
          "output_type": "stream",
          "name": "stdout",
          "text": [
            "Composite Element REF     0.000000\n",
            "TCGA-DS-A7WI-01A         18.491197\n",
            "TCGA-EX-A449-01A         18.499641\n",
            "TCGA-VS-A958-01A         18.519205\n",
            "TCGA-MY-A5BE-01A         18.506849\n",
            "TCGA-C5-A2LX-01A         18.757890\n",
            "TCGA-Q1-A73Q-01A         18.704346\n",
            "TCGA-DS-A0VM-01A         18.524971\n",
            "TCGA-C5-A8XI-01A         18.636591\n",
            "TCGA-FU-A3YQ-01A         18.504377\n",
            "TCGA-VS-A8EL-01A         18.661922\n",
            "TCGA-FU-A3WB-01A         18.500876\n",
            "TCGA-MA-AA41-01A         18.542064\n",
            "TCGA-IR-A3LK-01A         18.506231\n",
            "TCGA-C5-A8YT-01A         18.726587\n",
            "dtype: float64\n"
          ]
        }
      ]
    },
    {
      "cell_type": "code",
      "source": [
        "print(missing.tail(15))"
      ],
      "metadata": {
        "colab": {
          "base_uri": "https://localhost:8080/"
        },
        "id": "grF8-6PyzOTd",
        "outputId": "4b901e36-59cd-4dd2-f4d8-804b632db761"
      },
      "execution_count": 10,
      "outputs": [
        {
          "output_type": "stream",
          "name": "stdout",
          "text": [
            "TCGA-DG-A2KL-01A    18.505407\n",
            "TCGA-UC-A7PG-01A    18.505201\n",
            "TCGA-EA-A5O9-01A    18.490373\n",
            "TCGA-LP-A5U2-01A    18.503759\n",
            "TCGA-JW-A5VG-01A    18.483165\n",
            "TCGA-ZJ-AAX4-01A    18.532591\n",
            "TCGA-EA-A3HU-01A    18.506849\n",
            "TCGA-EK-A2RM-01A    18.584488\n",
            "TCGA-DG-A2KM-01A    18.694254\n",
            "TCGA-VS-A8QC-01A    18.590049\n",
            "TCGA-ZJ-A8QO-01A    18.689106\n",
            "TCGA-C5-A1BL-01A    18.559981\n",
            "TCGA-C5-A1BI-01B    18.524354\n",
            "TCGA-UC-A7PF-01A    18.490991\n",
            "TCGA-VS-A8EG-01A    18.537122\n",
            "dtype: float64\n"
          ]
        }
      ]
    },
    {
      "cell_type": "code",
      "source": [
        "import matplotlib.pyplot as plt\n",
        "\n",
        "missing_columns = df.isna().sum()/len(df)*100\n",
        "missing_columns_filtered = missing_columns[(missing_columns >= 0) & (missing_columns <= 20)]\n",
        "\n",
        "plt.figure(figsize=(8, 6))\n",
        "plt.hist(missing_columns_filtered, bins=10, edgecolor='black')\n",
        "plt.xlabel('Missing Value Percentage')\n",
        "plt.ylabel('Count')\n",
        "plt.title('Range of Missing Values (0% - 20%)')\n",
        "plt.show()"
      ],
      "metadata": {
        "colab": {
          "base_uri": "https://localhost:8080/",
          "height": 564
        },
        "id": "0t7KLgYHALbR",
        "outputId": "68b5faa1-3814-4cc5-cab1-fd0552a7725c"
      },
      "execution_count": 11,
      "outputs": [
        {
          "output_type": "display_data",
          "data": {
            "text/plain": [
              "<Figure size 800x600 with 1 Axes>"
            ],
            "image/png": "[encoded data removed]"
          },
          "metadata": {}
        }
      ]
    },
    {
      "cell_type": "code",
      "source": [
        "#presentage of mising values in rows\n",
        "missing_rows=df.isna().sum(axis=1)/len(df)*100\n",
        "print(missing_rows.head(15))"
      ],
      "metadata": {
        "colab": {
          "base_uri": "https://localhost:8080/"
        },
        "id": "Vns9nvZNz1P7",
        "outputId": "ff891479-9d1d-4eba-83f8-0cbea513038f"
      },
      "execution_count": 12,
      "outputs": [
        {
          "output_type": "stream",
          "name": "stdout",
          "text": [
            "0     0.000000\n",
            "1     0.064253\n",
            "2     0.064253\n",
            "3     0.000000\n",
            "4     0.000000\n",
            "5     0.000000\n",
            "6     0.000000\n",
            "7     0.000000\n",
            "8     0.000000\n",
            "9     0.000000\n",
            "10    0.000000\n",
            "11    0.000000\n",
            "12    0.000000\n",
            "13    0.000000\n",
            "14    0.000000\n",
            "dtype: float64\n"
          ]
        }
      ]
    },
    {
      "cell_type": "code",
      "source": [
        "#only show missing value % > 0\n",
        "\n",
        "missing_rows = df.isna().sum(axis=1) / len(df) * 100\n",
        "missing_rows = missing_rows[missing_rows > 0]\n",
        "print(missing_rows)"
      ],
      "metadata": {
        "colab": {
          "base_uri": "https://localhost:8080/"
        },
        "id": "e2DDI-752pov",
        "outputId": "fb55c61b-0b6a-4059-cba1-83dad86fe61c"
      },
      "execution_count": 13,
      "outputs": [
        {
          "output_type": "stream",
          "name": "stdout",
          "text": [
            "1         0.064253\n",
            "2         0.064253\n",
            "15        0.064253\n",
            "16        0.064253\n",
            "21        0.064253\n",
            "            ...   \n",
            "485506    0.064253\n",
            "485508    0.064253\n",
            "485510    0.064253\n",
            "485511    0.064253\n",
            "485538    0.000412\n",
            "Length: 113440, dtype: float64\n"
          ]
        }
      ]
    },
    {
      "cell_type": "code",
      "source": [
        "missing_rows = df.isna().sum(axis=1) / len(df) * 100\n",
        "missing_rows_filtered = missing_rows[(missing_rows >= 0) & (missing_rows <= 10)]\n",
        "\n",
        "plt.figure(figsize=(8, 6))\n",
        "plt.hist(missing_rows_filtered, bins=10, edgecolor='black')\n",
        "plt.xlabel('Missing Value Percentage')\n",
        "plt.ylabel('Count')\n",
        "plt.title('Range of Missing Values (0% - 8%)')\n",
        "plt.show()"
      ],
      "metadata": {
        "colab": {
          "base_uri": "https://localhost:8080/",
          "height": 564
        },
        "id": "gOjdRqWe4WS9",
        "outputId": "044f6440-e0ec-467d-df0b-f4fbb6b318d7"
      },
      "execution_count": 14,
      "outputs": [
        {
          "output_type": "display_data",
          "data": {
            "text/plain": [
              "<Figure size 800x600 with 1 Axes>"
            ],
            "image/png": "[encoded data removed]"
          },
          "metadata": {}
        }
      ]
    },
    {
      "cell_type": "code",
      "source": [
        "#drop the rows in a df that have missing values more than 1%\n",
        "\n",
        "threshold = 0.01  # Set the threshold percentage\n",
        "\n",
        "rows_to_drop = missing_rows[missing_rows > threshold].index\n",
        "\n",
        "df_new = df.drop(rows_to_drop)"
      ],
      "metadata": {
        "id": "XgQWc_xh8vDE"
      },
      "execution_count": 15,
      "outputs": []
    },
    {
      "cell_type": "code",
      "source": [
        "df_new.shape"
      ],
      "metadata": {
        "colab": {
          "base_uri": "https://localhost:8080/"
        },
        "id": "Fg3LteV9DbP3",
        "outputId": "0da939a3-5d68-448a-abff-9e4434652dbf"
      },
      "execution_count": 16,
      "outputs": [
        {
          "output_type": "execute_result",
          "data": {
            "text/plain": [
              "(395155, 313)"
            ]
          },
          "metadata": {},
          "execution_count": 16
        }
      ]
    },
    {
      "cell_type": "code",
      "source": [
        "missing_rows_new = df_new.isna().sum(axis=1) / len(df_new) * 100\n",
        "missing_rows_filtered = missing_rows[(missing_rows_new >= 0) & (missing_rows <= 8)]\n",
        "\n",
        "plt.figure(figsize=(8, 6))\n",
        "plt.hist(missing_rows_filtered, bins=10, edgecolor='black')\n",
        "plt.xlabel('Missing Value Percentage')\n",
        "plt.ylabel('Count')\n",
        "plt.title('Range of Missing Values (0% - 8%)')\n",
        "plt.show()"
      ],
      "metadata": {
        "colab": {
          "base_uri": "https://localhost:8080/",
          "height": 564
        },
        "id": "5sNha0a6DfUT",
        "outputId": "c086e477-b866-47b1-afd9-5446e00d7884"
      },
      "execution_count": 17,
      "outputs": [
        {
          "output_type": "display_data",
          "data": {
            "text/plain": [
              "<Figure size 800x600 with 1 Axes>"
            ],
            "image/png": "[encoded data removed]"
          },
          "metadata": {}
        }
      ]
    },
    {
      "cell_type": "code",
      "source": [
        "#drop the rows in a df that have missing values\n",
        "\n",
        "threshold = 0.00  # Set the threshold percentage\n",
        "\n",
        "rows_to_drop = missing_rows[missing_rows > threshold].index\n",
        "\n",
        "df_new2 = df.drop(rows_to_drop)"
      ],
      "metadata": {
        "id": "FXLwoki8Gt7I"
      },
      "execution_count": 18,
      "outputs": []
    },
    {
      "cell_type": "code",
      "source": [
        "df_new2.shape"
      ],
      "metadata": {
        "colab": {
          "base_uri": "https://localhost:8080/"
        },
        "id": "VxGbSow9G09s",
        "outputId": "788e099f-e50f-4478-e60f-fb2d48f7d680"
      },
      "execution_count": 19,
      "outputs": [
        {
          "output_type": "execute_result",
          "data": {
            "text/plain": [
              "(372137, 313)"
            ]
          },
          "metadata": {},
          "execution_count": 19
        }
      ]
    },
    {
      "cell_type": "code",
      "source": [
        "#detect the total number of columns contains missing values\n",
        "df_new2.isna().any().sum()"
      ],
      "metadata": {
        "colab": {
          "base_uri": "https://localhost:8080/"
        },
        "id": "JQ0XYIbgG4O8",
        "outputId": "04e1c376-1a13-467d-e996-1c850693867b"
      },
      "execution_count": 20,
      "outputs": [
        {
          "output_type": "execute_result",
          "data": {
            "text/plain": [
              "0"
            ]
          },
          "metadata": {},
          "execution_count": 20
        }
      ]
    },
    {
      "cell_type": "code",
      "source": [
        "#check the total number of raws contains missing values\n",
        "df_new2.isna().any(axis=1).sum()"
      ],
      "metadata": {
        "colab": {
          "base_uri": "https://localhost:8080/"
        },
        "id": "z8WMOzOwHOK6",
        "outputId": "d09a46be-d9e1-48d6-8c75-2701090841af"
      },
      "execution_count": 21,
      "outputs": [
        {
          "output_type": "execute_result",
          "data": {
            "text/plain": [
              "0"
            ]
          },
          "metadata": {},
          "execution_count": 21
        }
      ]
    },
    {
      "cell_type": "code",
      "source": [
        "#checking duplicated rows\n",
        "num_duplicates = sum(df.duplicated())\n",
        "print(num_duplicates)"
      ],
      "metadata": {
        "colab": {
          "base_uri": "https://localhost:8080/"
        },
        "id": "Odo_q0jtHd0E",
        "outputId": "e21ab3ab-a26e-4b72-80dd-82f57f0d81bc"
      },
      "execution_count": 22,
      "outputs": [
        {
          "output_type": "stream",
          "name": "stdout",
          "text": [
            "0\n"
          ]
        }
      ]
    },
    {
      "cell_type": "code",
      "source": [
        "#checking duplicated columns\n",
        "num_duplicates = sum(df.columns.duplicated())\n",
        "print(num_duplicates)"
      ],
      "metadata": {
        "colab": {
          "base_uri": "https://localhost:8080/"
        },
        "id": "1U8oy9XHILfE",
        "outputId": "8ed87174-e4fd-4f17-98b1-838e6ea732d5"
      },
      "execution_count": 23,
      "outputs": [
        {
          "output_type": "stream",
          "name": "stdout",
          "text": [
            "0\n"
          ]
        }
      ]
    },
    {
      "cell_type": "code",
      "source": [
        "import numpy as np\n",
        "\n",
        "# Calculate the z-scores for each column in df_new2\n",
        "z_scores = np.abs((df_new2 - df_new2.mean()) / df_new2.std())\n",
        "\n",
        "# Define a threshold value for z-score (e.g., 3)\n",
        "threshold = 3\n",
        "\n",
        "# Identify outliers by checking if z-scores exceed the threshold\n",
        "outliers = df_new2[z_scores > threshold]\n",
        "\n",
        "# Calculate the sum of outliers\n",
        "sum_of_outliers = outliers.sum().sum()\n",
        "\n",
        "# Print the sum of outliers\n",
        "print(sum_of_outliers)"
      ],
      "metadata": {
        "colab": {
          "base_uri": "https://localhost:8080/"
        },
        "id": "-W58vyS1IlL1",
        "outputId": "61051682-4d1a-44dd-e24b-ec6c5d121639"
      },
      "execution_count": 24,
      "outputs": [
        {
          "output_type": "stream",
          "name": "stderr",
          "text": [
            "<ipython-input-24-12b4bfe573d8>:4: FutureWarning: The default value of numeric_only in DataFrame.mean is deprecated. In a future version, it will default to False. In addition, specifying 'numeric_only=None' is deprecated. Select only valid columns or specify the value of numeric_only to silence this warning.\n",
            "  z_scores = np.abs((df_new2 - df_new2.mean()) / df_new2.std())\n",
            "<ipython-input-24-12b4bfe573d8>:4: FutureWarning: The default value of numeric_only in DataFrame.std is deprecated. In a future version, it will default to False. In addition, specifying 'numeric_only=None' is deprecated. Select only valid columns or specify the value of numeric_only to silence this warning.\n",
            "  z_scores = np.abs((df_new2 - df_new2.mean()) / df_new2.std())\n"
          ]
        },
        {
          "output_type": "stream",
          "name": "stdout",
          "text": [
            "0.0\n"
          ]
        }
      ]
    },
    {
      "cell_type": "code",
      "source": [
        "#check categorical values\n",
        "num_categorical_values = df.select_dtypes(include=['object']).nunique().sum()\n",
        "print(num_categorical_values)"
      ],
      "metadata": {
        "colab": {
          "base_uri": "https://localhost:8080/"
        },
        "id": "UzmabiUPNz6B",
        "outputId": "702bb241-1245-4838-ab8b-6cdb57345200"
      },
      "execution_count": 25,
      "outputs": [
        {
          "output_type": "stream",
          "name": "stdout",
          "text": [
            "485577\n"
          ]
        }
      ]
    },
    {
      "cell_type": "code",
      "source": [
        "data_types = df.dtypes\n",
        "print(data_types)"
      ],
      "metadata": {
        "colab": {
          "base_uri": "https://localhost:8080/"
        },
        "id": "gd4LjMD0SZJu",
        "outputId": "ce68c6da-ce41-40c2-b9e9-7ffc27a9c4ad"
      },
      "execution_count": 26,
      "outputs": [
        {
          "output_type": "stream",
          "name": "stdout",
          "text": [
            "Composite Element REF     object\n",
            "TCGA-DS-A7WI-01A         float64\n",
            "TCGA-EX-A449-01A         float64\n",
            "TCGA-VS-A958-01A         float64\n",
            "TCGA-MY-A5BE-01A         float64\n",
            "                          ...   \n",
            "TCGA-ZJ-A8QO-01A         float64\n",
            "TCGA-C5-A1BL-01A         float64\n",
            "TCGA-C5-A1BI-01B         float64\n",
            "TCGA-UC-A7PF-01A         float64\n",
            "TCGA-VS-A8EG-01A         float64\n",
            "Length: 313, dtype: object\n"
          ]
        }
      ]
    },
    {
      "cell_type": "code",
      "source": [
        "# Select columns with categorical data types\n",
        "categorical_columns = df.select_dtypes(include=['object', 'category']).columns\n",
        "categorical_columns"
      ],
      "metadata": {
        "colab": {
          "base_uri": "https://localhost:8080/"
        },
        "id": "frP54VT2S8YM",
        "outputId": "17745aa6-84fa-48ad-9834-b7eb997f6701"
      },
      "execution_count": 27,
      "outputs": [
        {
          "output_type": "execute_result",
          "data": {
            "text/plain": [
              "Index(['Composite Element REF'], dtype='object')"
            ]
          },
          "metadata": {},
          "execution_count": 27
        }
      ]
    },
    {
      "cell_type": "code",
      "source": [
        "df_new2"
      ],
      "metadata": {
        "colab": {
          "base_uri": "https://localhost:8080/",
          "height": 540
        },
        "id": "-kZeomJn6dnJ",
        "outputId": "0560171d-92b4-4582-f4f2-e7a55014b0eb"
      },
      "execution_count": 28,
      "outputs": [
        {
          "output_type": "execute_result",
          "data": {
            "text/plain": [
              "       Composite Element REF  TCGA-DS-A7WI-01A  TCGA-EX-A449-01A  \\\n",
              "0                 cg00000029          0.084341          0.217599   \n",
              "3                 cg00000165          0.862416          0.869435   \n",
              "4                 cg00000236          0.911449          0.915369   \n",
              "5                 cg00000289          0.728826          0.726635   \n",
              "6                 cg00000292          0.628332          0.857309   \n",
              "...                      ...               ...               ...   \n",
              "485572             rs9363764          0.593630          0.944792   \n",
              "485573              rs939290          0.963226          0.535642   \n",
              "485574              rs951295          0.522067          0.541811   \n",
              "485575              rs966367          0.938175          0.473702   \n",
              "485576             rs9839873          0.087861          0.941280   \n",
              "\n",
              "        TCGA-VS-A958-01A  TCGA-MY-A5BE-01A  TCGA-C5-A2LX-01A  \\\n",
              "0               0.348514          0.703774          0.322225   \n",
              "3               0.645666          0.515459          0.774517   \n",
              "4               0.892506          0.896557          0.935807   \n",
              "5               0.634589          0.647427          0.576459   \n",
              "6               0.483746          0.823288          0.479188   \n",
              "...                  ...               ...               ...   \n",
              "485572          0.929568          0.042645          0.910412   \n",
              "485573          0.962273          0.967490          0.539177   \n",
              "485574          0.541944          0.967364          0.464852   \n",
              "485575          0.933118          0.931720          0.807193   \n",
              "485576          0.650911          0.062831          0.869965   \n",
              "\n",
              "        TCGA-Q1-A73Q-01A  TCGA-DS-A0VM-01A  TCGA-C5-A8XI-01A  \\\n",
              "0               0.203221          0.093782          0.257746   \n",
              "3               0.861620          0.825762          0.813149   \n",
              "4               0.881156          0.877262          0.924667   \n",
              "5               0.620439          0.745278          0.661526   \n",
              "6               0.296155          0.588792          0.631094   \n",
              "...                  ...               ...               ...   \n",
              "485572          0.603064          0.814645          0.045627   \n",
              "485573          0.192805          0.959718          0.965251   \n",
              "485574          0.033636          0.961768          0.559166   \n",
              "485575          0.944720          0.485604          0.029934   \n",
              "485576          0.920537          0.919316          0.059978   \n",
              "\n",
              "        TCGA-FU-A3YQ-01A  ...  TCGA-ZJ-AAX4-01A  TCGA-EA-A3HU-01A  \\\n",
              "0               0.435865  ...          0.074921          0.411392   \n",
              "3               0.542959  ...          0.772163          0.711280   \n",
              "4               0.915263  ...          0.831091          0.897732   \n",
              "5               0.787273  ...          0.597257          0.617074   \n",
              "6               0.708136  ...          0.659276          0.447842   \n",
              "...                  ...  ...               ...               ...   \n",
              "485572          0.957711  ...          0.920156          0.946961   \n",
              "485573          0.654634  ...          0.878983          0.698642   \n",
              "485574          0.511752  ...          0.525866          0.967805   \n",
              "485575          0.475043  ...          0.047231          0.033025   \n",
              "485576          0.948530  ...          0.808004          0.934311   \n",
              "\n",
              "        TCGA-EK-A2RM-01A  TCGA-DG-A2KM-01A  TCGA-VS-A8QC-01A  \\\n",
              "0               0.080410          0.594286          0.098144   \n",
              "3               0.879098          0.334947          0.643819   \n",
              "4               0.915891          0.895067          0.925493   \n",
              "5               0.572886          0.691406          0.685687   \n",
              "6               0.712292          0.738817          0.519086   \n",
              "...                  ...               ...               ...   \n",
              "485572          0.540200          0.919144          0.338718   \n",
              "485573          0.961396          0.586752          0.957735   \n",
              "485574          0.463418          0.059425          0.030484   \n",
              "485575          0.571616          0.442153          0.496741   \n",
              "485576          0.900972          0.893294          0.082605   \n",
              "\n",
              "        TCGA-ZJ-A8QO-01A  TCGA-C5-A1BL-01A  TCGA-C5-A1BI-01B  \\\n",
              "0               0.368773          0.333850          0.449693   \n",
              "3               0.637827          0.847126          0.467152   \n",
              "4               0.933372          0.907454          0.901150   \n",
              "5               0.598285          0.728823          0.658327   \n",
              "6               0.743049          0.478406          0.572936   \n",
              "...                  ...               ...               ...   \n",
              "485572          0.774480          0.951442          0.478548   \n",
              "485573          0.031237          0.966515          0.492561   \n",
              "485574          0.974948          0.036970          0.046857   \n",
              "485575          0.456292          0.030631          0.927601   \n",
              "485576          0.900759          0.920812          0.607766   \n",
              "\n",
              "        TCGA-UC-A7PF-01A  TCGA-VS-A8EG-01A  \n",
              "0               0.490224          0.197928  \n",
              "3               0.540857          0.775251  \n",
              "4               0.924488          0.923269  \n",
              "5               0.682566          0.738803  \n",
              "6               0.569996          0.599585  \n",
              "...                  ...               ...  \n",
              "485572          0.541264          0.568514  \n",
              "485573          0.395106          0.517844  \n",
              "485574          0.501203          0.511796  \n",
              "485575          0.524862          0.907202  \n",
              "485576          0.763172          0.624453  \n",
              "\n",
              "[372137 rows x 313 columns]"
            ],
            "text/html": [
              "\n",
              "  <div id=\"df-cf407b4f-1143-44dc-865d-dba594006ea1\">\n",
              "    <div class=\"colab-df-container\">\n",
              "      <div>\n",
              "<style scoped>\n",
              "    .dataframe tbody tr th:only-of-type {\n",
              "        vertical-align: middle;\n",
              "    }\n",
              "\n",
              "    .dataframe tbody tr th {\n",
              "        vertical-align: top;\n",
              "    }\n",
              "\n",
              "    .dataframe thead th {\n",
              "        text-align: right;\n",
              "    }\n",
              "</style>\n",
              "<table border=\"1\" class=\"dataframe\">\n",
              "  <thead>\n",
              "    <tr style=\"text-align: right;\">\n",
              "      <th></th>\n",
              "      <th>Composite Element REF</th>\n",
              "      <th>TCGA-DS-A7WI-01A</th>\n",
              "      <th>TCGA-EX-A449-01A</th>\n",
              "      <th>TCGA-VS-A958-01A</th>\n",
              "      <th>TCGA-MY-A5BE-01A</th>\n",
              "      <th>TCGA-C5-A2LX-01A</th>\n",
              "      <th>TCGA-Q1-A73Q-01A</th>\n",
              "      <th>TCGA-DS-A0VM-01A</th>\n",
              "      <th>TCGA-C5-A8XI-01A</th>\n",
              "      <th>TCGA-FU-A3YQ-01A</th>\n",
              "      <th>...</th>\n",
              "      <th>TCGA-ZJ-AAX4-01A</th>\n",
              "      <th>TCGA-EA-A3HU-01A</th>\n",
              "      <th>TCGA-EK-A2RM-01A</th>\n",
              "      <th>TCGA-DG-A2KM-01A</th>\n",
              "      <th>TCGA-VS-A8QC-01A</th>\n",
              "      <th>TCGA-ZJ-A8QO-01A</th>\n",
              "      <th>TCGA-C5-A1BL-01A</th>\n",
              "      <th>TCGA-C5-A1BI-01B</th>\n",
              "      <th>TCGA-UC-A7PF-01A</th>\n",
              "      <th>TCGA-VS-A8EG-01A</th>\n",
              "    </tr>\n",
              "  </thead>\n",
              "  <tbody>\n",
              "    <tr>\n",
              "      <th>0</th>\n",
              "      <td>cg00000029</td>\n",
              "      <td>0.084341</td>\n",
              "      <td>0.217599</td>\n",
              "      <td>0.348514</td>\n",
              "      <td>0.703774</td>\n",
              "      <td>0.322225</td>\n",
              "      <td>0.203221</td>\n",
              "      <td>0.093782</td>\n",
              "      <td>0.257746</td>\n",
              "      <td>0.435865</td>\n",
              "      <td>...</td>\n",
              "      <td>0.074921</td>\n",
              "      <td>0.411392</td>\n",
              "      <td>0.080410</td>\n",
              "      <td>0.594286</td>\n",
              "      <td>0.098144</td>\n",
              "      <td>0.368773</td>\n",
              "      <td>0.333850</td>\n",
              "      <td>0.449693</td>\n",
              "      <td>0.490224</td>\n",
              "      <td>0.197928</td>\n",
              "    </tr>\n",
              "    <tr>\n",
              "      <th>3</th>\n",
              "      <td>cg00000165</td>\n",
              "      <td>0.862416</td>\n",
              "      <td>0.869435</td>\n",
              "      <td>0.645666</td>\n",
              "      <td>0.515459</td>\n",
              "      <td>0.774517</td>\n",
              "      <td>0.861620</td>\n",
              "      <td>0.825762</td>\n",
              "      <td>0.813149</td>\n",
              "      <td>0.542959</td>\n",
              "      <td>...</td>\n",
              "      <td>0.772163</td>\n",
              "      <td>0.711280</td>\n",
              "      <td>0.879098</td>\n",
              "      <td>0.334947</td>\n",
              "      <td>0.643819</td>\n",
              "      <td>0.637827</td>\n",
              "      <td>0.847126</td>\n",
              "      <td>0.467152</td>\n",
              "      <td>0.540857</td>\n",
              "      <td>0.775251</td>\n",
              "    </tr>\n",
              "    <tr>\n",
              "      <th>4</th>\n",
              "      <td>cg00000236</td>\n",
              "      <td>0.911449</td>\n",
              "      <td>0.915369</td>\n",
              "      <td>0.892506</td>\n",
              "      <td>0.896557</td>\n",
              "      <td>0.935807</td>\n",
              "      <td>0.881156</td>\n",
              "      <td>0.877262</td>\n",
              "      <td>0.924667</td>\n",
              "      <td>0.915263</td>\n",
              "      <td>...</td>\n",
              "      <td>0.831091</td>\n",
              "      <td>0.897732</td>\n",
              "      <td>0.915891</td>\n",
              "      <td>0.895067</td>\n",
              "      <td>0.925493</td>\n",
              "      <td>0.933372</td>\n",
              "      <td>0.907454</td>\n",
              "      <td>0.901150</td>\n",
              "      <td>0.924488</td>\n",
              "      <td>0.923269</td>\n",
              "    </tr>\n",
              "    <tr>\n",
              "      <th>5</th>\n",
              "      <td>cg00000289</td>\n",
              "      <td>0.728826</td>\n",
              "      <td>0.726635</td>\n",
              "      <td>0.634589</td>\n",
              "      <td>0.647427</td>\n",
              "      <td>0.576459</td>\n",
              "      <td>0.620439</td>\n",
              "      <td>0.745278</td>\n",
              "      <td>0.661526</td>\n",
              "      <td>0.787273</td>\n",
              "      <td>...</td>\n",
              "      <td>0.597257</td>\n",
              "      <td>0.617074</td>\n",
              "      <td>0.572886</td>\n",
              "      <td>0.691406</td>\n",
              "      <td>0.685687</td>\n",
              "      <td>0.598285</td>\n",
              "      <td>0.728823</td>\n",
              "      <td>0.658327</td>\n",
              "      <td>0.682566</td>\n",
              "      <td>0.738803</td>\n",
              "    </tr>\n",
              "    <tr>\n",
              "      <th>6</th>\n",
              "      <td>cg00000292</td>\n",
              "      <td>0.628332</td>\n",
              "      <td>0.857309</td>\n",
              "      <td>0.483746</td>\n",
              "      <td>0.823288</td>\n",
              "      <td>0.479188</td>\n",
              "      <td>0.296155</td>\n",
              "      <td>0.588792</td>\n",
              "      <td>0.631094</td>\n",
              "      <td>0.708136</td>\n",
              "      <td>...</td>\n",
              "      <td>0.659276</td>\n",
              "      <td>0.447842</td>\n",
              "      <td>0.712292</td>\n",
              "      <td>0.738817</td>\n",
              "      <td>0.519086</td>\n",
              "      <td>0.743049</td>\n",
              "      <td>0.478406</td>\n",
              "      <td>0.572936</td>\n",
              "      <td>0.569996</td>\n",
              "      <td>0.599585</td>\n",
              "    </tr>\n",
              "    <tr>\n",
              "      <th>...</th>\n",
              "      <td>...</td>\n",
              "      <td>...</td>\n",
              "      <td>...</td>\n",
              "      <td>...</td>\n",
              "      <td>...</td>\n",
              "      <td>...</td>\n",
              "      <td>...</td>\n",
              "      <td>...</td>\n",
              "      <td>...</td>\n",
              "      <td>...</td>\n",
              "      <td>...</td>\n",
              "      <td>...</td>\n",
              "      <td>...</td>\n",
              "      <td>...</td>\n",
              "      <td>...</td>\n",
              "      <td>...</td>\n",
              "      <td>...</td>\n",
              "      <td>...</td>\n",
              "      <td>...</td>\n",
              "      <td>...</td>\n",
              "      <td>...</td>\n",
              "    </tr>\n",
              "    <tr>\n",
              "      <th>485572</th>\n",
              "      <td>rs9363764</td>\n",
              "      <td>0.593630</td>\n",
              "      <td>0.944792</td>\n",
              "      <td>0.929568</td>\n",
              "      <td>0.042645</td>\n",
              "      <td>0.910412</td>\n",
              "      <td>0.603064</td>\n",
              "      <td>0.814645</td>\n",
              "      <td>0.045627</td>\n",
              "      <td>0.957711</td>\n",
              "      <td>...</td>\n",
              "      <td>0.920156</td>\n",
              "      <td>0.946961</td>\n",
              "      <td>0.540200</td>\n",
              "      <td>0.919144</td>\n",
              "      <td>0.338718</td>\n",
              "      <td>0.774480</td>\n",
              "      <td>0.951442</td>\n",
              "      <td>0.478548</td>\n",
              "      <td>0.541264</td>\n",
              "      <td>0.568514</td>\n",
              "    </tr>\n",
              "    <tr>\n",
              "      <th>485573</th>\n",
              "      <td>rs939290</td>\n",
              "      <td>0.963226</td>\n",
              "      <td>0.535642</td>\n",
              "      <td>0.962273</td>\n",
              "      <td>0.967490</td>\n",
              "      <td>0.539177</td>\n",
              "      <td>0.192805</td>\n",
              "      <td>0.959718</td>\n",
              "      <td>0.965251</td>\n",
              "      <td>0.654634</td>\n",
              "      <td>...</td>\n",
              "      <td>0.878983</td>\n",
              "      <td>0.698642</td>\n",
              "      <td>0.961396</td>\n",
              "      <td>0.586752</td>\n",
              "      <td>0.957735</td>\n",
              "      <td>0.031237</td>\n",
              "      <td>0.966515</td>\n",
              "      <td>0.492561</td>\n",
              "      <td>0.395106</td>\n",
              "      <td>0.517844</td>\n",
              "    </tr>\n",
              "    <tr>\n",
              "      <th>485574</th>\n",
              "      <td>rs951295</td>\n",
              "      <td>0.522067</td>\n",
              "      <td>0.541811</td>\n",
              "      <td>0.541944</td>\n",
              "      <td>0.967364</td>\n",
              "      <td>0.464852</td>\n",
              "      <td>0.033636</td>\n",
              "      <td>0.961768</td>\n",
              "      <td>0.559166</td>\n",
              "      <td>0.511752</td>\n",
              "      <td>...</td>\n",
              "      <td>0.525866</td>\n",
              "      <td>0.967805</td>\n",
              "      <td>0.463418</td>\n",
              "      <td>0.059425</td>\n",
              "      <td>0.030484</td>\n",
              "      <td>0.974948</td>\n",
              "      <td>0.036970</td>\n",
              "      <td>0.046857</td>\n",
              "      <td>0.501203</td>\n",
              "      <td>0.511796</td>\n",
              "    </tr>\n",
              "    <tr>\n",
              "      <th>485575</th>\n",
              "      <td>rs966367</td>\n",
              "      <td>0.938175</td>\n",
              "      <td>0.473702</td>\n",
              "      <td>0.933118</td>\n",
              "      <td>0.931720</td>\n",
              "      <td>0.807193</td>\n",
              "      <td>0.944720</td>\n",
              "      <td>0.485604</td>\n",
              "      <td>0.029934</td>\n",
              "      <td>0.475043</td>\n",
              "      <td>...</td>\n",
              "      <td>0.047231</td>\n",
              "      <td>0.033025</td>\n",
              "      <td>0.571616</td>\n",
              "      <td>0.442153</td>\n",
              "      <td>0.496741</td>\n",
              "      <td>0.456292</td>\n",
              "      <td>0.030631</td>\n",
              "      <td>0.927601</td>\n",
              "      <td>0.524862</td>\n",
              "      <td>0.907202</td>\n",
              "    </tr>\n",
              "    <tr>\n",
              "      <th>485576</th>\n",
              "      <td>rs9839873</td>\n",
              "      <td>0.087861</td>\n",
              "      <td>0.941280</td>\n",
              "      <td>0.650911</td>\n",
              "      <td>0.062831</td>\n",
              "      <td>0.869965</td>\n",
              "      <td>0.920537</td>\n",
              "      <td>0.919316</td>\n",
              "      <td>0.059978</td>\n",
              "      <td>0.948530</td>\n",
              "      <td>...</td>\n",
              "      <td>0.808004</td>\n",
              "      <td>0.934311</td>\n",
              "      <td>0.900972</td>\n",
              "      <td>0.893294</td>\n",
              "      <td>0.082605</td>\n",
              "      <td>0.900759</td>\n",
              "      <td>0.920812</td>\n",
              "      <td>0.607766</td>\n",
              "      <td>0.763172</td>\n",
              "      <td>0.624453</td>\n",
              "    </tr>\n",
              "  </tbody>\n",
              "</table>\n",
              "<p>372137 rows × 313 columns</p>\n",
              "</div>\n",
              "      <button class=\"colab-df-convert\" onclick=\"convertToInteractive('df-cf407b4f-1143-44dc-865d-dba594006ea1')\"\n",
              "              title=\"Convert this dataframe to an interactive table.\"\n",
              "              style=\"display:none;\">\n",
              "        \n",
              "  <svg xmlns=\"http://www.w3.org/2000/svg\" height=\"24px\"viewBox=\"0 0 24 24\"\n",
              "       width=\"24px\">\n",
              "    <path d=\"M0 0h24v24H0V0z\" fill=\"none\"/>\n",
              "    <path d=\"M18.56 5.44l.94 2.06.94-2.06 2.06-.94-2.06-.94-.94-2.06-.94 2.06-2.06.94zm-11 1L8.5 8.5l.94-2.06 2.06-.94-2.06-.94L8.5 2.5l-.94 2.06-2.06.94zm10 10l.94 2.06.94-2.06 2.06-.94-2.06-.94-.94-2.06-.94 2.06-2.06.94z\"/><path d=\"M17.41 7.96l-1.37-1.37c-.4-.4-.92-.59-1.43-.59-.52 0-1.04.2-1.43.59L10.3 9.45l-7.72 7.72c-.78.78-.78 2.05 0 2.83L4 21.41c.39.39.9.59 1.41.59.51 0 1.02-.2 1.41-.59l7.78-7.78 2.81-2.81c.8-.78.8-2.07 0-2.86zM5.41 20L4 18.59l7.72-7.72 1.47 1.35L5.41 20z\"/>\n",
              "  </svg>\n",
              "      </button>\n",
              "      \n",
              "  <style>\n",
              "    .colab-df-container {\n",
              "      display:flex;\n",
              "      flex-wrap:wrap;\n",
              "      gap: 12px;\n",
              "    }\n",
              "\n",
              "    .colab-df-convert {\n",
              "      background-color: #E8F0FE;\n",
              "      border: none;\n",
              "      border-radius: 50%;\n",
              "      cursor: pointer;\n",
              "      display: none;\n",
              "      fill: #1967D2;\n",
              "      height: 32px;\n",
              "      padding: 0 0 0 0;\n",
              "      width: 32px;\n",
              "    }\n",
              "\n",
              "    .colab-df-convert:hover {\n",
              "      background-color: #E2EBFA;\n",
              "      box-shadow: 0px 1px 2px rgba(60, 64, 67, 0.3), 0px 1px 3px 1px rgba(60, 64, 67, 0.15);\n",
              "      fill: #174EA6;\n",
              "    }\n",
              "\n",
              "    [theme=dark] .colab-df-convert {\n",
              "      background-color: #3B4455;\n",
              "      fill: #D2E3FC;\n",
              "    }\n",
              "\n",
              "    [theme=dark] .colab-df-convert:hover {\n",
              "      background-color: #434B5C;\n",
              "      box-shadow: 0px 1px 3px 1px rgba(0, 0, 0, 0.15);\n",
              "      filter: drop-shadow(0px 1px 2px rgba(0, 0, 0, 0.3));\n",
              "      fill: #FFFFFF;\n",
              "    }\n",
              "  </style>\n",
              "\n",
              "      <script>\n",
              "        const buttonEl =\n",
              "          document.querySelector('#df-cf407b4f-1143-44dc-865d-dba594006ea1 button.colab-df-convert');\n",
              "        buttonEl.style.display =\n",
              "          google.colab.kernel.accessAllowed ? 'block' : 'none';\n",
              "\n",
              "        async function convertToInteractive(key) {\n",
              "          const element = document.querySelector('#df-cf407b4f-1143-44dc-865d-dba594006ea1');\n",
              "          const dataTable =\n",
              "            await google.colab.kernel.invokeFunction('convertToInteractive',\n",
              "                                                     [key], {});\n",
              "          if (!dataTable) return;\n",
              "\n",
              "          const docLinkHtml = 'Like what you see? Visit the ' +\n",
              "            '<a target=\"_blank\" href=https://colab.research.google.com/notebooks/data_table.ipynb>data table notebook</a>'\n",
              "            + ' to learn more about interactive tables.';\n",
              "          element.innerHTML = '';\n",
              "          dataTable['output_type'] = 'display_data';\n",
              "          await google.colab.output.renderOutput(dataTable, element);\n",
              "          const docLink = document.createElement('div');\n",
              "          docLink.innerHTML = docLinkHtml;\n",
              "          element.appendChild(docLink);\n",
              "        }\n",
              "      </script>\n",
              "    </div>\n",
              "  </div>\n",
              "  "
            ]
          },
          "metadata": {},
          "execution_count": 28
        }
      ]
    },
    {
      "cell_type": "code",
      "source": [
        "numeric_data = df_new2.select_dtypes(include=np.number)\n",
        "ranges = numeric_data.max() - numeric_data.min()\n",
        "needs_normalization = any(ranges > 1)\n",
        "needs_normalization"
      ],
      "metadata": {
        "colab": {
          "base_uri": "https://localhost:8080/"
        },
        "id": "xDaSXX52UTzd",
        "outputId": "eba5a702-8acf-456e-81ae-7e0144845fd3"
      },
      "execution_count": 29,
      "outputs": [
        {
          "output_type": "execute_result",
          "data": {
            "text/plain": [
              "False"
            ]
          },
          "metadata": {},
          "execution_count": 29
        }
      ]
    },
    {
      "cell_type": "code",
      "source": [
        "df_new2.shape"
      ],
      "metadata": {
        "colab": {
          "base_uri": "https://localhost:8080/"
        },
        "id": "GWrMxkshPzu1",
        "outputId": "ba861d28-4bd5-484d-854a-2c2359624bd3"
      },
      "execution_count": 30,
      "outputs": [
        {
          "output_type": "execute_result",
          "data": {
            "text/plain": [
              "(372137, 313)"
            ]
          },
          "metadata": {},
          "execution_count": 30
        }
      ]
    },
    {
      "cell_type": "code",
      "source": [
        "# Define the file path in Google Drive\n",
        "file_path = '/content/drive/MyDrive/RESEACH/Data-GDC-TCGA-Cervical-Cancer/Preprocessed-data/data_preparation_methilation450K.csv'\n",
        "\n",
        "# Write DataFrame to CSV file\n",
        "df_new2.to_csv(file_path, index=False)"
      ],
      "metadata": {
        "id": "rJ2EVO7v6vBW"
      },
      "execution_count": 32,
      "outputs": []
    }
  ]
}